{
 "cells": [
  {
   "cell_type": "code",
   "execution_count": 1,
   "id": "899a34e4-cb9d-47da-b6ec-09bebb654693",
   "metadata": {},
   "outputs": [],
   "source": [
    "import numpy as np"
   ]
  },
  {
   "cell_type": "markdown",
   "id": "fd33fad1-c0a2-4f63-b011-67be6d440c45",
   "metadata": {},
   "source": [
    "# operations on array"
   ]
  },
  {
   "cell_type": "code",
   "execution_count": 4,
   "id": "8ac8f108-6402-40f9-9fd6-5e9a03c4ee09",
   "metadata": {},
   "outputs": [
    {
     "data": {
      "text/plain": [
       "array([ 1,  2,  3,  4,  5,  6,  7,  8,  9, 10, 11, 12, 13, 14, 15])"
      ]
     },
     "execution_count": 4,
     "metadata": {},
     "output_type": "execute_result"
    }
   ],
   "source": [
    "a = np.arange(1,16,1)\n",
    "a"
   ]
  },
  {
   "cell_type": "code",
   "execution_count": 5,
   "id": "a1a06540-4cee-4522-9637-9b81c5bd0aac",
   "metadata": {},
   "outputs": [
    {
     "data": {
      "text/plain": [
       "array([False, False, False, False, False, False, False, False, False,\n",
       "       False,  True,  True,  True,  True,  True])"
      ]
     },
     "execution_count": 5,
     "metadata": {},
     "output_type": "execute_result"
    }
   ],
   "source": [
    "a>10"
   ]
  },
  {
   "cell_type": "code",
   "execution_count": 6,
   "id": "00bdce8b-8987-4139-80ff-a2fcc9fd0ac5",
   "metadata": {},
   "outputs": [
    {
     "data": {
      "text/plain": [
       "array([11, 12, 13, 14, 15])"
      ]
     },
     "execution_count": 6,
     "metadata": {},
     "output_type": "execute_result"
    }
   ],
   "source": [
    "b=a>10\n",
    "a[b]"
   ]
  },
  {
   "cell_type": "code",
   "execution_count": 7,
   "id": "bb3aea0c-e65a-43db-aaeb-db708b925f87",
   "metadata": {},
   "outputs": [
    {
     "data": {
      "text/plain": [
       "array([ 2,  4,  6,  8, 10, 12, 14])"
      ]
     },
     "execution_count": 7,
     "metadata": {},
     "output_type": "execute_result"
    }
   ],
   "source": [
    "a[a%2==0]"
   ]
  },
  {
   "cell_type": "code",
   "execution_count": 8,
   "id": "5eb97898-c694-4231-8438-94ece74c65da",
   "metadata": {},
   "outputs": [
    {
     "data": {
      "text/plain": [
       "array([ 1,  3,  5,  7,  9, 11, 13, 15])"
      ]
     },
     "execution_count": 8,
     "metadata": {},
     "output_type": "execute_result"
    }
   ],
   "source": [
    "a[a%2!=0]"
   ]
  },
  {
   "cell_type": "code",
   "execution_count": 9,
   "id": "165eb7d5-b96a-48db-92cf-facac3434389",
   "metadata": {},
   "outputs": [
    {
     "data": {
      "text/plain": [
       "array([1, 2, 3, 4])"
      ]
     },
     "execution_count": 9,
     "metadata": {},
     "output_type": "execute_result"
    }
   ],
   "source": [
    "a = np.arange(1,5)\n",
    "a"
   ]
  },
  {
   "cell_type": "markdown",
   "id": "a6f44119-1484-47d4-a5b3-f5b7276bcaa3",
   "metadata": {},
   "source": [
    "# reshaping the array"
   ]
  },
  {
   "cell_type": "code",
   "execution_count": 10,
   "id": "08473580-58e2-44ea-8dac-621e05a67db6",
   "metadata": {},
   "outputs": [],
   "source": [
    "# n(rows)*n(columns) = total_elements"
   ]
  },
  {
   "cell_type": "code",
   "execution_count": 11,
   "id": "b639b537-8081-4854-8ead-a7e0a06df240",
   "metadata": {},
   "outputs": [
    {
     "data": {
      "text/plain": [
       "array([ 1,  2,  3,  4,  5,  6,  7,  8,  9, 10, 11, 12])"
      ]
     },
     "execution_count": 11,
     "metadata": {},
     "output_type": "execute_result"
    }
   ],
   "source": [
    "a = np.arange(1,13)\n",
    "a"
   ]
  },
  {
   "cell_type": "code",
   "execution_count": 12,
   "id": "5ceeec2a-82b1-49c0-8ca0-d1a2af02b4b0",
   "metadata": {},
   "outputs": [
    {
     "data": {
      "text/plain": [
       "(12,)"
      ]
     },
     "execution_count": 12,
     "metadata": {},
     "output_type": "execute_result"
    }
   ],
   "source": [
    "a.shape"
   ]
  },
  {
   "cell_type": "code",
   "execution_count": 13,
   "id": "c0837fdc-8607-4114-a554-a410a2f5e4f1",
   "metadata": {},
   "outputs": [
    {
     "data": {
      "text/plain": [
       "array([[ 1,  2,  3,  4,  5,  6],\n",
       "       [ 7,  8,  9, 10, 11, 12]])"
      ]
     },
     "execution_count": 13,
     "metadata": {},
     "output_type": "execute_result"
    }
   ],
   "source": [
    "a.reshape(2,6)"
   ]
  },
  {
   "cell_type": "code",
   "execution_count": 14,
   "id": "2064ef41-dd29-4e64-9b4c-03b0f5aeef74",
   "metadata": {},
   "outputs": [
    {
     "data": {
      "text/plain": [
       "array([[ 1,  2,  3,  4],\n",
       "       [ 5,  6,  7,  8],\n",
       "       [ 9, 10, 11, 12]])"
      ]
     },
     "execution_count": 14,
     "metadata": {},
     "output_type": "execute_result"
    }
   ],
   "source": [
    "a.reshape(3,4)"
   ]
  },
  {
   "cell_type": "code",
   "execution_count": 15,
   "id": "80060a85-9308-45fd-abae-31534178bba9",
   "metadata": {},
   "outputs": [
    {
     "data": {
      "text/plain": [
       "array([[1, 2],\n",
       "       [3, 4]])"
      ]
     },
     "execution_count": 15,
     "metadata": {},
     "output_type": "execute_result"
    }
   ],
   "source": [
    "a = np.arange(1,5).reshape(2,2)\n",
    "a"
   ]
  },
  {
   "cell_type": "code",
   "execution_count": 16,
   "id": "3b17f141-22cb-47a4-9ff1-da477b3832e4",
   "metadata": {},
   "outputs": [
    {
     "data": {
      "text/plain": [
       "array([[5, 6],\n",
       "       [7, 8]])"
      ]
     },
     "execution_count": 16,
     "metadata": {},
     "output_type": "execute_result"
    }
   ],
   "source": [
    "b= np.arange(5,9).reshape(2,2)\n",
    "b"
   ]
  },
  {
   "cell_type": "code",
   "execution_count": 17,
   "id": "22871f60-1086-4ebf-86b9-ff49dae3a626",
   "metadata": {},
   "outputs": [
    {
     "data": {
      "text/plain": [
       "array([[ 6,  8],\n",
       "       [10, 12]])"
      ]
     },
     "execution_count": 17,
     "metadata": {},
     "output_type": "execute_result"
    }
   ],
   "source": [
    "a+b ### (1+5 =6 , 2+6 =8 etc.)\n"
   ]
  },
  {
   "cell_type": "code",
   "execution_count": 18,
   "id": "8698ab42-7393-4f74-9b82-e829d7ee63ce",
   "metadata": {},
   "outputs": [
    {
     "data": {
      "text/plain": [
       "array([[-4, -4],\n",
       "       [-4, -4]])"
      ]
     },
     "execution_count": 18,
     "metadata": {},
     "output_type": "execute_result"
    }
   ],
   "source": [
    "a-b"
   ]
  },
  {
   "cell_type": "code",
   "execution_count": 19,
   "id": "4ecd6025-7125-4347-96d4-027e825292df",
   "metadata": {},
   "outputs": [
    {
     "data": {
      "text/plain": [
       "array([[ 5, 12],\n",
       "       [21, 32]])"
      ]
     },
     "execution_count": 19,
     "metadata": {},
     "output_type": "execute_result"
    }
   ],
   "source": [
    "a*b"
   ]
  },
  {
   "cell_type": "code",
   "execution_count": 20,
   "id": "3913e43d-ef74-4c2e-865e-48092f8f30ea",
   "metadata": {},
   "outputs": [
    {
     "data": {
      "text/plain": [
       "array([[19, 22],\n",
       "       [43, 50]])"
      ]
     },
     "execution_count": 20,
     "metadata": {},
     "output_type": "execute_result"
    }
   ],
   "source": [
    "a.dot(b) # for matrix multiplication"
   ]
  },
  {
   "cell_type": "code",
   "execution_count": 21,
   "id": "dfe821e2-f773-4a2d-982c-1c0cec235a57",
   "metadata": {},
   "outputs": [
    {
     "data": {
      "text/plain": [
       "array([[0.2       , 0.33333333],\n",
       "       [0.42857143, 0.5       ]])"
      ]
     },
     "execution_count": 21,
     "metadata": {},
     "output_type": "execute_result"
    }
   ],
   "source": [
    "a/b"
   ]
  },
  {
   "cell_type": "code",
   "execution_count": 22,
   "id": "569644f1-57c9-432c-ae22-0251bfe32b71",
   "metadata": {},
   "outputs": [
    {
     "data": {
      "text/plain": [
       "array([[1, 2],\n",
       "       [3, 4]])"
      ]
     },
     "execution_count": 22,
     "metadata": {},
     "output_type": "execute_result"
    }
   ],
   "source": [
    "a"
   ]
  },
  {
   "cell_type": "code",
   "execution_count": 23,
   "id": "523ddf50-436d-4ebf-a6a2-0ed40733c545",
   "metadata": {},
   "outputs": [
    {
     "data": {
      "text/plain": [
       "array([[ 1,  4],\n",
       "       [ 9, 16]])"
      ]
     },
     "execution_count": 23,
     "metadata": {},
     "output_type": "execute_result"
    }
   ],
   "source": [
    "a**2"
   ]
  },
  {
   "cell_type": "code",
   "execution_count": 24,
   "id": "aaa51c5e-fec8-4017-b747-c46fdfb4e8a7",
   "metadata": {},
   "outputs": [
    {
     "data": {
      "text/plain": [
       "array([[ 1,  8],\n",
       "       [27, 64]])"
      ]
     },
     "execution_count": 24,
     "metadata": {},
     "output_type": "execute_result"
    }
   ],
   "source": [
    "a**3"
   ]
  },
  {
   "cell_type": "code",
   "execution_count": 25,
   "id": "0eaee733-778b-44d8-a9bb-7abcd12c5d89",
   "metadata": {},
   "outputs": [],
   "source": [
    "# linspace() --- it will return same gap values in a given range"
   ]
  },
  {
   "cell_type": "code",
   "execution_count": 26,
   "id": "88631e8e-7aee-4631-8ecd-66b3a9ed6070",
   "metadata": {},
   "outputs": [
    {
     "data": {
      "text/plain": [
       "array([1.  , 1.25, 1.5 , 1.75, 2.  ])"
      ]
     },
     "execution_count": 26,
     "metadata": {},
     "output_type": "execute_result"
    }
   ],
   "source": [
    "a = np.linspace(1,2,5)\n",
    "a  # diference is 0.25 in all "
   ]
  },
  {
   "cell_type": "code",
   "execution_count": 27,
   "id": "822bc29a-91bb-4c2e-aca7-dc252067d1ba",
   "metadata": {},
   "outputs": [],
   "source": [
    "# unique() --- it will provide an array i which it will return 3 array\n",
    "# arr ---- return unique values\n",
    "# return_index = True ---- return indexing of unique values \n",
    "# return_counts = True ----- return frequency of each unique values ."
   ]
  },
  {
   "cell_type": "code",
   "execution_count": 28,
   "id": "f4feffcd-ed58-4f0c-95e3-97fe04b55f40",
   "metadata": {},
   "outputs": [
    {
     "data": {
      "text/plain": [
       "array([1, 2, 3, 1, 1, 1, 2, 6, 7])"
      ]
     },
     "execution_count": 28,
     "metadata": {},
     "output_type": "execute_result"
    }
   ],
   "source": [
    "a = np. array([1,2,3,1,1,1,2,6,7])\n",
    "a"
   ]
  },
  {
   "cell_type": "code",
   "execution_count": 30,
   "id": "0be962fe-bfb4-4e7a-9584-a70edbd3342a",
   "metadata": {},
   "outputs": [
    {
     "data": {
      "text/plain": [
       "(array([1, 2, 3, 6, 7]), array([0, 1, 2, 7, 8]), array([4, 2, 1, 1, 1]))"
      ]
     },
     "execution_count": 30,
     "metadata": {},
     "output_type": "execute_result"
    }
   ],
   "source": [
    "np.unique(a , return_index=True , return_counts=True)"
   ]
  },
  {
   "cell_type": "code",
   "execution_count": 31,
   "id": "de909823-6406-4853-b0d0-594ca62e5b1a",
   "metadata": {},
   "outputs": [
    {
     "data": {
      "text/plain": [
       "array([[1, 2, 3],\n",
       "       [4, 5, 6],\n",
       "       [7, 8, 9]])"
      ]
     },
     "execution_count": 31,
     "metadata": {},
     "output_type": "execute_result"
    }
   ],
   "source": [
    "a = np.arange(1,10).reshape(3,3)\n",
    "a"
   ]
  },
  {
   "cell_type": "code",
   "execution_count": 32,
   "id": "aa16908b-ba68-4cf9-8069-c8a7ccce58d9",
   "metadata": {},
   "outputs": [
    {
     "data": {
      "text/plain": [
       "np.int64(45)"
      ]
     },
     "execution_count": 32,
     "metadata": {},
     "output_type": "execute_result"
    }
   ],
   "source": [
    "np.sum(a)"
   ]
  },
  {
   "cell_type": "code",
   "execution_count": 33,
   "id": "b154d916-9a83-4393-a5e5-38f495a115c2",
   "metadata": {},
   "outputs": [
    {
     "data": {
      "text/plain": [
       "array([12, 15, 18])"
      ]
     },
     "execution_count": 33,
     "metadata": {},
     "output_type": "execute_result"
    }
   ],
   "source": [
    "np.sum(a, axis=0) ## return column wise sum "
   ]
  },
  {
   "cell_type": "code",
   "execution_count": 34,
   "id": "3186213a-3bc4-40ac-ab47-f30554d6739e",
   "metadata": {},
   "outputs": [
    {
     "data": {
      "text/plain": [
       "array([ 6, 15, 24])"
      ]
     },
     "execution_count": 34,
     "metadata": {},
     "output_type": "execute_result"
    }
   ],
   "source": [
    "np.sum(a, axis=1) ### return row wise sum"
   ]
  },
  {
   "cell_type": "markdown",
   "id": "32a7f85f-b58a-41f7-80da-24cd9f72751a",
   "metadata": {},
   "source": [
    "# hstack and vstack"
   ]
  },
  {
   "cell_type": "code",
   "execution_count": 35,
   "id": "83b946cb-f4b6-4ebf-a9cf-6adc2903f8fc",
   "metadata": {},
   "outputs": [],
   "source": [
    "a = np.arange(1,5)\n",
    "b = np.arange(5,9)\n",
    "c = np.arange(9,13)"
   ]
  },
  {
   "cell_type": "code",
   "execution_count": null,
   "id": "46994398-34f9-4a84-a114-580e202b9f7d",
   "metadata": {},
   "outputs": [],
   "source": []
  }
 ],
 "metadata": {
  "kernelspec": {
   "display_name": "Python 3 (ipykernel)",
   "language": "python",
   "name": "python3"
  },
  "language_info": {
   "codemirror_mode": {
    "name": "ipython",
    "version": 3
   },
   "file_extension": ".py",
   "mimetype": "text/x-python",
   "name": "python",
   "nbconvert_exporter": "python",
   "pygments_lexer": "ipython3",
   "version": "3.13.3"
  }
 },
 "nbformat": 4,
 "nbformat_minor": 5
}
