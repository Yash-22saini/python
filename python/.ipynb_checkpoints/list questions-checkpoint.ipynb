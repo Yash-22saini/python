{
 "cells": [
  {
   "cell_type": "code",
   "execution_count": 44,
   "id": "562307bf-8ff9-4410-ba5e-d348a4dc1c91",
   "metadata": {},
   "outputs": [
    {
     "name": "stdout",
     "output_type": "stream",
     "text": [
      "[1, 2, 3, 4, 5]\n"
     ]
    }
   ],
   "source": [
    "# 1. Create a list of 5 numbers\n",
    "numbers = [1, 2, 3, 4, 5]\n",
    "print(numbers)\n"
   ]
  },
  {
   "cell_type": "code",
   "execution_count": 45,
   "id": "0d2245ae-165b-4953-a730-7472b76209e5",
   "metadata": {},
   "outputs": [
    {
     "name": "stdout",
     "output_type": "stream",
     "text": [
      "First: 10\n",
      "Last: 50\n"
     ]
    }
   ],
   "source": [
    "# 2. Access the first and last element\n",
    "mylist = [10, 20, 30, 40, 50]\n",
    "print(\"First:\",mylist[0])\n",
    "print(\"Last:\", mylist[-1])"
   ]
  },
  {
   "cell_type": "code",
   "execution_count": 46,
   "id": "cae4c8a8-6d5c-45e6-a46a-6ec188f81804",
   "metadata": {},
   "outputs": [
    {
     "name": "stdout",
     "output_type": "stream",
     "text": [
      "[1, 2, 3, 4]\n"
     ]
    }
   ],
   "source": [
    "# 3. Append a new item to a list\n",
    "mylist = [1, 2, 3]\n",
    "mylist.append(4)\n",
    "print(mylist)\n"
   ]
  },
  {
   "cell_type": "code",
   "execution_count": 47,
   "id": "67182486-932a-41a4-8c2c-a7c95b38f9b9",
   "metadata": {},
   "outputs": [
    {
     "name": "stdout",
     "output_type": "stream",
     "text": [
      "[1, 2, 3, 4, 5]\n"
     ]
    }
   ],
   "source": [
    "# 4. Insert an element at index 2\n",
    "mylist = [1, 2, 4, 5]\n",
    "mylist.insert(2, 3)\n",
    "print(mylist)"
   ]
  },
  {
   "cell_type": "code",
   "execution_count": 48,
   "id": "11d8a534-e78b-4cf6-8f55-d302605441f0",
   "metadata": {},
   "outputs": [
    {
     "name": "stdout",
     "output_type": "stream",
     "text": [
      "[1, 2, 4]\n"
     ]
    }
   ],
   "source": [
    "# 5. Remove an element by value\n",
    "mylist = [1, 2, 3, 4]\n",
    "mylist.remove(3)\n",
    "print(mylist)"
   ]
  },
  {
   "cell_type": "code",
   "execution_count": 49,
   "id": "a2576559-3c48-4021-b7ab-7601f94c883a",
   "metadata": {},
   "outputs": [
    {
     "name": "stdout",
     "output_type": "stream",
     "text": [
      "Popped: 30\n",
      "Remaining: [10, 20]\n"
     ]
    }
   ],
   "source": [
    "# 6. Pop an element from the list\n",
    "mylist = [10, 20, 30]\n",
    "popped = mylist.pop()\n",
    "print(\"Popped:\", popped)\n",
    "print(\"Remaining:\",mylist)"
   ]
  },
  {
   "cell_type": "code",
   "execution_count": 50,
   "id": "12bc0bbc-1ee4-4df6-b312-b89d2a565926",
   "metadata": {},
   "outputs": [
    {
     "name": "stdout",
     "output_type": "stream",
     "text": [
      "True\n"
     ]
    }
   ],
   "source": [
    "# 7. Check if an element exists in a list\n",
    "mylist = [1, 2, 3]\n",
    "print(2 in mylist)\n"
   ]
  },
  {
   "cell_type": "code",
   "execution_count": 51,
   "id": "3f63979f-ece3-49ff-b3fb-f0d4e6466180",
   "metadata": {},
   "outputs": [
    {
     "name": "stdout",
     "output_type": "stream",
     "text": [
      "Reversed: [4, 3, 2, 1]\n"
     ]
    }
   ],
   "source": [
    "# 8. Reverse a list\n",
    "mylist = [1, 2, 3, 4]\n",
    "print(\"Reversed:\", mylist[::-1])"
   ]
  },
  {
   "cell_type": "code",
   "execution_count": 52,
   "id": "769ac495-153c-48d4-9a79-c12d50fd6d38",
   "metadata": {},
   "outputs": [
    {
     "name": "stdout",
     "output_type": "stream",
     "text": [
      "Ascending: [1, 2, 4, 5]\n",
      "Descending: [5, 4, 2, 1]\n"
     ]
    }
   ],
   "source": [
    "# 9. Sort a list in ascending and descending order\n",
    "mylist = [4, 2, 5, 1]\n",
    "mylist.sort()\n",
    "print(\"Ascending:\", mylist)\n",
    "mylist.sort(reverse=True)\n",
    "print(\"Descending:\", mylist)"
   ]
  },
  {
   "cell_type": "code",
   "execution_count": 53,
   "id": "b407564d-b5cd-42a0-8d71-92bc8119998f",
   "metadata": {},
   "outputs": [
    {
     "name": "stdout",
     "output_type": "stream",
     "text": [
      " Count of 2: 3\n"
     ]
    }
   ],
   "source": [
    "# 10. Count the number of occurrences of an element\n",
    "mylist = [1, 2, 2, 3, 2]\n",
    "print(\" Count of 2:\", mylist.count(2))"
   ]
  },
  {
   "cell_type": "code",
   "execution_count": 54,
   "id": "bff60513-6159-4cdc-ac01-89301dbc00f3",
   "metadata": {},
   "outputs": [
    {
     "name": "stdout",
     "output_type": "stream",
     "text": [
      "[1, 2, 3, 4]\n"
     ]
    }
   ],
   "source": [
    "# 11. Extend one list with another\n",
    "a = [1, 2]\n",
    "b = [3, 4]\n",
    "a.extend(b)\n",
    "print(a)"
   ]
  },
  {
   "cell_type": "code",
   "execution_count": 55,
   "id": "fb9e0158-24d2-497e-a85d-d733f25c2bc8",
   "metadata": {},
   "outputs": [
    {
     "name": "stdout",
     "output_type": "stream",
     "text": [
      "Evens: [2, 4, 6]\n"
     ]
    }
   ],
   "source": [
    "# 12. Get all even numbers from a list\n",
    "mylist = [1, 2, 3, 4, 5, 6]\n",
    "evens = [x for x in mylist if x % 2 == 0]\n",
    "print(\"Evens:\", evens)"
   ]
  },
  {
   "cell_type": "code",
   "execution_count": 56,
   "id": "c439ac5c-bab2-4c93-93b5-230b59b17c62",
   "metadata": {},
   "outputs": [
    {
     "name": "stdout",
     "output_type": "stream",
     "text": [
      "Squares: [1, 4, 9, 16]\n"
     ]
    }
   ],
   "source": [
    "# 15. Square all elements using list comprehension\n",
    "mylist = [1, 2, 3, 4]\n",
    "squares = [x**2 for x in mylist]\n",
    "print(\"Squares:\", squares)"
   ]
  },
  {
   "cell_type": "code",
   "execution_count": null,
   "id": "c2760dd8-1a9d-47fd-b1a8-c6662f2187e1",
   "metadata": {},
   "outputs": [],
   "source": []
  }
 ],
 "metadata": {
  "kernelspec": {
   "display_name": "Python 3 (ipykernel)",
   "language": "python",
   "name": "python3"
  },
  "language_info": {
   "codemirror_mode": {
    "name": "ipython",
    "version": 3
   },
   "file_extension": ".py",
   "mimetype": "text/x-python",
   "name": "python",
   "nbconvert_exporter": "python",
   "pygments_lexer": "ipython3",
   "version": "3.13.3"
  }
 },
 "nbformat": 4,
 "nbformat_minor": 5
}
