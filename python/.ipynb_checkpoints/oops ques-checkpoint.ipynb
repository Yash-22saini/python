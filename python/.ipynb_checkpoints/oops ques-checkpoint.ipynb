{
 "cells": [
  {
   "cell_type": "code",
   "execution_count": 8,
   "id": "b83f6e89-e496-4324-845b-caf1d607b8b1",
   "metadata": {},
   "outputs": [
    {
     "name": "stdout",
     "output_type": "stream",
     "text": [
      "name of employee is:sam and jobrole is:frontend developer\n"
     ]
    }
   ],
   "source": [
    "class Employee:\n",
    "    location='jaipur'\n",
    "\n",
    "    def __init__(self, name ,jobrole):\n",
    "        self.name=name\n",
    "        self.jobrole=jobrole\n",
    "\n",
    "    def getinfo(self):\n",
    "        print(f\"name of employee is:{self.name} and jobrole is:{self.jobrole}\")\n",
    "\n",
    "e=Employee('sam', 'frontend developer')\n",
    "e.getinfo()"
   ]
  },
  {
   "cell_type": "code",
   "execution_count": 9,
   "id": "2e323b26-5fba-4b3f-941d-d04057c8c461",
   "metadata": {},
   "outputs": [
    {
     "name": "stdout",
     "output_type": "stream",
     "text": [
      "12\n",
      "8\n"
     ]
    }
   ],
   "source": [
    "class calculator():\n",
    "    def __init__(self,num1,num2):\n",
    "        self.num1 = num1\n",
    "        self.num2 = num2\n",
    "\n",
    "    def add (self):\n",
    "        return self.num1+self.num2\n",
    "\n",
    "    def subtract(self):\n",
    "        return self.num1-self.num2\n",
    "\n",
    "\n",
    "calc = calculator(10,2)\n",
    "print(calc.add())\n",
    "print(calc.subtract())\n",
    "    "
   ]
  },
  {
   "cell_type": "code",
   "execution_count": 13,
   "id": "850a13b5-722f-4c52-98e9-f47e21f38f5a",
   "metadata": {},
   "outputs": [
    {
     "name": "stdout",
     "output_type": "stream",
     "text": [
      "500 deposited. new balance: 1500\n",
      "300 withdrawn. remaining balance:1200\n",
      "account balance foryash:1200\n"
     ]
    }
   ],
   "source": [
    "class bankaccount:\n",
    "    def __init__(self, holder_name, balance=0):\n",
    "        self.holder_name = holder_name\n",
    "        self.balance = balance\n",
    "\n",
    "    def deposit(self, amount):\n",
    "        self.balance += amount \n",
    "        print(f\"{amount} deposited. new balance: {self.balance}\")\n",
    "\n",
    "    def withdraw (self, amount):\n",
    "        if amount <=self.balance:\n",
    "            self.balance -= amount \n",
    "            print(f\"{amount} withdrawn. remaining balance:{self.balance}\")\n",
    "        else:\n",
    "            print(\"insufficient funds!\")\n",
    "    def check_balance(self):\n",
    "        return f\"account balance for{self.holder_name}:{self.balance}\"\n",
    "\n",
    "account = bankaccount(\"yash\",1000)\n",
    "account.deposit(500)\n",
    "account.withdraw(300)\n",
    "print(account.check_balance())\n"
   ]
  },
  {
   "cell_type": "code",
   "execution_count": 14,
   "id": "3daeefb3-d92d-4baa-9ff1-947b20eae221",
   "metadata": {},
   "outputs": [
    {
     "name": "stdout",
     "output_type": "stream",
     "text": [
      "name:yash, age:20, marks:85\n",
      "pased\n"
     ]
    }
   ],
   "source": [
    "class student:\n",
    "    def __init__(self, name, age, marks):\n",
    "        self.name = name \n",
    "        self.age = age \n",
    "        self.marks = marks\n",
    "\n",
    "    def display_details(self):\n",
    "        print(f\"name:{self.name}, age:{self.age}, marks:{self.marks}\")\n",
    "\n",
    "    def has_passed(self):\n",
    "        if self.marks >=40:\n",
    "            return\"pased\"\n",
    "        else:\n",
    "            return \"failed\"\n",
    "\n",
    "student = student(\"yash\", 20, 85)\n",
    "student.display_details()\n",
    "print(student.has_passed())\n",
    "            "
   ]
  },
  {
   "cell_type": "code",
   "execution_count": 15,
   "id": "89f1eae8-c60d-4403-a236-05fd6ce1db92",
   "metadata": {},
   "outputs": [
    {
     "name": "stdout",
     "output_type": "stream",
     "text": [
      "circle area 78.5\n",
      "circle perimeter 31.400000000000002\n"
     ]
    }
   ],
   "source": [
    "from abc import ABC,abstractmethod\n",
    "class shape(ABC):\n",
    "    def area(self):\n",
    "        pass \n",
    "\n",
    "    def perimeter(self):\n",
    "        pass\n",
    "\n",
    "class circle(shape):\n",
    "    def __init__(self,radius):\n",
    "        self.radius = radius\n",
    "\n",
    "    def area(self):\n",
    "        return 3.14 * self.radius * self.radius \n",
    "\n",
    "    def perimeter(self):\n",
    "        return 2 * 3.14 * self.radius \n",
    "\n",
    "circle = circle(5)\n",
    "print(\"circle area\",circle.area())\n",
    "print(\"circle perimeter\",circle.perimeter())"
   ]
  },
  {
   "cell_type": "code",
   "execution_count": 16,
   "id": "715d185c-ca93-4fc8-92fb-c2ae0b801e8b",
   "metadata": {},
   "outputs": [
    {
     "name": "stdout",
     "output_type": "stream",
     "text": [
      "creditcardpayment of $100 processed.\n",
      "paypalpayment of $200 processed.\n"
     ]
    }
   ],
   "source": [
    "from abc import ABC ,abstractmethod \n",
    "\n",
    "class payment(ABC):\n",
    "    def make_payment(self,amount):\n",
    "        pass\n",
    "\n",
    "class creditcardpayment(payment):\n",
    "    def make_payment(self,amount):\n",
    "        return f\"creditcardpayment of ${amount} processed.\"\n",
    "\n",
    "class paypalpayment(payment):\n",
    "    def make_payment(self,amount):\n",
    "        return f\"paypalpayment of ${amount} processed.\"\n",
    "\n",
    "payment1 = creditcardpayment()\n",
    "print(payment1.make_payment(100))\n",
    "\n",
    "payment2 = paypalpayment()\n",
    "print(payment2.make_payment(200))"
   ]
  },
  {
   "cell_type": "code",
   "execution_count": 17,
   "id": "3b067018-d6cf-4bf8-837e-0eb090bc8cfe",
   "metadata": {},
   "outputs": [
    {
     "name": "stdout",
     "output_type": "stream",
     "text": [
      "yash\n",
      "5000\n",
      "deposited. new balance: 10000\n",
      "withdrawn. remaining balance:9000\n"
     ]
    }
   ],
   "source": [
    "class bankaccount:\n",
    "    def __init__(self, account_holder, balance):\n",
    "        self.__account_holder =account_holder #private attribute\n",
    "        self.__balance = balance             #private attribute\n",
    "\n",
    "    #getter for account holder\n",
    "    def get_account_holder(self):\n",
    "        return self.__account_holder\n",
    "        \n",
    "    #getter for balance\n",
    "    def get_balance(self):\n",
    "        return self.__balance\n",
    "\n",
    "        #method to deposit and withdraw money\n",
    "    def deposit(self, amount):\n",
    "        if amount > 0:\n",
    "            self.__balance += amount \n",
    "            return f\"deposited. new balance: {self.__balance}\"\n",
    "        else:\n",
    "            return\"invalid deposited amount\"\n",
    "\n",
    "    def withdraw (self, amount):\n",
    "        if amount <=self.__balance:\n",
    "            self.__balance -= amount \n",
    "            return f\"withdrawn. remaining balance:{self.__balance}\"\n",
    "        else:\n",
    "            return\"insufficient funds!\"\n",
    "\n",
    "account = bankaccount(\"yash\",5000)\n",
    "print(account.get_account_holder())\n",
    "print(account.get_balance())\n",
    "print(account.deposit(5000))\n",
    "print(account.withdraw(1000))"
   ]
  },
  {
   "cell_type": "code",
   "execution_count": 18,
   "id": "b9ce8aca-3857-4ccd-868b-d16dc7331ad4",
   "metadata": {},
   "outputs": [
    {
     "name": "stdout",
     "output_type": "stream",
     "text": [
      "yash\n",
      "85\n",
      "grade upated\n",
      "55\n"
     ]
    }
   ],
   "source": [
    "class student:\n",
    "    def __init__(self ,name ,grade):\n",
    "        self.name = name \n",
    "        self.__grade = grade \n",
    "\n",
    "    def get_grade(self):\n",
    "        return self.__grade \n",
    "\n",
    "    def set_grade(self, new_grade):\n",
    "        if 0 <= new_grade <= 100:\n",
    "            self.__grade = new_grade\n",
    "            return \"grade upated\"\n",
    "        else:\n",
    "            return\"invalid grade\"\n",
    "\n",
    "student = student(\"yash\" ,85)\n",
    "print(student.name)\n",
    "print(student.get_grade())\n",
    "print(student.set_grade(55))\n",
    "print(student.get_grade())"
   ]
  },
  {
   "cell_type": "code",
   "execution_count": 19,
   "id": "b34b07f0-649f-4bec-b027-08e8cc45a49f",
   "metadata": {},
   "outputs": [
    {
     "name": "stdout",
     "output_type": "stream",
     "text": [
      "Laptop\n",
      "10\n",
      "Stock updated successfully\n",
      "5\n",
      "Available: True\n"
     ]
    }
   ],
   "source": [
    "class Product:\n",
    "    def __init__(self, name, stock):\n",
    "        self.name = name\n",
    "        self.__stock = stock  # private attribute\n",
    "\n",
    "    def get_stock(self):\n",
    "        return self.__stock\n",
    "\n",
    "    def update_stock(self, quantity):\n",
    "        if quantity >= 0:\n",
    "            self.__stock = quantity\n",
    "            return \"Stock updated successfully\"\n",
    "        else:\n",
    "            return \"Invalid stock value\"\n",
    "\n",
    "    def is_available(self):\n",
    "        return self.__stock > 0\n",
    "\n",
    "# Object creation and usage\n",
    "product = Product(\"Laptop\", 10)\n",
    "print(product.name)\n",
    "print(product.get_stock())\n",
    "print(product.update_stock(5))\n",
    "print(product.get_stock())\n",
    "print(\"Available:\", product.is_available())\n"
   ]
  },
  {
   "cell_type": "code",
   "execution_count": null,
   "id": "d8fd19e3-4b8b-47b7-a1ec-d489231871a7",
   "metadata": {},
   "outputs": [],
   "source": []
  }
 ],
 "metadata": {
  "kernelspec": {
   "display_name": "Python 3 (ipykernel)",
   "language": "python",
   "name": "python3"
  },
  "language_info": {
   "codemirror_mode": {
    "name": "ipython",
    "version": 3
   },
   "file_extension": ".py",
   "mimetype": "text/x-python",
   "name": "python",
   "nbconvert_exporter": "python",
   "pygments_lexer": "ipython3",
   "version": "3.13.3"
  }
 },
 "nbformat": 4,
 "nbformat_minor": 5
}
