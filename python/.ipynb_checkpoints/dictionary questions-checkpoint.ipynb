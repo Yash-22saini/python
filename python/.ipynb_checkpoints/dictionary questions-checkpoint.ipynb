{
 "cells": [
  {
   "cell_type": "code",
   "execution_count": 1,
   "id": "e69cc3e7-c082-4c54-8195-535178c0a2b1",
   "metadata": {},
   "outputs": [
    {
     "name": "stdout",
     "output_type": "stream",
     "text": [
      "Yash\n"
     ]
    }
   ],
   "source": [
    "my_dict = {\"name\": \"Yash\", \"age\": 22, \"course\": \"Data Science\"}\n",
    "print(my_dict[\"name\"])  "
   ]
  },
  {
   "cell_type": "code",
   "execution_count": 2,
   "id": "75963e16-8ed1-463e-be0c-d457a150f54f",
   "metadata": {},
   "outputs": [
    {
     "name": "stdout",
     "output_type": "stream",
     "text": [
      "Yash\n",
      "22\n",
      "None\n"
     ]
    }
   ],
   "source": [
    "person = {\"name\": \"Yash\", \"age\": 22}\n",
    "print(person[\"name\"])         \n",
    "print(person.get(\"age\"))       \n",
    "print(person.get(\"gender\"))   \n"
   ]
  },
  {
   "cell_type": "code",
   "execution_count": 3,
   "id": "50ab957b-ea14-4edb-a92c-51751f075a02",
   "metadata": {},
   "outputs": [
    {
     "name": "stdout",
     "output_type": "stream",
     "text": [
      "{'name': 'Raj', 'age': 22}\n"
     ]
    }
   ],
   "source": [
    "person = {\"name\": \"Yash\"}\n",
    "person[\"age\"] = 22        \n",
    "person[\"name\"] = \"Raj\"     \n",
    "print(person)              \n"
   ]
  },
  {
   "cell_type": "code",
   "execution_count": 4,
   "id": "a2437987-4a76-4afe-b52d-69d94266e7a3",
   "metadata": {},
   "outputs": [
    {
     "name": "stdout",
     "output_type": "stream",
     "text": [
      "{}\n"
     ]
    }
   ],
   "source": [
    "my_dict = {\"a\": 1, \"b\": 2, \"c\": 3}\n",
    "del my_dict[\"b\"]          # Delete key 'b'\n",
    "my_dict.pop(\"c\")          # Remove and return value for key 'c'\n",
    "my_dict.clear()           # Remove all items\n",
    "print(my_dict)            \n"
   ]
  },
  {
   "cell_type": "code",
   "execution_count": 5,
   "id": "d92b7aa5-8518-4734-a4d9-9ea682a07662",
   "metadata": {},
   "outputs": [
    {
     "name": "stdout",
     "output_type": "stream",
     "text": [
      "name Yash\n",
      "age 22\n"
     ]
    }
   ],
   "source": [
    "student = {\"name\": \"Yash\", \"age\": 22}\n",
    "\n",
    "for key in student:\n",
    "    print(key, student[key])\n"
   ]
  },
  {
   "cell_type": "code",
   "execution_count": 6,
   "id": "229dfbd1-23da-43e9-a646-760b6934af37",
   "metadata": {},
   "outputs": [
    {
     "name": "stdout",
     "output_type": "stream",
     "text": [
      "dict_keys(['apple', 'banana', 'orange', 'grapes', 'mango'])\n",
      "dict_values([50, 20, 40, 60, 100])\n"
     ]
    }
   ],
   "source": [
    "#1. Create a dictionary of 5 fruits and their prices\n",
    "fruits = {\"apple\": 50, \"banana\": 20, \"orange\": 40, \"grapes\": 60, \"mango\": 100}\n",
    "print(fruits.keys())\n",
    "print(fruits.values())\n"
   ]
  },
  {
   "cell_type": "code",
   "execution_count": 7,
   "id": "c5e7df95-0db8-4ff6-9174-9a794f313e60",
   "metadata": {},
   "outputs": [
    {
     "name": "stdout",
     "output_type": "stream",
     "text": [
      "{'a': 1, 'b': 20, 'c': 3}\n"
     ]
    }
   ],
   "source": [
    "#2. Update the value of \"b\" to 20.\n",
    "d = {\"a\": 1, \"b\": 2, \"c\": 3}\n",
    "d[\"b\"] = 20\n",
    "print(d)  \n"
   ]
  },
  {
   "cell_type": "code",
   "execution_count": 8,
   "id": "22103315-db14-4bb3-b922-9ce6952dd433",
   "metadata": {},
   "outputs": [
    {
     "name": "stdout",
     "output_type": "stream",
     "text": [
      "{'a': 10, 'b': 20}\n"
     ]
    }
   ],
   "source": [
    "#3. Remove duplicate values.\n",
    "d = {\"a\": 10, \"b\": 20, \"c\": 10}\n",
    "unique = {}\n",
    "seen = set()\n",
    "for k, v in d.items():\n",
    "    if v not in seen:\n",
    "        unique[k] = v\n",
    "        seen.add(v)\n",
    "print(unique)\n",
    "\n"
   ]
  },
  {
   "cell_type": "code",
   "execution_count": 9,
   "id": "87fb27ec-83bd-4d86-94d0-888fd3346468",
   "metadata": {},
   "outputs": [
    {
     "name": "stdout",
     "output_type": "stream",
     "text": [
      "{1: 'a', 2: 'b'}\n"
     ]
    }
   ],
   "source": [
    "#4. Reverse a dictionary (keys become values)\n",
    "d = {\"a\": 1, \"b\": 2}\n",
    "reversed_d = {v: k for k, v in d.items()}\n",
    "print(reversed_d)  # {1: 'a', 2: 'b'}\n"
   ]
  },
  {
   "cell_type": "code",
   "execution_count": 10,
   "id": "3a5a42f0-ceea-4571-91e9-98ec53cbe1ae",
   "metadata": {},
   "outputs": [
    {
     "name": "stdout",
     "output_type": "stream",
     "text": [
      "{'apple': 3, 'banana': 2, 'orange': 1}\n"
     ]
    }
   ],
   "source": [
    "#5.count how many times each item appears in a list using dict\n",
    "items = [\"apple\", \"banana\", \"apple\", \"orange\", \"banana\", \"apple\"]\n",
    "count = {}\n",
    "\n",
    "for item in items:\n",
    "    count[item] = count.get(item, 0) + 1\n",
    "\n",
    "print(count)"
   ]
  },
  {
   "cell_type": "code",
   "execution_count": 12,
   "id": "1bd4b535-f4c0-4ddb-987d-f5d8bd3e57f2",
   "metadata": {},
   "outputs": [
    {
     "name": "stdout",
     "output_type": "stream",
     "text": [
      "{'b': 1, 'a': 3, 'n': 2}\n"
     ]
    }
   ],
   "source": [
    "# Q6. Count how many times each character appears in a string\n",
    "text = \"banana\"\n",
    "count = {}\n",
    "\n",
    "for char in text:\n",
    "    count[char] = count.get(char, 0) + 1\n",
    "\n",
    "print(count)\n",
    "\n"
   ]
  },
  {
   "cell_type": "code",
   "execution_count": null,
   "id": "56605143-9196-4e2e-82cb-496541ada5bf",
   "metadata": {},
   "outputs": [],
   "source": []
  }
 ],
 "metadata": {
  "kernelspec": {
   "display_name": "Python 3 (ipykernel)",
   "language": "python",
   "name": "python3"
  },
  "language_info": {
   "codemirror_mode": {
    "name": "ipython",
    "version": 3
   },
   "file_extension": ".py",
   "mimetype": "text/x-python",
   "name": "python",
   "nbconvert_exporter": "python",
   "pygments_lexer": "ipython3",
   "version": "3.13.3"
  }
 },
 "nbformat": 4,
 "nbformat_minor": 5
}
