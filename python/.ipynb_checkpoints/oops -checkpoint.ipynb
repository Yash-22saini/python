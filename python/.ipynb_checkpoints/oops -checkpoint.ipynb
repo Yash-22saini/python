{
 "cells": [
  {
   "cell_type": "code",
   "execution_count": 1,
   "id": "893e0d50-4cee-45f3-a988-220e6dbfb006",
   "metadata": {},
   "outputs": [
    {
     "ename": "_IncompleteInputError",
     "evalue": "incomplete input (1631634375.py, line 2)",
     "output_type": "error",
     "traceback": [
      "  \u001b[36mCell\u001b[39m\u001b[36m \u001b[39m\u001b[32mIn[1]\u001b[39m\u001b[32m, line 2\u001b[39m\n\u001b[31m    \u001b[39m\u001b[31mdef __init__(self, name):\u001b[39m\n                             ^\n\u001b[31m_IncompleteInputError\u001b[39m\u001b[31m:\u001b[39m incomplete input\n"
     ]
    }
   ],
   "source": [
    "class parent:\n",
    "    def __init__(self, name):\n",
    "        self.name = name\n",
    "\n",
    "    def greet(self):\n",
    "        print(f\"hello, i am {self.name} from the parent class.\")\n",
    "\n",
    "class child(parent):\n",
    "    def __init__(self, name ,age):\n",
    "        super().__init__(name)\n",
    "        self.age = age\n",
    "\n",
    "    def greet(self):\n",
    "        "
   ]
  },
  {
   "cell_type": "code",
   "execution_count": 9,
   "id": "a7d6475a-f6c9-4da4-bf10-fba6201def82",
   "metadata": {},
   "outputs": [
    {
     "name": "stdout",
     "output_type": "stream",
     "text": [
      "vehicle is moving\n",
      "car is moving \n",
      "bike is moving\n"
     ]
    }
   ],
   "source": [
    "class vehicle:\n",
    "    def move(self):\n",
    "        print(\"vehicle is moving\")\n",
    "\n",
    "class car(vehicle):\n",
    "    def move(self):\n",
    "        print(\"car is moving \")\n",
    "\n",
    "class bike(vehicle):\n",
    "    def move(self):\n",
    "        print(\"bike is moving\")\n",
    "\n",
    "vehicle= vehicle()\n",
    "car = car()\n",
    "bike =bike()\n",
    "\n",
    "vehicle.move()\n",
    "car.move()\n",
    "bike.move()"
   ]
  },
  {
   "cell_type": "code",
   "execution_count": 10,
   "id": "f8b192f2-e92c-49ff-9d9b-76af9c792696",
   "metadata": {},
   "outputs": [
    {
     "ename": "SyntaxError",
     "evalue": "expected '(' (1507680916.py, line 10)",
     "output_type": "error",
     "traceback": [
      "  \u001b[36mCell\u001b[39m\u001b[36m \u001b[39m\u001b[32mIn[10]\u001b[39m\u001b[32m, line 10\u001b[39m\n\u001b[31m    \u001b[39m\u001b[31mdef greet name\u001b[39m\n              ^\n\u001b[31mSyntaxError\u001b[39m\u001b[31m:\u001b[39m expected '('\n"
     ]
    }
   ],
   "source": [
    "def log_decorator(func):\n",
    "    def wrapper(*args, **kwargs):\n",
    "        print(f\"function '{func.__name__}' is called\")\n",
    "        result = func (*args,**kwargs)\n",
    "        print(f\"function'{func.__name__}'finished execution\")\n",
    "        return result\n",
    "    return wrapper\n",
    "\n",
    "@log_decorator \n",
    "def greet name \n",
    "    "
   ]
  },
  {
   "cell_type": "code",
   "execution_count": 11,
   "id": "73ebedbd-0e4b-449d-8c9c-0c1ea442014c",
   "metadata": {},
   "outputs": [
    {
     "name": "stdout",
     "output_type": "stream",
     "text": [
      "1\n",
      "2\n",
      "3\n",
      "4\n",
      "5\n"
     ]
    }
   ],
   "source": [
    "def number_generator():\n",
    "    for i in range (1, 6):\n",
    "        yield i\n",
    "\n",
    "gen = number_generator()\n",
    "for num in gen:\n",
    "    print(num)"
   ]
  },
  {
   "cell_type": "code",
   "execution_count": 13,
   "id": "a2c1359f-c285-4365-b592-140d86ac9001",
   "metadata": {},
   "outputs": [
    {
     "name": "stdout",
     "output_type": "stream",
     "text": [
      "1\n",
      "4\n",
      "9\n",
      "16\n",
      "25\n"
     ]
    }
   ],
   "source": [
    "def square_generator(n):\n",
    "    for i in range (1, n+1):\n",
    "        yield i*i\n",
    "\n",
    "squares = square_generator(5)\n",
    "for square in squares:\n",
    "    print(square)"
   ]
  },
  {
   "cell_type": "code",
   "execution_count": null,
   "id": "6b2e3564-a74a-443e-9bc5-41e2d067ab53",
   "metadata": {},
   "outputs": [],
   "source": []
  },
  {
   "cell_type": "code",
   "execution_count": 2,
   "id": "da453112-047d-4471-b3dc-65842248a2e6",
   "metadata": {},
   "outputs": [],
   "source": [
    "class factorialcalculator:\n",
    "\n",
    "    def calculate_factorial(self,n):\n",
    "        if n==0 or n==1:\n",
    "            return 1\n",
    "        else:\n",
    "            return n * self.calculate_factorial(n-1)\n",
    "\n",
    "calculator = factorialcalculator()\n",
    "number = 5 \n",
    "result = calculator.calculate_factorial(number)\n"
   ]
  },
  {
   "cell_type": "code",
   "execution_count": null,
   "id": "93f457d4-25b1-4789-93fc-83ce7e10caa4",
   "metadata": {},
   "outputs": [],
   "source": [
    "case study 1 health care system (patient record management)\n",
    "\n"
   ]
  },
  {
   "cell_type": "code",
   "execution_count": null,
   "id": "4bf1d9e7-b0df-476f-aaf4-1b0776dc80aa",
   "metadata": {},
   "outputs": [],
   "source": []
  },
  {
   "cell_type": "code",
   "execution_count": null,
   "id": "94e1bc45-344f-4300-bd6b-eb5b6fffcb37",
   "metadata": {},
   "outputs": [],
   "source": []
  }
 ],
 "metadata": {
  "kernelspec": {
   "display_name": "Python 3 (ipykernel)",
   "language": "python",
   "name": "python3"
  },
  "language_info": {
   "codemirror_mode": {
    "name": "ipython",
    "version": 3
   },
   "file_extension": ".py",
   "mimetype": "text/x-python",
   "name": "python",
   "nbconvert_exporter": "python",
   "pygments_lexer": "ipython3",
   "version": "3.13.3"
  }
 },
 "nbformat": 4,
 "nbformat_minor": 5
}
