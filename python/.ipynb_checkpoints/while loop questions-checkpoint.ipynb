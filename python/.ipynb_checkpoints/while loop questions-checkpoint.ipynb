{
 "cells": [
  {
   "cell_type": "code",
   "execution_count": 1,
   "id": "cc4534b6-a0b8-42c7-8a40-09fce0f51007",
   "metadata": {},
   "outputs": [],
   "source": [
    "#Print numbers from 1 to 10 using a while loop.\n",
    "\n",
    "#Print all even numbers between 1 and 20.\n",
    "\n",
    "#Print the sum of numbers from 1 to 100.\n",
    "\n",
    "#Print the multiplication table of a given number.\n",
    "\n",
    "#Print digits of a number in reverse order.\n",
    "#Example: Input 123 → Output 3 2 1\n",
    "\n",
    "#Find the factorial of a number using while loop.\n",
    "\n",
    "#Check whether a number is a palindrome."
   ]
  },
  {
   "cell_type": "code",
   "execution_count": 2,
   "id": "95ba35da-b203-49e6-87a7-17bf37835f46",
   "metadata": {},
   "outputs": [
    {
     "name": "stdout",
     "output_type": "stream",
     "text": [
      "1\n",
      "2\n",
      "3\n",
      "4\n",
      "5\n",
      "6\n",
      "7\n",
      "8\n",
      "9\n",
      "10\n"
     ]
    }
   ],
   "source": [
    "i = 1\n",
    "while i <= 10:\n",
    "    print(i)\n",
    "    i += 1\n"
   ]
  },
  {
   "cell_type": "code",
   "execution_count": 3,
   "id": "694804cb-db38-4ee2-97af-f476a014d4c4",
   "metadata": {},
   "outputs": [
    {
     "name": "stdout",
     "output_type": "stream",
     "text": [
      "2\n",
      "4\n",
      "6\n",
      "8\n",
      "10\n",
      "12\n",
      "14\n",
      "16\n",
      "18\n",
      "20\n"
     ]
    }
   ],
   "source": [
    "i = 2\n",
    "while i <= 20:\n",
    "    print(i)\n",
    "    i += 2\n"
   ]
  },
  {
   "cell_type": "code",
   "execution_count": 4,
   "id": "6be877f3-7cfc-4ae5-aa09-69a16b418d5d",
   "metadata": {},
   "outputs": [
    {
     "name": "stdout",
     "output_type": "stream",
     "text": [
      "Sum: 5050\n"
     ]
    }
   ],
   "source": [
    "i = 1\n",
    "total = 0\n",
    "while i <= 100:\n",
    "    total += i\n",
    "    i += 1\n",
    "print(\"Sum:\", total)\n"
   ]
  },
  {
   "cell_type": "code",
   "execution_count": 5,
   "id": "8eb4942a-d2ce-4dd6-8349-37d08fb3eff5",
   "metadata": {},
   "outputs": [
    {
     "name": "stdin",
     "output_type": "stream",
     "text": [
      "Enter a number:  2\n"
     ]
    },
    {
     "name": "stdout",
     "output_type": "stream",
     "text": [
      "2 x 1 = 2\n",
      "2 x 2 = 4\n",
      "2 x 3 = 6\n",
      "2 x 4 = 8\n",
      "2 x 5 = 10\n",
      "2 x 6 = 12\n",
      "2 x 7 = 14\n",
      "2 x 8 = 16\n",
      "2 x 9 = 18\n",
      "2 x 10 = 20\n"
     ]
    }
   ],
   "source": [
    "num = int(input(\"Enter a number: \"))\n",
    "i = 1\n",
    "while i <= 10:\n",
    "    print(f\"{num} x {i} = {num * i}\")\n",
    "    i += 1\n"
   ]
  },
  {
   "cell_type": "code",
   "execution_count": 6,
   "id": "11f037a8-b59c-4e53-91a1-ba74c02a4a75",
   "metadata": {},
   "outputs": [
    {
     "name": "stdin",
     "output_type": "stream",
     "text": [
      "Enter a number:  2576\n"
     ]
    },
    {
     "name": "stdout",
     "output_type": "stream",
     "text": [
      "6 7 5 2 "
     ]
    }
   ],
   "source": [
    "num = int(input(\"Enter a number: \"))\n",
    "while num > 0:\n",
    "    digit = num % 10\n",
    "    print(digit, end=\" \")\n",
    "    num //= 10\n"
   ]
  },
  {
   "cell_type": "code",
   "execution_count": 7,
   "id": "d078bc75-c40f-470c-97e2-0959b81cbbb7",
   "metadata": {},
   "outputs": [
    {
     "name": "stdin",
     "output_type": "stream",
     "text": [
      "Enter a number:  5\n"
     ]
    },
    {
     "name": "stdout",
     "output_type": "stream",
     "text": [
      "Factorial: 120\n"
     ]
    }
   ],
   "source": [
    "num = int(input(\"Enter a number: \"))\n",
    "fact = 1\n",
    "i = 1\n",
    "while i <= num:\n",
    "    fact *= i\n",
    "    i += 1\n",
    "print(\"Factorial:\", fact)\n"
   ]
  },
  {
   "cell_type": "code",
   "execution_count": 9,
   "id": "8c542e99-0ae6-4c88-bd9d-1e8cc865c2ef",
   "metadata": {},
   "outputs": [
    {
     "name": "stdin",
     "output_type": "stream",
     "text": [
      "Enter a number:  242\n"
     ]
    },
    {
     "name": "stdout",
     "output_type": "stream",
     "text": [
      "Palindrome\n"
     ]
    }
   ],
   "source": [
    "num = int(input(\"Enter a number: \"))\n",
    "temp = num\n",
    "rev = 0\n",
    "while num > 0:\n",
    "    digit = num % 10\n",
    "    rev = rev * 10 + digit\n",
    "    num //= 10\n",
    "if rev == temp:\n",
    "    print(\"Palindrome\")\n",
    "else:\n",
    "    print(\"Not Palindrome\")\n"
   ]
  },
  {
   "cell_type": "code",
   "execution_count": 10,
   "id": "108c9d68-2602-4174-a2f6-64082e0567b2",
   "metadata": {},
   "outputs": [],
   "source": [
    "#Print Fibonacci series up to n terms.\n",
    "\n",
    "#Find the number of digits in a number.\n",
    "\n",
    "#Count how many times a digit (e.g. 3) occurs in a number.\n",
    "\n",
    "#Reverse a given number.\n",
    "#Example: Input 456 → Output 654\n",
    "\n",
    "#Check if a number is Armstrong or not.\n",
    "#(Armstrong: sum of cubes of digits equals the number itself)\n",
    "\n",
    "#Generate and print a pattern using while loop:"
   ]
  },
  {
   "cell_type": "code",
   "execution_count": 12,
   "id": "a9bfd338-fdf9-4d88-9036-9c8ebbedb05d",
   "metadata": {},
   "outputs": [
    {
     "name": "stdin",
     "output_type": "stream",
     "text": [
      "Enter number of terms:  7\n"
     ]
    },
    {
     "name": "stdout",
     "output_type": "stream",
     "text": [
      "0 1 1 2 3 5 8 "
     ]
    }
   ],
   "source": [
    "n = int(input(\"Enter number of terms: \"))\n",
    "a, b = 0, 1\n",
    "i = 0\n",
    "while i < n:\n",
    "    print(a, end=\" \")\n",
    "    a, b = b, a + b\n",
    "    i += 1\n"
   ]
  },
  {
   "cell_type": "code",
   "execution_count": 13,
   "id": "b398ffd8-b7f4-46f1-a6dd-4576e5fd7bc4",
   "metadata": {},
   "outputs": [
    {
     "name": "stdin",
     "output_type": "stream",
     "text": [
      "Enter a number:  567\n"
     ]
    },
    {
     "name": "stdout",
     "output_type": "stream",
     "text": [
      "Number of digits: 3\n"
     ]
    }
   ],
   "source": [
    "num = int(input(\"Enter a number: \"))\n",
    "count = 0\n",
    "while num > 0:\n",
    "    num //= 10\n",
    "    count += 1\n",
    "print(\"Number of digits:\", count)\n"
   ]
  },
  {
   "cell_type": "code",
   "execution_count": 16,
   "id": "ec884ce1-fe98-4030-ac9b-a40a455b9ae9",
   "metadata": {},
   "outputs": [
    {
     "name": "stdin",
     "output_type": "stream",
     "text": [
      "Enter a number:  234\n",
      "Enter digit to count:  2\n"
     ]
    },
    {
     "name": "stdout",
     "output_type": "stream",
     "text": [
      "Digit 2 occurs 1 times.\n"
     ]
    }
   ],
   "source": [
    "num = int(input(\"Enter a number: \"))\n",
    "target = int(input(\"Enter digit to count: \"))\n",
    "count = 0\n",
    "while num > 0:\n",
    "    digit = num % 10\n",
    "    if digit == target:\n",
    "        count += 1\n",
    "    num //= 10\n",
    "print(f\"Digit {target} occurs {count} times.\")\n"
   ]
  },
  {
   "cell_type": "code",
   "execution_count": 17,
   "id": "d440844c-6ca3-4f04-96f9-c715d6e5e08b",
   "metadata": {},
   "outputs": [
    {
     "name": "stdin",
     "output_type": "stream",
     "text": [
      "Enter a number:  456\n"
     ]
    },
    {
     "name": "stdout",
     "output_type": "stream",
     "text": [
      "Reversed number: 654\n"
     ]
    }
   ],
   "source": [
    "num = int(input(\"Enter a number: \"))\n",
    "rev = 0\n",
    "while num > 0:\n",
    "    rev = rev * 10 + num % 10\n",
    "    num //= 10\n",
    "print(\"Reversed number:\", rev)\n"
   ]
  },
  {
   "cell_type": "code",
   "execution_count": 18,
   "id": "8e987578-d081-40c4-9505-e677823be832",
   "metadata": {},
   "outputs": [
    {
     "name": "stdin",
     "output_type": "stream",
     "text": [
      "Enter a number:  67\n"
     ]
    },
    {
     "name": "stdout",
     "output_type": "stream",
     "text": [
      "Not an Armstrong number\n"
     ]
    }
   ],
   "source": [
    "num = int(input(\"Enter a number: \"))\n",
    "temp = num\n",
    "sum = 0\n",
    "while num > 0:\n",
    "    digit = num % 10\n",
    "    sum += digit ** 3\n",
    "    num //= 10\n",
    "if sum == temp:\n",
    "    print(\"Armstrong number\")\n",
    "else:\n",
    "    print(\"Not an Armstrong number\")\n"
   ]
  },
  {
   "cell_type": "code",
   "execution_count": 19,
   "id": "0ec67925-07c5-4031-98d9-08290a2c0ae2",
   "metadata": {},
   "outputs": [
    {
     "name": "stdout",
     "output_type": "stream",
     "text": [
      "*\n",
      "**\n",
      "***\n",
      "****\n"
     ]
    }
   ],
   "source": [
    "i = 1\n",
    "while i <= 4:\n",
    "    print(\"*\" * i)\n",
    "    i += 1\n"
   ]
  },
  {
   "cell_type": "code",
   "execution_count": null,
   "id": "95f9e671-3dfb-4763-8339-833436087ef0",
   "metadata": {},
   "outputs": [],
   "source": []
  }
 ],
 "metadata": {
  "kernelspec": {
   "display_name": "Python 3 (ipykernel)",
   "language": "python",
   "name": "python3"
  },
  "language_info": {
   "codemirror_mode": {
    "name": "ipython",
    "version": 3
   },
   "file_extension": ".py",
   "mimetype": "text/x-python",
   "name": "python",
   "nbconvert_exporter": "python",
   "pygments_lexer": "ipython3",
   "version": "3.13.3"
  }
 },
 "nbformat": 4,
 "nbformat_minor": 5
}
