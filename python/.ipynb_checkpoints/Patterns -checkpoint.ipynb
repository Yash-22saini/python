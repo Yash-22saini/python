{
 "cells": [
  {
   "cell_type": "markdown",
   "id": "1589a9a9-db59-4889-9577-e807e7169ea5",
   "metadata": {},
   "source": [
    "# Patterns "
   ]
  },
  {
   "cell_type": "code",
   "execution_count": 4,
   "id": "dc9f536b-e824-41c7-b588-0721aac0c63e",
   "metadata": {},
   "outputs": [
    {
     "name": "stdout",
     "output_type": "stream",
     "text": [
      "* * * * \n",
      "* * * * \n",
      "* * * * \n"
     ]
    }
   ],
   "source": [
    "# 1. square \n",
    "for i in range (1,4):\n",
    "    for j in range(1,5):\n",
    "        print(\"*\",end=\" \")\n",
    "    print(\"\")"
   ]
  },
  {
   "cell_type": "code",
   "execution_count": 6,
   "id": "b8ec1447-88cd-4103-a7f4-652f33af588f",
   "metadata": {},
   "outputs": [
    {
     "name": "stdout",
     "output_type": "stream",
     "text": [
      "1 2 3 4 \n",
      "1 2 3 4 \n",
      "1 2 3 4 \n"
     ]
    }
   ],
   "source": [
    "# 2 .number in square\n",
    "for i in range (1,4):\n",
    "    t=1\n",
    "    for j in range(1,5):\n",
    "        print(t,end=\" \")\n",
    "        t+=1\n",
    "    print(\"\")"
   ]
  },
  {
   "cell_type": "markdown",
   "id": "49d4826d-e212-4587-8c0f-a9c2c612217a",
   "metadata": {},
   "source": [
    "# Triangle "
   ]
  },
  {
   "cell_type": "code",
   "execution_count": 7,
   "id": "3ddb4908-005e-475b-9154-463ebf248c57",
   "metadata": {},
   "outputs": [
    {
     "name": "stdout",
     "output_type": "stream",
     "text": [
      "* \n",
      "* * \n",
      "* * * \n",
      "* * * * \n",
      "* * * * * \n"
     ]
    }
   ],
   "source": [
    "for i in range(1,6):\n",
    "    for j in range(1,i+1):\n",
    "        print(\"*\",end=\" \")\n",
    "    print(\"\")"
   ]
  },
  {
   "cell_type": "code",
   "execution_count": 8,
   "id": "c3da1079-afea-4b3d-ab3a-a13dcdeffca3",
   "metadata": {},
   "outputs": [
    {
     "name": "stdout",
     "output_type": "stream",
     "text": [
      "* * * * * \n",
      "* * * * \n",
      "* * * \n",
      "* * \n",
      "* \n"
     ]
    }
   ],
   "source": [
    "for i in range(1,6):\n",
    "    for j in range(1,7-i):\n",
    "        print(\"*\",end=\" \")\n",
    "    print(\"\")"
   ]
  },
  {
   "cell_type": "code",
   "execution_count": 16,
   "id": "4e11b419-215a-42ce-af80-322125716277",
   "metadata": {},
   "outputs": [
    {
     "name": "stdout",
     "output_type": "stream",
     "text": [
      "1 1 1 1 1  \n",
      "2 2 2 2  \n",
      "3 3 3  \n",
      "4 4  \n",
      "5  \n"
     ]
    }
   ],
   "source": [
    "# here i is printed \n",
    "t=1\n",
    "for i in range(1,6):\n",
    "    for j in range(1,7-i):\n",
    "        print(i,end=\" \")\n",
    "        t+=1\n",
    "    print(\" \")"
   ]
  },
  {
   "cell_type": "code",
   "execution_count": 20,
   "id": "fe3ab013-4117-4972-aef7-087cd8dbb999",
   "metadata": {},
   "outputs": [
    {
     "name": "stdout",
     "output_type": "stream",
     "text": [
      "5 4 3 2 1  \n",
      "5 4 3 2  \n",
      "5 4 3  \n",
      "5 4  \n",
      "5  \n"
     ]
    }
   ],
   "source": [
    "for i in range(1,6):\n",
    "    t=5\n",
    "    for j in range(1,7-i):\n",
    "        print(t,end=\" \")\n",
    "        t-=1\n",
    "    print(\" \")"
   ]
  },
  {
   "cell_type": "code",
   "execution_count": 22,
   "id": "9676ccec-45c7-4be8-9f7e-de461322c243",
   "metadata": {},
   "outputs": [
    {
     "name": "stdout",
     "output_type": "stream",
     "text": [
      "1 2 3 4  \n",
      "5 6 7  \n",
      "8 9  \n",
      "10  \n"
     ]
    }
   ],
   "source": [
    "t=1\n",
    "for i in range(1,5):\n",
    "    for j in range(1,6-i):\n",
    "        print(t,end=\" \")\n",
    "        t+=1\n",
    "    print(\" \")"
   ]
  },
  {
   "cell_type": "code",
   "execution_count": 23,
   "id": "23e160e2-8303-409e-bd06-a261351fac2b",
   "metadata": {},
   "outputs": [
    {
     "name": "stdout",
     "output_type": "stream",
     "text": [
      "A B C D  \n",
      "A B C  \n",
      "A B  \n",
      "A  \n"
     ]
    }
   ],
   "source": [
    "# to print alphabets abc in pattern\n",
    "for i in range(1,5):\n",
    "    t=65\n",
    "    for j in range(1,6-i):\n",
    "        print(chr(t),end=\" \")\n",
    "        t+=1\n",
    "    print(\" \")"
   ]
  },
  {
   "cell_type": "code",
   "execution_count": 24,
   "id": "f1c39c62-6898-4331-b61c-bc6b59f9f50e",
   "metadata": {},
   "outputs": [],
   "source": [
    "# printing triangle right side "
   ]
  },
  {
   "cell_type": "code",
   "execution_count": 27,
   "id": "fb890022-56b9-4b5c-86bf-7be386246cb6",
   "metadata": {},
   "outputs": [
    {
     "name": "stdout",
     "output_type": "stream",
     "text": [
      "        * \n",
      "      * * \n",
      "    * * * \n",
      "  * * * * \n",
      "* * * * * \n"
     ]
    }
   ],
   "source": [
    "for i in range (1,6):\n",
    "    for j in range(1,6-i):\n",
    "        print(\" \",end=\" \")\n",
    "    for j in range(1,i+1):\n",
    "        print(\"*\",end=\" \")\n",
    "    print(\"\")"
   ]
  },
  {
   "cell_type": "code",
   "execution_count": 26,
   "id": "513b78fa-3c27-4775-9033-9421e7edb88a",
   "metadata": {},
   "outputs": [
    {
     "name": "stdout",
     "output_type": "stream",
     "text": [
      "* * * * * \n",
      "  * * * * \n",
      "    * * * \n",
      "      * * \n",
      "        * \n"
     ]
    }
   ],
   "source": [
    "for i in range (1,6):\n",
    "    for j in range(1,i):\n",
    "        print(\" \",end=\" \")\n",
    "    for j in range(1,7-i):\n",
    "        print(\"*\",end=\" \")\n",
    "    print(\"\")"
   ]
  },
  {
   "cell_type": "markdown",
   "id": "cf9b78c8-c2ec-43c7-84f6-8c5329d8dcab",
   "metadata": {},
   "source": [
    "# hollow triangles"
   ]
  },
  {
   "cell_type": "code",
   "execution_count": 33,
   "id": "ec468a69-63a4-4c87-8a92-3a88066cca22",
   "metadata": {},
   "outputs": [
    {
     "name": "stdout",
     "output_type": "stream",
     "text": [
      "* \n",
      "* * \n",
      "*   * \n",
      "*     * \n",
      "* * * * * \n"
     ]
    }
   ],
   "source": [
    "for i in range (1,6):\n",
    "    for j in range(1,i+1):\n",
    "        if(i==5 or j==1 or i==j):\n",
    "            print(\"*\",end=\" \")\n",
    "        else:\n",
    "            print(\" \",end=\" \")\n",
    "    print(\"\")"
   ]
  },
  {
   "cell_type": "code",
   "execution_count": 35,
   "id": "50da901a-0684-45ee-9e1f-6d5171812583",
   "metadata": {},
   "outputs": [
    {
     "name": "stdout",
     "output_type": "stream",
     "text": [
      "* * * * * \n",
      "*     * \n",
      "*   * \n",
      "* * \n",
      "* \n"
     ]
    }
   ],
   "source": [
    "for i in range (1,6):\n",
    "    for j in range(i,6):\n",
    "        if(i==1 or j==5 or i==j):\n",
    "            print(\"*\",end=\" \")\n",
    "        else:\n",
    "            print(\" \",end=\" \")\n",
    "    print(\"\")"
   ]
  },
  {
   "cell_type": "code",
   "execution_count": 41,
   "id": "e82472dc-aa9d-45ec-a15f-f801f18eea29",
   "metadata": {},
   "outputs": [
    {
     "name": "stdout",
     "output_type": "stream",
     "text": [
      "        * \n",
      "      * * \n",
      "    * ? * \n",
      "  * ? ? * \n",
      "* * * * * \n"
     ]
    }
   ],
   "source": [
    "for i in range (1,6):\n",
    "    for j in range(1,6-i):\n",
    "        print(\" \",end=\" \")\n",
    "    for j in range(1,i+1):\n",
    "        if(i==j  or i==5 or j==1):\n",
    "            print(\"*\",end=\" \")\n",
    "        else:\n",
    "            print(\"?\",end=\" \")\n",
    "    print(\"\")"
   ]
  },
  {
   "cell_type": "markdown",
   "id": "e3010caa-ede6-4de9-8696-179abd13bf9e",
   "metadata": {},
   "source": [
    "# center triangle "
   ]
  },
  {
   "cell_type": "code",
   "execution_count": 44,
   "id": "0683fc9d-3e70-4275-8044-b494ffb3b377",
   "metadata": {},
   "outputs": [
    {
     "name": "stdout",
     "output_type": "stream",
     "text": [
      "    * \n",
      "   * * \n",
      "  * * * \n",
      " * * * * \n",
      "* * * * * \n"
     ]
    }
   ],
   "source": [
    "for i in range (1,6):\n",
    "    for j in range(1,6-i):\n",
    "        print(\" \",end=\"\")\n",
    "    for j in range(1,i+1):\n",
    "        print(\"*\",end=\" \")\n",
    "    print(\"\")"
   ]
  },
  {
   "cell_type": "code",
   "execution_count": 46,
   "id": "8e7f73f9-0c10-4e04-b61b-82071714bf20",
   "metadata": {},
   "outputs": [
    {
     "name": "stdout",
     "output_type": "stream",
     "text": [
      " * * * * * \n",
      "  * * * * \n",
      "   * * * \n",
      "    * * \n",
      "     * \n"
     ]
    }
   ],
   "source": [
    "for i in range (1,6):\n",
    "    for j in range(1,i+1):\n",
    "        print(\" \",end=\"\")\n",
    "    for j in range(1,7-i):\n",
    "        print(\"*\",end=\" \")\n",
    "    print(\"\")"
   ]
  },
  {
   "cell_type": "markdown",
   "id": "0bd5fb7c-a7dc-45fd-b335-60b0acccef5f",
   "metadata": {},
   "source": [
    "# Advanced patterns"
   ]
  },
  {
   "cell_type": "markdown",
   "id": "75069ede-df09-4afd-bad9-6e053326f412",
   "metadata": {},
   "source": [
    "# 1. diamond"
   ]
  },
  {
   "cell_type": "code",
   "execution_count": 50,
   "id": "4547d543-71e7-45fd-9392-e6aaf52da486",
   "metadata": {},
   "outputs": [
    {
     "name": "stdout",
     "output_type": "stream",
     "text": [
      "    * \n",
      "   * * \n",
      "  * * * \n",
      " * * * * \n",
      "* * * * * \n",
      " * * * * \n",
      "  * * * \n",
      "   * * \n",
      "    * \n",
      "     \n"
     ]
    }
   ],
   "source": [
    "for i in range (1,6):\n",
    "    for j in range(1,6-i):\n",
    "        print(\" \",end=\"\")\n",
    "    for j in range(1,i+1):\n",
    "        print(\"*\",end=\" \")\n",
    "    print(\"\")\n",
    "for i in range (1,6):\n",
    "    for j in range(1,i+1):\n",
    "        print(\" \",end=\"\")\n",
    "    for j in range(1,6-i):\n",
    "        print(\"*\",end=\" \")\n",
    "    print(\"\")"
   ]
  },
  {
   "cell_type": "markdown",
   "id": "f290a4c3-84a0-40ad-9480-03ff908be57f",
   "metadata": {},
   "source": [
    "# 2.half diamond"
   ]
  },
  {
   "cell_type": "code",
   "execution_count": 59,
   "id": "eaf1f08a-7946-41ad-a6d9-8402cae352f3",
   "metadata": {},
   "outputs": [
    {
     "name": "stdout",
     "output_type": "stream",
     "text": [
      "*\n",
      "**\n",
      "***\n",
      "****\n",
      "*****\n",
      "****\n",
      "***\n",
      "**\n",
      "*\n"
     ]
    }
   ],
   "source": [
    "# no space in end=''\n",
    "for i in range (1,6):\n",
    "    for j in range(1,1+i):\n",
    "        print(\"*\",end=\"\")\n",
    "    print(\"\")\n",
    "for i in range(1,5):\n",
    "    for j in range(1,6-i):\n",
    "        print(\"*\",end=\"\")\n",
    "    print(\"\")"
   ]
  },
  {
   "cell_type": "code",
   "execution_count": 60,
   "id": "62fe63d2-7ee1-47b8-b129-7d59f3d18be7",
   "metadata": {},
   "outputs": [
    {
     "name": "stdout",
     "output_type": "stream",
     "text": [
      "* \n",
      "* * \n",
      "* * * \n",
      "* * * * \n",
      "* * * * * \n",
      "* * * * \n",
      "* * * \n",
      "* * \n",
      "* \n"
     ]
    }
   ],
   "source": [
    "# space in end=\" \"\n",
    "for i in range (1,6):\n",
    "    for j in range(1,1+i):\n",
    "        print(\"*\",end=\" \")\n",
    "    print(\"\")\n",
    "for i in range(1,5):\n",
    "    for j in range(1,6-i):\n",
    "        print(\"*\",end=\" \")\n",
    "    print(\"\")"
   ]
  },
  {
   "cell_type": "code",
   "execution_count": 67,
   "id": "0c1221b6-1dc7-4bbe-85b0-80f43db247e8",
   "metadata": {},
   "outputs": [
    {
     "name": "stdout",
     "output_type": "stream",
     "text": [
      "    *\n",
      "   **\n",
      "  ***\n",
      " ****\n",
      "*****\n",
      " ****\n",
      "  ***\n",
      "   **\n",
      "    *\n"
     ]
    }
   ],
   "source": [
    "for i in range (1,6):\n",
    "    for j in range(1,6-i):\n",
    "        print(\" \",end=\"\")\n",
    "    for j in range(1,1+i):\n",
    "        print(\"*\",end=\"\")\n",
    "    print(\"\")\n",
    "for i in range(1,5):\n",
    "    for j in range(1,1+i):\n",
    "        print(\" \",end=\"\")\n",
    "    for j in range(1,6-i):\n",
    "        print(\"*\",end=\"\")\n",
    "    print(\"\")"
   ]
  },
  {
   "cell_type": "markdown",
   "id": "a0a515be-edec-4012-b3ec-ee84ce3f4f00",
   "metadata": {},
   "source": [
    "# 3. odd star print"
   ]
  },
  {
   "cell_type": "code",
   "execution_count": 71,
   "id": "20313c74-c9a9-4b48-8086-97e2588be379",
   "metadata": {},
   "outputs": [
    {
     "name": "stdout",
     "output_type": "stream",
     "text": [
      "    *\n",
      "   ***\n",
      "  *****\n",
      " *******\n",
      "*********\n"
     ]
    }
   ],
   "source": [
    "for i in range (1,6):\n",
    "    for j in range(1,6-i):\n",
    "        print(\" \",end=\"\")\n",
    "    for j in range(1,2*i):\n",
    "        print(\"*\",end=\"\")\n",
    "    print(\"\")"
   ]
  },
  {
   "cell_type": "markdown",
   "id": "fd213b0c-8200-48a1-b271-6f09b0d7a7ff",
   "metadata": {},
   "source": [
    "# 4.hollow"
   ]
  },
  {
   "cell_type": "code",
   "execution_count": 73,
   "id": "01bb8460-89b9-4a8b-b3f7-7b3e43c8289e",
   "metadata": {},
   "outputs": [
    {
     "name": "stdout",
     "output_type": "stream",
     "text": [
      "    *\n",
      "   * *\n",
      "  *   *\n",
      " *     *\n",
      "*********\n"
     ]
    }
   ],
   "source": [
    "for i in range (1,6):\n",
    "    for j in range(1,6-i):\n",
    "        print(\" \",end=\"\")\n",
    "    for j in range(1,2*i):\n",
    "        if(i==5 or j==1 or j==2*i-1):\n",
    "            print(\"*\",end=\"\")\n",
    "        else:\n",
    "            print(\" \",end=\"\")\n",
    "    print(\"\")"
   ]
  },
  {
   "cell_type": "code",
   "execution_count": 95,
   "id": "0ec479bb-2ad1-4773-bbe0-e3faef559c55",
   "metadata": {},
   "outputs": [
    {
     "name": "stdout",
     "output_type": "stream",
     "text": [
      "*******\n",
      " *   *\n",
      "  * *\n",
      "   *\n"
     ]
    }
   ],
   "source": [
    "for i in range (1,5):\n",
    "    for j in range(1,i):\n",
    "        print(\" \",end=\"\")\n",
    "    star_count = 9 - 2 * (i )  # 7,5,3,1\n",
    "    for j in range(1,star_count+1):\n",
    "        if(i==1 or j==1 or j==star_count):\n",
    "            print(\"*\",end=\"\")\n",
    "        else:\n",
    "            print(\" \",end=\"\")\n",
    "    print(\"\")"
   ]
  },
  {
   "cell_type": "code",
   "execution_count": null,
   "id": "8bb9d8b7-8a3e-42a9-b98c-2fbb71d6bb3e",
   "metadata": {},
   "outputs": [],
   "source": []
  }
 ],
 "metadata": {
  "kernelspec": {
   "display_name": "Python 3 (ipykernel)",
   "language": "python",
   "name": "python3"
  },
  "language_info": {
   "codemirror_mode": {
    "name": "ipython",
    "version": 3
   },
   "file_extension": ".py",
   "mimetype": "text/x-python",
   "name": "python",
   "nbconvert_exporter": "python",
   "pygments_lexer": "ipython3",
   "version": "3.13.3"
  }
 },
 "nbformat": 4,
 "nbformat_minor": 5
}
