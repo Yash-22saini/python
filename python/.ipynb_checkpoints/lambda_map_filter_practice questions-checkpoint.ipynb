{
 "cells": [
  {
   "cell_type": "markdown",
   "id": "8f83d200-7b96-46f9-898f-788a3588f09e",
   "metadata": {},
   "source": [
    "# lambda Function\n",
    "A lambda function is an anonymous, one-line function"
   ]
  },
  {
   "cell_type": "code",
   "execution_count": 21,
   "id": "1858b356-3a85-4d31-86d6-8d8ca91b3cdd",
   "metadata": {},
   "outputs": [
    {
     "name": "stdout",
     "output_type": "stream",
     "text": [
      "25\n"
     ]
    }
   ],
   "source": [
    "square = lambda x: x * x\n",
    "print(square(5))  \n"
   ]
  },
  {
   "cell_type": "markdown",
   "id": "534a38c1-3010-474c-ad6f-a8d57d974191",
   "metadata": {},
   "source": [
    "# map() Function\n",
    "The map() function applies a function to each item in an iterable (like a list)"
   ]
  },
  {
   "cell_type": "code",
   "execution_count": 22,
   "id": "ae4f4af5-cff7-4069-8731-ac02abecb4d6",
   "metadata": {},
   "outputs": [
    {
     "name": "stdout",
     "output_type": "stream",
     "text": [
      "[1, 4, 9, 16]\n"
     ]
    }
   ],
   "source": [
    "nums = [1, 2, 3, 4]\n",
    "squared = list(map(lambda x: x**2, nums))\n",
    "print(squared)  \n"
   ]
  },
  {
   "cell_type": "markdown",
   "id": "c90d59fb-4e60-457d-a4bb-24663a642b91",
   "metadata": {},
   "source": [
    "# filter() Function\n",
    "The filter() function selects items from an iterable based on a condition (True/False"
   ]
  },
  {
   "cell_type": "code",
   "execution_count": 23,
   "id": "5376fe8b-9ba7-4da9-a3a1-7e81c99e1d88",
   "metadata": {},
   "outputs": [
    {
     "name": "stdout",
     "output_type": "stream",
     "text": [
      "[2, 4, 6]\n"
     ]
    }
   ],
   "source": [
    "nums = [1, 2, 3, 4, 5, 6]\n",
    "even_nums = list(filter(lambda x: x % 2 == 0, nums))\n",
    "print(even_nums)  \n"
   ]
  },
  {
   "cell_type": "markdown",
   "id": "1f66bf64-74c5-4e36-8930-29b796a42d31",
   "metadata": {},
   "source": [
    "# QUESTIONS ON LAMBDA MAP FILTER"
   ]
  },
  {
   "cell_type": "markdown",
   "id": "f3fa46e8",
   "metadata": {},
   "source": [
    "### Q1. Use lambda to calculate the cube of a number."
   ]
  },
  {
   "cell_type": "code",
   "execution_count": 24,
   "id": "73501e38",
   "metadata": {},
   "outputs": [
    {
     "name": "stdout",
     "output_type": "stream",
     "text": [
      "27\n"
     ]
    }
   ],
   "source": [
    "cube = lambda x: x**3\n",
    "print(cube(3))  "
   ]
  },
  {
   "cell_type": "markdown",
   "id": "000ee5dd",
   "metadata": {},
   "source": [
    "### Q2. Use map() and lambda to square all numbers in the list: [2, 4, 6, 8]"
   ]
  },
  {
   "cell_type": "code",
   "execution_count": 25,
   "id": "31cc7b54",
   "metadata": {},
   "outputs": [
    {
     "name": "stdout",
     "output_type": "stream",
     "text": [
      "[4, 16, 36, 64]\n"
     ]
    }
   ],
   "source": [
    "nums = [2, 4, 6, 8]\n",
    "squares = list(map(lambda x: x**2, nums))\n",
    "print(squares)"
   ]
  },
  {
   "cell_type": "markdown",
   "id": "95185b5c",
   "metadata": {},
   "source": [
    "### Q3. Use filter() and lambda to get all odd numbers from the list: [1, 2, 3, 4, 5, 6]"
   ]
  },
  {
   "cell_type": "code",
   "execution_count": 26,
   "id": "5f902215",
   "metadata": {},
   "outputs": [
    {
     "name": "stdout",
     "output_type": "stream",
     "text": [
      "[1, 3, 5]\n"
     ]
    }
   ],
   "source": [
    "nums = [1, 2, 3, 4, 5, 6]\n",
    "odds = list(filter(lambda x: x % 2 != 0, nums))\n",
    "print(odds)"
   ]
  },
  {
   "cell_type": "markdown",
   "id": "f05c8622",
   "metadata": {},
   "source": [
    "### Q4. Double the values that are divisible by 3 from list [1, 3, 4, 6, 7, 9] using filter and map."
   ]
  },
  {
   "cell_type": "code",
   "execution_count": 27,
   "id": "0ee3b4e2",
   "metadata": {},
   "outputs": [
    {
     "name": "stdout",
     "output_type": "stream",
     "text": [
      "[6, 12, 18]\n"
     ]
    }
   ],
   "source": [
    "nums = [1, 3, 4, 6, 7, 9]\n",
    "result = list(map(lambda x: x * 2, filter(lambda x: x % 3 == 0, nums)))\n",
    "print(result)"
   ]
  },
  {
   "cell_type": "markdown",
   "id": "3c8d7d4d",
   "metadata": {},
   "source": [
    "### Q5. Filter the words with more than 5 letters."
   ]
  },
  {
   "cell_type": "code",
   "execution_count": 28,
   "id": "46557899",
   "metadata": {},
   "outputs": [
    {
     "name": "stdout",
     "output_type": "stream",
     "text": [
      "['banana', 'cherry']\n"
     ]
    }
   ],
   "source": [
    "words = [\"apple\", \"banana\", \"cherry\", \"date\"]\n",
    "long_words = list(filter(lambda word: len(word) > 5, words))\n",
    "print(long_words)"
   ]
  },
  {
   "cell_type": "markdown",
   "id": "83afdc93",
   "metadata": {},
   "source": [
    "### Q6. Convert Celsius to Fahrenheit using map and lambda."
   ]
  },
  {
   "cell_type": "code",
   "execution_count": 29,
   "id": "b9265b69",
   "metadata": {},
   "outputs": [
    {
     "name": "stdout",
     "output_type": "stream",
     "text": [
      "[32.0, 68.0, 98.6, 212.0]\n"
     ]
    }
   ],
   "source": [
    "celsius = [0, 20, 37, 100]\n",
    "fahrenheit = list(map(lambda c: c * 9/5 + 32, celsius))\n",
    "print(fahrenheit)"
   ]
  },
  {
   "cell_type": "markdown",
   "id": "32521022",
   "metadata": {},
   "source": [
    "### Q7. Extract all numbers greater than 10."
   ]
  },
  {
   "cell_type": "code",
   "execution_count": 30,
   "id": "fc570712",
   "metadata": {},
   "outputs": [
    {
     "name": "stdout",
     "output_type": "stream",
     "text": [
      "[12, 18, 21]\n"
     ]
    }
   ],
   "source": [
    "nums = [5, 12, 7, 18, 3, 21]\n",
    "result = list(filter(lambda x: x > 10, nums))\n",
    "print(result)"
   ]
  },
  {
   "cell_type": "markdown",
   "id": "e4e17ae9",
   "metadata": {},
   "source": [
    "### Q8. Add 5 to each number in the list."
   ]
  },
  {
   "cell_type": "code",
   "execution_count": 31,
   "id": "a122bfb9",
   "metadata": {},
   "outputs": [
    {
     "name": "stdout",
     "output_type": "stream",
     "text": [
      "[6, 7, 8, 9]\n"
     ]
    }
   ],
   "source": [
    "nums = [1, 2, 3, 4]\n",
    "result = list(map(lambda x: x + 5, nums))\n",
    "print(result)"
   ]
  },
  {
   "cell_type": "markdown",
   "id": "4b3c895c",
   "metadata": {},
   "source": [
    "### Q9. Filter names that start with the letter ‘A’."
   ]
  },
  {
   "cell_type": "code",
   "execution_count": 32,
   "id": "251e576d",
   "metadata": {},
   "outputs": [
    {
     "name": "stdout",
     "output_type": "stream",
     "text": [
      "['Alice', 'Ankit', 'Arun']\n"
     ]
    }
   ],
   "source": [
    "names = ['Alice', 'Bob', 'Ankit', 'Charlie', 'Arun']\n",
    "result = list(filter(lambda name: name.startswith('A'), names))\n",
    "print(result)"
   ]
  },
  {
   "cell_type": "markdown",
   "id": "8e955a3f",
   "metadata": {},
   "source": [
    "### Q10. Multiply all odd numbers in the list by 3."
   ]
  },
  {
   "cell_type": "code",
   "execution_count": 33,
   "id": "af689337",
   "metadata": {},
   "outputs": [
    {
     "name": "stdout",
     "output_type": "stream",
     "text": [
      "[9, 15, 21]\n"
     ]
    }
   ],
   "source": [
    "nums = [2, 3, 4, 5, 6, 7]\n",
    "result = list(map(lambda x: x * 3, filter(lambda x: x % 2 != 0, nums)))\n",
    "print(result)"
   ]
  },
  {
   "cell_type": "markdown",
   "id": "6438455c",
   "metadata": {},
   "source": [
    "### Q11. Return only lowercase words."
   ]
  },
  {
   "cell_type": "code",
   "execution_count": 34,
   "id": "20521215",
   "metadata": {},
   "outputs": [
    {
     "name": "stdout",
     "output_type": "stream",
     "text": [
      "['hello', 'python', 'data']\n"
     ]
    }
   ],
   "source": [
    "words = [\"hello\", \"World\", \"python\", \"AI\", \"data\"]\n",
    "result = list(filter(lambda word: word.islower(), words))\n",
    "print(result)"
   ]
  },
  {
   "cell_type": "markdown",
   "id": "a8f9af76",
   "metadata": {},
   "source": [
    "### Q12. Convert a list of integers to strings."
   ]
  },
  {
   "cell_type": "code",
   "execution_count": 35,
   "id": "e4abeba5",
   "metadata": {},
   "outputs": [
    {
     "name": "stdout",
     "output_type": "stream",
     "text": [
      "['1', '2', '3']\n"
     ]
    }
   ],
   "source": [
    "nums = [1, 2, 3]\n",
    "result = list(map(lambda x: str(x), nums))\n",
    "print(result)"
   ]
  },
  {
   "cell_type": "markdown",
   "id": "106fec42",
   "metadata": {},
   "source": [
    "### Q13. Filter people younger than 18."
   ]
  },
  {
   "cell_type": "code",
   "execution_count": 36,
   "id": "d02c1afe",
   "metadata": {},
   "outputs": [
    {
     "name": "stdout",
     "output_type": "stream",
     "text": [
      "[('Alice', 22), ('Charlie', 19)]\n"
     ]
    }
   ],
   "source": [
    "people = [('Alice', 22), ('Bob', 17), ('Charlie', 19), ('David', 15)]\n",
    "result = list(filter(lambda person: person[1] >= 18, people))\n",
    "print(result)"
   ]
  },
  {
   "cell_type": "markdown",
   "id": "213a55d0",
   "metadata": {},
   "source": [
    "### Q14. Apply 10% discount to prices."
   ]
  },
  {
   "cell_type": "code",
   "execution_count": 37,
   "id": "d28e5dcb",
   "metadata": {},
   "outputs": [
    {
     "name": "stdout",
     "output_type": "stream",
     "text": [
      "[90.0, 180.0, 270.0]\n"
     ]
    }
   ],
   "source": [
    "prices = [100, 200, 300]\n",
    "result = list(map(lambda x: x * 0.9, prices))\n",
    "print(result)"
   ]
  },
  {
   "cell_type": "markdown",
   "id": "ff6b2a49",
   "metadata": {},
   "source": [
    "### Q15. Get square roots of only positive numbers."
   ]
  },
  {
   "cell_type": "code",
   "execution_count": 38,
   "id": "5c99c7cb",
   "metadata": {},
   "outputs": [
    {
     "name": "stdout",
     "output_type": "stream",
     "text": [
      "[3.0, 4.0, 5.0]\n"
     ]
    }
   ],
   "source": [
    "import math\n",
    "nums = [-4, 9, 16, -1, 25]\n",
    "result = list(map(lambda x: math.sqrt(x), filter(lambda x: x > 0, nums)))\n",
    "print(result)"
   ]
  },
  {
   "cell_type": "code",
   "execution_count": null,
   "id": "49b0408a-dd36-40bb-a77e-6a846309437a",
   "metadata": {},
   "outputs": [],
   "source": []
  },
  {
   "cell_type": "code",
   "execution_count": null,
   "id": "85638d55-c8a9-466e-804d-4cecbc3dcf86",
   "metadata": {},
   "outputs": [],
   "source": []
  }
 ],
 "metadata": {
  "kernelspec": {
   "display_name": "Python 3 (ipykernel)",
   "language": "python",
   "name": "python3"
  },
  "language": "python",
  "language_info": {
   "codemirror_mode": {
    "name": "ipython",
    "version": 3
   },
   "file_extension": ".py",
   "mimetype": "text/x-python",
   "name": "python",
   "nbconvert_exporter": "python",
   "pygments_lexer": "ipython3",
   "version": "3.13.3"
  }
 },
 "nbformat": 4,
 "nbformat_minor": 5
}
