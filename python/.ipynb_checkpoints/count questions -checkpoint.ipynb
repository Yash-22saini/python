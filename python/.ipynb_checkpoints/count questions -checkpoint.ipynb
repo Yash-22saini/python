{
 "cells": [
  {
   "cell_type": "code",
   "execution_count": 11,
   "id": "61bc91dd-49b2-41a7-bc7b-0073067c6998",
   "metadata": {},
   "outputs": [
    {
     "name": "stdout",
     "output_type": "stream",
     "text": [
      "Repeated \n",
      "{'yash': 3, 'aman': 2}\n"
     ]
    }
   ],
   "source": [
    "names = [ 'yash' ,'aman' , 'roy' , 'karan', 'yash' , 'aman' , 'yash']\n",
    "\n",
    "count = {}\n",
    "for name in names:\n",
    "    if name in count:\n",
    "        count[name] += 1\n",
    "    else:\n",
    "        count[name] = 1\n",
    "\n",
    "my_dict = {}\n",
    "\n",
    "for name, count in count.items():\n",
    "    if count > 1:\n",
    "        my_dict[name] = count\n",
    "\n",
    "print(\"Repeated \")\n",
    "print(my_dict)\n"
   ]
  },
  {
   "cell_type": "code",
   "execution_count": 1,
   "id": "c03b3811-23c6-41e9-bb4d-8798efbe0807",
   "metadata": {},
   "outputs": [
    {
     "name": "stdout",
     "output_type": "stream",
     "text": [
      "3\n"
     ]
    }
   ],
   "source": [
    "# Count words containing 'e'\n",
    "words = [\"apple\", \"banana\", \"cherry\", \"date\"]\n",
    "count = 0\n",
    "for word in words:\n",
    "    if 'e' in word:\n",
    "        count += 1\n",
    "print(count) \n"
   ]
  },
  {
   "cell_type": "code",
   "execution_count": 2,
   "id": "779e8675-075d-4014-a6b3-429f9fb1657d",
   "metadata": {},
   "outputs": [
    {
     "name": "stdout",
     "output_type": "stream",
     "text": [
      "3\n"
     ]
    }
   ],
   "source": [
    "# Count 2 in list\n",
    "numbers = [1, 2, 3, 2, 4, 2, 5]\n",
    "count = 0\n",
    "for n in numbers:\n",
    "    if n == 2:\n",
    "        count += 1\n",
    "print(count)  \n"
   ]
  },
  {
   "cell_type": "code",
   "execution_count": 4,
   "id": "cb1d4b56-727a-41c4-9027-7f879ac07676",
   "metadata": {},
   "outputs": [
    {
     "name": "stdout",
     "output_type": "stream",
     "text": [
      "5\n"
     ]
    }
   ],
   "source": [
    "# Count 'a' in \"banana apple mango\"\n",
    "text = \"banana apple mango\"\n",
    "count = 0\n",
    "for ch in text:\n",
    "    if ch == 'a':\n",
    "        count += 1\n",
    "print(count)  \n"
   ]
  },
  {
   "cell_type": "code",
   "execution_count": 5,
   "id": "894181e7-554a-4b21-88a2-599bb86d4ab9",
   "metadata": {},
   "outputs": [
    {
     "name": "stdout",
     "output_type": "stream",
     "text": [
      "Uppercase: 2\n",
      "Lowercase: 8\n"
     ]
    }
   ],
   "source": [
    "# Count uppercase and lowercase letters\n",
    "s = \"Hello World!\"\n",
    "upper = lower = 0\n",
    "for ch in s:\n",
    "    if ch.isupper():\n",
    "        upper += 1\n",
    "    elif ch.islower():\n",
    "        lower += 1\n",
    "print(\"Uppercase:\", upper)   \n",
    "print(\"Lowercase:\", lower)   \n"
   ]
  },
  {
   "cell_type": "code",
   "execution_count": null,
   "id": "c3d52d1d-48cf-47de-acf7-ce268b42fd98",
   "metadata": {},
   "outputs": [],
   "source": []
  }
 ],
 "metadata": {
  "kernelspec": {
   "display_name": "Python 3 (ipykernel)",
   "language": "python",
   "name": "python3"
  },
  "language_info": {
   "codemirror_mode": {
    "name": "ipython",
    "version": 3
   },
   "file_extension": ".py",
   "mimetype": "text/x-python",
   "name": "python",
   "nbconvert_exporter": "python",
   "pygments_lexer": "ipython3",
   "version": "3.13.3"
  }
 },
 "nbformat": 4,
 "nbformat_minor": 5
}
