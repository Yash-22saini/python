{
 "cells": [
  {
   "cell_type": "markdown",
   "id": "554aaeb7-2051-4d22-a6da-0e2a95556ac0",
   "metadata": {},
   "source": [
    "# Introduction to Python\n",
    "\n",
    "# Fundamentals of Python\n",
    "# (1). Data types\n",
    "# (2). Variables\n",
    "# (3). Print() and input()"
   ]
  },
  {
   "cell_type": "code",
   "execution_count": 2,
   "id": "aac71e66-a595-42c2-8cb0-fac7620b7722",
   "metadata": {},
   "outputs": [],
   "source": [
    "# (1). Data types\n",
    "# (a). Integer ----> 35 , -35\n",
    "# (b). Float  ---> 13.57\n",
    "# (c). String ---> '' , \" \" , ''' '''\n",
    "# (d). Boolean  ----> True , False\n"
   ]
  },
  {
   "cell_type": "code",
   "execution_count": 3,
   "id": "71703399-52fd-4ca6-91de-68055dd78578",
   "metadata": {},
   "outputs": [
    {
     "name": "stdout",
     "output_type": "stream",
     "text": [
      "11\n",
      "11\n"
     ]
    }
   ],
   "source": [
    "# (2). Variables ---> This is a container in which we can store or assign the values .\n",
    "# Ex.\n",
    "a = 5\n",
    "b = 'sam'\n",
    "c = 45.89\n",
    "\n",
    "### here a,b,c = variables\n",
    "\n",
    "# Types of Variables ----->\n",
    "# (a). Global Variable ---> This is outside of code of block .\n",
    "a = 5\n",
    "b = ['sam' , 'raj']\n",
    "# (b). Local Variable  ---> This is inside of code of block .\n",
    "def my_add():\n",
    "  a = 5\n",
    "  b = 6\n",
    "  c = a + b\n",
    "  print(c)\n",
    "my_add()\n",
    "\n",
    "### here a,b ,c local variables .\n",
    "\n",
    "def my_add(a,b):\n",
    "  c = a + b\n",
    "  print(c)\n",
    "a = 5\n",
    "b = 6\n",
    "my_add(a,b)\n",
    "\n",
    "## here a,b ---> global variable and c ---> local variable ."
   ]
  },
  {
   "cell_type": "code",
   "execution_count": 4,
   "id": "ef25fc5e-d66e-4787-8727-0789769fa10e",
   "metadata": {},
   "outputs": [
    {
     "data": {
      "text/plain": [
       "'12'"
      ]
     },
     "execution_count": 4,
     "metadata": {},
     "output_type": "execute_result"
    }
   ],
   "source": [
    "# input() ----> This is pre-defined function of python that will take query from users and its output\n",
    "# is stored in string format by default .\n",
    "\n",
    "a = '1'\n",
    "# type(a)\n",
    "b = '2'\n",
    "c = a + b\n",
    "c"
   ]
  },
  {
   "cell_type": "code",
   "execution_count": 6,
   "id": "76363f87-c8d4-4e6b-8aec-c862876f34c8",
   "metadata": {},
   "outputs": [
    {
     "name": "stdin",
     "output_type": "stream",
     "text": [
      "Enter first number: 12\n",
      "Enter second number: 34\n"
     ]
    },
    {
     "data": {
      "text/plain": [
       "'1234'"
      ]
     },
     "execution_count": 6,
     "metadata": {},
     "output_type": "execute_result"
    }
   ],
   "source": [
    "a = input(\"Enter first number:\")\n",
    "b = input(\"Enter second number:\")\n",
    "c = a + b\n",
    "c"
   ]
  },
  {
   "cell_type": "code",
   "execution_count": 7,
   "id": "8a207c6f-a738-47d0-9843-df3e1c1725d6",
   "metadata": {},
   "outputs": [],
   "source": [
    "# type-casting -----> Using this method , we can change one data-type value to another data type ."
   ]
  },
  {
   "cell_type": "code",
   "execution_count": 8,
   "id": "2bfad2be-dc0e-4d7d-ae0c-a12e6dd5ccde",
   "metadata": {},
   "outputs": [
    {
     "name": "stdout",
     "output_type": "stream",
     "text": [
      "5\n",
      "<class 'int'>\n",
      "5.0\n",
      "<class 'float'>\n",
      "5.0\n",
      "<class 'str'>\n"
     ]
    }
   ],
   "source": [
    "a = 5\n",
    "print(a)\n",
    "print(type(a))\n",
    "b = float(a)\n",
    "print(b)\n",
    "print(type(b))\n",
    "c = str(b)\n",
    "print(c)\n",
    "print(type(c))"
   ]
  },
  {
   "cell_type": "code",
   "execution_count": 9,
   "id": "12eb6466-e987-4135-a069-3798c7b4aca0",
   "metadata": {},
   "outputs": [
    {
     "name": "stdin",
     "output_type": "stream",
     "text": [
      "Enter first number: 12\n",
      "Enter second number: 34\n"
     ]
    },
    {
     "data": {
      "text/plain": [
       "46"
      ]
     },
     "execution_count": 9,
     "metadata": {},
     "output_type": "execute_result"
    }
   ],
   "source": [
    "a = int(input(\"Enter first number:\"))\n",
    "b = int(input(\"Enter second number:\"))\n",
    "c = a + b\n",
    "c"
   ]
  },
  {
   "cell_type": "code",
   "execution_count": 10,
   "id": "65b798e6-c1a0-43e9-898a-3e913fc635f0",
   "metadata": {},
   "outputs": [
    {
     "name": "stdout",
     "output_type": "stream",
     "text": [
      "5\n",
      "56.89\n"
     ]
    }
   ],
   "source": [
    "# print() ----> This is also a pre-defined function in python that will execute our query on the terminal .\n",
    "a = 5\n",
    "print(a)\n",
    "b = 56.89\n",
    "print(b)"
   ]
  },
  {
   "cell_type": "code",
   "execution_count": 11,
   "id": "2f0f96a6-5712-4560-9985-d9ee4c21f49f",
   "metadata": {},
   "outputs": [
    {
     "name": "stdin",
     "output_type": "stream",
     "text": [
      "Enter first word: good\n",
      "Enter second word: morning\n"
     ]
    },
    {
     "data": {
      "text/plain": [
       "'goodmorning'"
      ]
     },
     "execution_count": 11,
     "metadata": {},
     "output_type": "execute_result"
    }
   ],
   "source": [
    "a = input(\"Enter first word:\")\n",
    "b = input(\"Enter second word:\")\n",
    "c = a + b\n",
    "c"
   ]
  },
  {
   "cell_type": "code",
   "execution_count": 12,
   "id": "939bb2e3-5d0a-4580-9403-73e11d592ee0",
   "metadata": {},
   "outputs": [],
   "source": [
    "# Most common used operators in python\n",
    "\n",
    "# (1). Add(+) -----> 5+4 = 9\n",
    "# (2). Substract(-) ---> 5-3 =2\n",
    "# (3). Multiplication(*) ----> 5*2 = 10\n",
    "# (4). Division(/) ---> 5/2 = 2.5\n",
    "# (5). Floor Division(//) ---> 5//2\n",
    "# (6). Module(%) ---> FOr Remainder Calculation ---> 25%10 = 5\n",
    "# (7). Equal to (=) ---> for values assignment ---> a = 5\n",
    "# (8). Equal Equal to(==) ---> for values comparison ---> 'sam'=='mohit'\n",
    "# (9). Not Equal to(!=) ---> Not Equal to ---> 'sam'!='Mohit'\n",
    "# (10). Greater thna (>) ---> 5>4\n",
    "# (11). Less than (<) ---> 3<5\n",
    "# (12). Greater than or Equal to (>=) ---> 5>=5\n",
    "# (13). Less than or Equal to (<=) ---> 4<=5\n",
    "# (14). Power(**) ---> 2**3 = 8"
   ]
  },
  {
   "cell_type": "markdown",
   "id": "4fa09afd-e56a-4a61-8480-0b08c9e56ecd",
   "metadata": {},
   "source": [
    "# # Conditional Statement in python\n",
    "\n",
    "# if\n",
    "\n",
    "# elif           user_query\n",
    "\n",
    "# else"
   ]
  },
  {
   "cell_type": "code",
   "execution_count": 14,
   "id": "db671874-17af-4ef4-bf9e-f4e44ce4fe8b",
   "metadata": {},
   "outputs": [
    {
     "name": "stdin",
     "output_type": "stream",
     "text": [
      "Enter name: rahul\n"
     ]
    },
    {
     "name": "stdout",
     "output_type": "stream",
     "text": [
      "try again...\n"
     ]
    }
   ],
   "source": [
    "a = input(\"Enter name:\")\n",
    "if(a=='sam'):\n",
    "  print('yes')\n",
    "elif(a=='raj'):\n",
    "  print('no')\n",
    "else:\n",
    "  print('try again...')"
   ]
  },
  {
   "cell_type": "code",
   "execution_count": 15,
   "id": "228746eb-cf8a-48ac-b813-9affc51a6ce4",
   "metadata": {},
   "outputs": [
    {
     "name": "stdin",
     "output_type": "stream",
     "text": [
      "Enter Number: 34\n"
     ]
    },
    {
     "name": "stdout",
     "output_type": "stream",
     "text": [
      "young\n"
     ]
    }
   ],
   "source": [
    "# Q.2 Write a program who tell user is child , young or old .\n",
    "a = int(input(\"Enter Number:\"))\n",
    "if(0<=a<=20):\n",
    "  print(\"child\")\n",
    "elif(21<=a<=50):\n",
    "  print(\"young\")\n",
    "elif(51<=a<=90):\n",
    "  print(\"old\")\n",
    "else:\n",
    "  print(\"Please enter valid age.....\")"
   ]
  },
  {
   "cell_type": "code",
   "execution_count": 18,
   "id": "e0226c95-8692-4f79-a4ba-d6e3b7015c74",
   "metadata": {},
   "outputs": [
    {
     "name": "stdout",
     "output_type": "stream",
     "text": [
      "Pizaa-100 , Burgur-50 , Juice-20 , Biryani-100\n"
     ]
    },
    {
     "name": "stdin",
     "output_type": "stream",
     "text": [
      "Enter your yummy item..... Biryani\n",
      "Enter total quantity: 15\n"
     ]
    },
    {
     "name": "stdout",
     "output_type": "stream",
     "text": [
      "Your yummy item is Biryani.\n",
      "Your 10% discounted price is 1350.0\n"
     ]
    }
   ],
   "source": [
    "#Q3.\n",
    "print(\"Pizaa-100 , Burgur-50 , Juice-20 , Biryani-100\")\n",
    "a = input(\"Enter your yummy item.....\")\n",
    "\n",
    "if (a == 'Biryani'):\n",
    "  b = int(input(\"Enter total quantity:\"))\n",
    "  print(\"Your yummy item is Biryani.\")\n",
    "  c = b*100\n",
    "  if (c>1000):\n",
    "    print(\"Your 10% discounted price is\" , c-(c*10/100))\n",
    "  else:\n",
    "      print(\"Your total bill is :\" , c)\n"
   ]
  },
  {
   "cell_type": "code",
   "execution_count": null,
   "id": "8f50a60a-27d6-48cb-8a47-0c50436b5755",
   "metadata": {},
   "outputs": [],
   "source": []
  }
 ],
 "metadata": {
  "kernelspec": {
   "display_name": "Python 3 (ipykernel)",
   "language": "python",
   "name": "python3"
  },
  "language_info": {
   "codemirror_mode": {
    "name": "ipython",
    "version": 3
   },
   "file_extension": ".py",
   "mimetype": "text/x-python",
   "name": "python",
   "nbconvert_exporter": "python",
   "pygments_lexer": "ipython3",
   "version": "3.13.3"
  }
 },
 "nbformat": 4,
 "nbformat_minor": 5
}
