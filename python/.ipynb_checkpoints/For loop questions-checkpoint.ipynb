{
 "cells": [
  {
   "cell_type": "markdown",
   "id": "8d825bc2-12b5-40c8-857d-81ee2edd71dc",
   "metadata": {},
   "source": [
    "# For loop questions "
   ]
  },
  {
   "cell_type": "code",
   "execution_count": 2,
   "id": "d01c2c7c-1f47-4eb3-b0b2-a6222a66b5a2",
   "metadata": {},
   "outputs": [
    {
     "name": "stdout",
     "output_type": "stream",
     "text": [
      "Numbers from 1 to 10:\n",
      "1\n",
      "2\n",
      "3\n",
      "4\n",
      "5\n",
      "6\n",
      "7\n",
      "8\n",
      "9\n",
      "10\n"
     ]
    }
   ],
   "source": [
    "# 1. Print numbers from 1 to 10\n",
    "print(\"Numbers from 1 to 10:\")\n",
    "for i in range(1, 11):\n",
    "    print(i)"
   ]
  },
  {
   "cell_type": "code",
   "execution_count": 5,
   "id": "29d2edd7-13e3-4d32-bb95-5015f8f2638a",
   "metadata": {},
   "outputs": [
    {
     "name": "stdout",
     "output_type": "stream",
     "text": [
      "Even numbers from 1 to 20:\n",
      "2\n",
      "4\n",
      "6\n",
      "8\n",
      "10\n",
      "12\n",
      "14\n",
      "16\n",
      "18\n",
      "20\n"
     ]
    }
   ],
   "source": [
    "# 2. Print even numbers between 1 to 20\n",
    "print(\"Even numbers from 1 to 20:\")\n",
    "for i in range(2, 21, 2):\n",
    "    print(i)"
   ]
  },
  {
   "cell_type": "code",
   "execution_count": 7,
   "id": "e6f69875-1266-45c8-8c62-bd9c34b3fc5c",
   "metadata": {},
   "outputs": [
    {
     "name": "stdout",
     "output_type": "stream",
     "text": [
      "Characters in the string 'Python':\n",
      "P\n",
      "y\n",
      "t\n",
      "h\n",
      "o\n",
      "n\n"
     ]
    }
   ],
   "source": [
    "# 3. Print the characters in a string\n",
    "print(\"Characters in the string 'Python':\")\n",
    "word = \"Python\"\n",
    "for char in word:\n",
    "    print(char)"
   ]
  },
  {
   "cell_type": "code",
   "execution_count": 8,
   "id": "cda475e6-d580-4cee-8589-9ffd44f841c2",
   "metadata": {},
   "outputs": [
    {
     "name": "stdout",
     "output_type": "stream",
     "text": [
      "Sum of first 10 natural numbers:\n",
      "Sum: 55\n"
     ]
    }
   ],
   "source": [
    "# 4. Sum of first 10 natural numbers\n",
    "print(\"Sum of first 10 natural numbers:\")\n",
    "total = 0\n",
    "for i in range(1, 11):\n",
    "    total += i\n",
    "print(\"Sum:\", total)"
   ]
  },
  {
   "cell_type": "code",
   "execution_count": 11,
   "id": "aaeb6eb1-342f-4851-a56d-7d27a081b952",
   "metadata": {},
   "outputs": [
    {
     "name": "stdout",
     "output_type": "stream",
     "text": [
      "Multiplication table of 5:\n",
      "5 x 1 = 5\n",
      "5 x 2 = 10\n",
      "5 x 3 = 15\n",
      "5 x 4 = 20\n",
      "5 x 5 = 25\n",
      "5 x 6 = 30\n",
      "5 x 7 = 35\n",
      "5 x 8 = 40\n",
      "5 x 9 = 45\n",
      "5 x 10 = 50\n"
     ]
    }
   ],
   "source": [
    "\n",
    "# 5. Multiplication table of 5\n",
    "print(\"Multiplication table of 5:\")\n",
    "num = 5\n",
    "\n",
    "for i in range(1, 11):\n",
    "    print(f\"{num} x {i} = {num*i}\")"
   ]
  },
  {
   "cell_type": "code",
   "execution_count": 12,
   "id": "3bbd00b5-62fa-4046-87b6-c9716621ce9c",
   "metadata": {},
   "outputs": [
    {
     "name": "stdout",
     "output_type": "stream",
     "text": [
      "Prime numbers between 10 and 50:\n",
      "11\n",
      "13\n",
      "17\n",
      "19\n",
      "23\n",
      "29\n",
      "31\n",
      "37\n",
      "41\n",
      "43\n",
      "47\n"
     ]
    }
   ],
   "source": [
    "# 6. Prime numbers between 10 and 50\n",
    "print(\"Prime numbers between 10 and 50:\")\n",
    "for num in range(10, 51):\n",
    "    for i in range(2, num):\n",
    "        if num % i == 0:\n",
    "            break\n",
    "    else:\n",
    "        print(num)"
   ]
  },
  {
   "cell_type": "code",
   "execution_count": 15,
   "id": "d3617397-4eb4-467f-9dcb-481de6aef2b2",
   "metadata": {},
   "outputs": [
    {
     "name": "stdout",
     "output_type": "stream",
     "text": [
      "Reverse the string 'Data':\n",
      "ataD\n"
     ]
    }
   ],
   "source": [
    "# 7. Reverse a string using a for loop\n",
    "print(\"Reverse the string 'Data':\")\n",
    "s = \"Data\"\n",
    "reversed_s = ''\n",
    "for char in s:\n",
    "    reversed_s = char + reversed_s\n",
    "print(reversed_s)"
   ]
  },
  {
   "cell_type": "code",
   "execution_count": 16,
   "id": "b74f8e57-148f-458d-b8e3-6ad80955b0ee",
   "metadata": {},
   "outputs": [
    {
     "name": "stdout",
     "output_type": "stream",
     "text": [
      "Count vowels in 'Hello World':\n",
      "Vowel count: 3\n"
     ]
    }
   ],
   "source": [
    "# 8. Count vowels in a string\n",
    "print(\"Count vowels in 'Hello World':\")\n",
    "s = \"Hello World\"\n",
    "count = 0\n",
    "for char in s.lower():\n",
    "    if char in 'aeiou':\n",
    "        count += 1\n",
    "print(\"Vowel count:\", count)"
   ]
  },
  {
   "cell_type": "code",
   "execution_count": 17,
   "id": "b5ddf840-6b9f-423a-a4ea-dad34ea5bf26",
   "metadata": {},
   "outputs": [
    {
     "name": "stdout",
     "output_type": "stream",
     "text": [
      "Factorial of 5:\n",
      "Factorial: 120\n"
     ]
    }
   ],
   "source": [
    "# 9, Factorial of a number\n",
    "print(\"Factorial of 5:\")\n",
    "n = 5\n",
    "fact = 1\n",
    "for i in range(1, n + 1):\n",
    "    fact *= i\n",
    "print(\"Factorial:\", fact)"
   ]
  },
  {
   "cell_type": "code",
   "execution_count": 21,
   "id": "04ce53f3-ce73-4bc3-90b2-f923312b74d2",
   "metadata": {},
   "outputs": [
    {
     "name": "stdout",
     "output_type": "stream",
     "text": [
      "Check if number is an Armstrong number:\n"
     ]
    },
    {
     "name": "stdin",
     "output_type": "stream",
     "text": [
      "enter number 153\n"
     ]
    },
    {
     "name": "stdout",
     "output_type": "stream",
     "text": [
      "Armstrong\n"
     ]
    }
   ],
   "source": [
    "# 10. Check if number is Armstrong\n",
    "print(\"Check if number is an Armstrong number:\")\n",
    "num = int(input(\"enter number\"))\n",
    "power = len(str(num))\n",
    "sum = 0\n",
    "for digit in str(num):\n",
    "    sum += int(digit) ** power\n",
    "print(\"Armstrong\" if sum == num else \"Not Armstrong\")"
   ]
  },
  {
   "cell_type": "code",
   "execution_count": null,
   "id": "cf49a83b-cafa-4514-9778-901680a655ed",
   "metadata": {},
   "outputs": [],
   "source": []
  }
 ],
 "metadata": {
  "kernelspec": {
   "display_name": "Python 3 (ipykernel)",
   "language": "python",
   "name": "python3"
  },
  "language_info": {
   "codemirror_mode": {
    "name": "ipython",
    "version": 3
   },
   "file_extension": ".py",
   "mimetype": "text/x-python",
   "name": "python",
   "nbconvert_exporter": "python",
   "pygments_lexer": "ipython3",
   "version": "3.13.3"
  }
 },
 "nbformat": 4,
 "nbformat_minor": 5
}
