{
 "cells": [
  {
   "cell_type": "code",
   "execution_count": 12,
   "id": "1fabc1be-9887-4e84-b5c1-ee0c3daed4fc",
   "metadata": {},
   "outputs": [
    {
     "name": "stdout",
     "output_type": "stream",
     "text": [
      "500 deposited. new balance: 1500\n"
     ]
    }
   ],
   "source": [
    "class bankaccount:\n",
    "    def __init__(self, holder_name, balance=0):\n",
    "        self.holder_name = holder_name\n",
    "        self.balance = balance\n",
    "\n",
    "    def deposit(self, amount):\n",
    "        self.balance += amount \n",
    "        print(f\"{amount} deposited. new balance: {self.balance}\")\n",
    "\n",
    "    def withdraw (self, amount):\n",
    "        if amount <=self.balance:\n",
    "            self.balance -= amount \n",
    "            print(f\"{amount} withdrawn. remaining balance:{self.balance}\")\n",
    "        else:\n",
    "            print(\"insufficient funds!\")\n",
    "    def check_balance(self):\n",
    "        return f\"account balance for{self.holder_name}:{self.account}\" \n",
    "\n",
    "account = bankaccount(\"yash\",1000)\n",
    "account.deposit(500)\n"
   ]
  },
  {
   "cell_type": "code",
   "execution_count": 4,
   "id": "76cd879b-359e-496b-bc77-755fd4b17d61",
   "metadata": {},
   "outputs": [],
   "source": [
    "class Student:\n",
    "    def __init__(self,name):\n",
    "        self\n",
    "        self.__scores = [] \n",
    "\n",
    "    def add_score(self, score):\n",
    "        if 0 <= score <= 100:\n",
    "            self.__scores.append(score)\n",
    "        else:\n",
    "            print(\"inavlid\")\n",
    "\n",
    "    def get_scores(self):\n",
    "        return list(self.__scores)  # Return a copy (read-only)\n",
    "\n",
    "    def calculate_average(self):\n",
    "        if self.__scores:\n",
    "            return sum(self.__scores) / len(self.__scores)\n",
    "        return 0\n",
    "\n",
    "    def __str__(self):\n",
    "        return f\"Student: {self.username}\"\n",
    "\n",
    "stud=student(\"\n",
    "\n"
   ]
  },
  {
   "cell_type": "code",
   "execution_count": null,
   "id": "8e1e6682-77ff-47eb-b33b-a8d0a2968fef",
   "metadata": {},
   "outputs": [],
   "source": []
  }
 ],
 "metadata": {
  "kernelspec": {
   "display_name": "Python 3 (ipykernel)",
   "language": "python",
   "name": "python3"
  },
  "language_info": {
   "codemirror_mode": {
    "name": "ipython",
    "version": 3
   },
   "file_extension": ".py",
   "mimetype": "text/x-python",
   "name": "python",
   "nbconvert_exporter": "python",
   "pygments_lexer": "ipython3",
   "version": "3.13.3"
  }
 },
 "nbformat": 4,
 "nbformat_minor": 5
}
