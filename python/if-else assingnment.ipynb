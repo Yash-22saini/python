{
 "cells": [
  {
   "cell_type": "markdown",
   "id": "d730e590-4de2-4b5e-a082-c34b320dd60b",
   "metadata": {},
   "source": [
    "# if - else questions"
   ]
  },
  {
   "cell_type": "code",
   "execution_count": 2,
   "id": "13da5a00-aa68-4601-82ec-58fe77b8c723",
   "metadata": {},
   "outputs": [
    {
     "name": "stdin",
     "output_type": "stream",
     "text": [
      "enter number 44\n"
     ]
    },
    {
     "name": "stdout",
     "output_type": "stream",
     "text": [
      "number is even\n"
     ]
    }
   ],
   "source": [
    "# Q1 Write a program that takes an integer input from the user and checks whether the number is odd or even.\n",
    "num=int(input(\"enter number\"))\n",
    "if(num%2 == 0):\n",
    "    print(\"number is even\")\n",
    "else:\n",
    "    print(\"number is odd\")"
   ]
  },
  {
   "cell_type": "code",
   "execution_count": 3,
   "id": "67f22bbb-575e-464c-bc69-dc67c607af10",
   "metadata": {},
   "outputs": [
    {
     "name": "stdin",
     "output_type": "stream",
     "text": [
      "enter number 33\n",
      "enter number 65\n",
      "enter number 21\n"
     ]
    },
    {
     "name": "stdout",
     "output_type": "stream",
     "text": [
      "b number is larger\n"
     ]
    }
   ],
   "source": [
    "# Q2 Write a program that takes three numbers as input and prints the largest of the three.\n",
    "a=int(input(\"enter number\"))\n",
    "b=int(input(\"enter number\"))\n",
    "c=int(input(\"enter number\"))\n",
    "if(a>b and a>c):\n",
    "    print(\"a number is larger\")\n",
    "elif(b>a and b>c):\n",
    "    print(\"b number is larger\")\n",
    "else:\n",
    "    print(\"c number is larger\")"
   ]
  },
  {
   "cell_type": "code",
   "execution_count": 5,
   "id": "ea8ca715-9b76-432f-a934-10090a472721",
   "metadata": {},
   "outputs": [
    {
     "name": "stdin",
     "output_type": "stream",
     "text": [
      "enter year  2025\n"
     ]
    },
    {
     "name": "stdout",
     "output_type": "stream",
     "text": [
      "not leap year\n"
     ]
    }
   ],
   "source": [
    "#   Q3 Write a program to check if a given year is a leap year. A leap year is divisible by 4 but not by 100\n",
    "#   unless it is also divisible by 400.\n",
    "year=int(input(\"enter year \"))\n",
    "if (year%4 == 0 and year%400 == 0):\n",
    "    print(\"leap year\")\n",
    "else:\n",
    "    print(\"not leap year\")"
   ]
  },
  {
   "cell_type": "code",
   "execution_count": 6,
   "id": "05eebf25-72f3-4b2d-9f55-b93ff80a3923",
   "metadata": {},
   "outputs": [
    {
     "name": "stdin",
     "output_type": "stream",
     "text": [
      "enterpercentage 76\n"
     ]
    },
    {
     "name": "stdout",
     "output_type": "stream",
     "text": [
      "c grade\n"
     ]
    }
   ],
   "source": [
    "# Q4 Write a program that takes a percentage (integer) as input and prints the corresponding grade based\n",
    "# on the following criteria:\n",
    "#  >= 90: Grade A\n",
    "#  >= 80: Grade B\n",
    "#  >= 70: Grade C\n",
    "#  >= 60: Grade D\n",
    "#  < 60: Grade F\n",
    "\n",
    "n=int(input(\"enterpercentage\"))\n",
    "if(90<n <= 100):\n",
    "    print(\"A grade\")\n",
    "elif(80<n <= 90):\n",
    "    print(\"B grade\")\n",
    "elif(70<n <= 80):\n",
    "    print(\"c grade\")\n",
    "elif(60<n <=70):\n",
    "    print(\"d grade\")\n",
    "elif(00<n <=60):\n",
    "    print(\"f grade\")\n",
    "else:\n",
    "    print(\"fail\")"
   ]
  },
  {
   "cell_type": "code",
   "execution_count": 8,
   "id": "336d82b6-93b2-44cb-a545-554449e38efb",
   "metadata": {},
   "outputs": [
    {
     "name": "stdin",
     "output_type": "stream",
     "text": [
      "enter alphabet r\n"
     ]
    },
    {
     "name": "stdout",
     "output_type": "stream",
     "text": [
      "it is consonent\n"
     ]
    }
   ],
   "source": [
    "# Q5 Write a program that checks if a given letter is a vowel (a, e, i, o, u) or a consonant.\n",
    "alphabet= (input(\"enter alphabet\"))\n",
    "\n",
    "if(alphabet == 'a' or alphabet == 'i' or alphabet == 'o' or alphabet == 'e' or alphabet == 'u'):\n",
    "    print(\"it is avowel\")\n",
    "else:\n",
    "    print(\"it is consonent\")"
   ]
  },
  {
   "cell_type": "code",
   "execution_count": 10,
   "id": "4dcc17b2-c729-45b3-ab16-3ebd66899bb4",
   "metadata": {},
   "outputs": [
    {
     "name": "stdin",
     "output_type": "stream",
     "text": [
      "enter number -7\n"
     ]
    },
    {
     "name": "stdout",
     "output_type": "stream",
     "text": [
      "negative number\n"
     ]
    }
   ],
   "source": [
    "# Q6. Write a program that takes a number as input and checks whether it is positive, negative, or zero.\n",
    "x=int(input(\"enter number\"))\n",
    "if(x<0):\n",
    "    print(\"negative number\")\n",
    "elif(x == 0):\n",
    "    print(\"number is 0\")\n",
    "else:\n",
    "    print(\"positive number\")"
   ]
  },
  {
   "cell_type": "code",
   "execution_count": 12,
   "id": "c1fb495a-f962-4c84-a99f-7509b64de6d4",
   "metadata": {},
   "outputs": [
    {
     "name": "stdin",
     "output_type": "stream",
     "text": [
      "enter username admin\n",
      "enter password 1234\n"
     ]
    },
    {
     "name": "stdout",
     "output_type": "stream",
     "text": [
      "login succes\n"
     ]
    }
   ],
   "source": [
    "#Q7 Write a program that checks if a username and password entered by the user match the pre-set values\n",
    "# username = \"admin\" and password = \"1234\". If both match, print \"Login Successful\", otherwise print\n",
    "#\"Login Failed\".\n",
    "username=input(\"enter username\")\n",
    "password=int(input(\"enter password\"))\n",
    "if (username == \"admin\" and password == 1234) :\n",
    "    print( \"login succes\")\n",
    "else:\n",
    "    print(\"login fail\")"
   ]
  },
  {
   "cell_type": "code",
   "execution_count": 13,
   "id": "e611b91a-ac8c-4149-a0e2-d528b9bf2cdd",
   "metadata": {},
   "outputs": [
    {
     "name": "stdin",
     "output_type": "stream",
     "text": [
      "enter side 1 3\n",
      "enter side 2 4\n",
      "enter side 3 5\n"
     ]
    },
    {
     "name": "stdout",
     "output_type": "stream",
     "text": [
      "triangle is valid\n"
     ]
    }
   ],
   "source": [
    "#Q8 Write a program that takes three sides of a triangle as input and checks if those sides form a valid\n",
    "#triangle. A triangle is valid if the sum of any two sides is greater than the third side.\n",
    "#Check conditions like a + b > c, b + c > a, and a + c > b.\n",
    "a=int(input(\"enter side 1\"))\n",
    "b=int(input(\"enter side 2\"))\n",
    "c=int(input(\"enter side 3\"))\n",
    "if(a+b>c or b+c>a or a+c > b):\n",
    "    print(\"triangle is valid\")\n",
    "else:\n",
    "    print(\"triangle invalid\")"
   ]
  },
  {
   "cell_type": "code",
   "execution_count": 17,
   "id": "56ce67ec-b1df-435b-8c03-9ebd06c1ebb6",
   "metadata": {},
   "outputs": [
    {
     "name": "stdin",
     "output_type": "stream",
     "text": [
      "enter weight 66\n",
      "enter height 6\n"
     ]
    },
    {
     "name": "stdout",
     "output_type": "stream",
     "text": [
      "underweight\n"
     ]
    }
   ],
   "source": [
    "#Q9 Write a program that calculates the Body Mass Index (BMI) based on user input for weight (in\n",
    "#kilograms) and height (in meters). Then categorize the BMI into:\n",
    "#Underweight (BMI < 18.5)\n",
    "weight=int(input(\"enter weight\"))\n",
    "height=int(input(\"enter height\"))\n",
    "BMI=weight / (height ** 2)\n",
    "if(BMI < 18.5):\n",
    "    print(\"underweight\")\n",
    "elif(18.5 <= BMI < 24.9):\n",
    "    print(\"normal weight\")\n",
    "elif(25 <= BMI < 29.9):\n",
    "    print(\"overweight\")\n",
    "else:\n",
    "    print(\"obesity\")"
   ]
  },
  {
   "cell_type": "code",
   "execution_count": 18,
   "id": "c060d592-8676-46ad-b85a-cc01388458d6",
   "metadata": {},
   "outputs": [
    {
     "name": "stdout",
     "output_type": "stream",
     "text": [
      "pizza =100\n"
     ]
    },
    {
     "name": "stdin",
     "output_type": "stream",
     "text": [
      "enter total quantity 10\n"
     ]
    },
    {
     "name": "stdout",
     "output_type": "stream",
     "text": [
      "your 10% discount price is  900.0\n"
     ]
    }
   ],
   "source": [
    "#Q10 Write a program that calculates the discount for a product based on its price:\n",
    "#If price is greater than 1000, discount is 10%\n",
    "#If price is between 500 and 1000, discount is 5%\n",
    "#Otherwise, no discount\n",
    "#Print the final price after applying the discount.\n",
    "print(\"pizza =100\")\n",
    "a=int(input(\"enter total quantity\"))\n",
    "b=a*100\n",
    "if(b>=1000):\n",
    "    print(\"your 10% discount price is \",b-(b*10/100))\n",
    "elif(500<b<1000):\n",
    "    print(\"your 5% discount price is \",b-(b*5/100))\n",
    "else:\n",
    "    print(\"no discount\")"
   ]
  },
  {
   "cell_type": "code",
   "execution_count": 22,
   "id": "6b32a4a4-e67a-4fd7-8c4e-74fc5d130e21",
   "metadata": {},
   "outputs": [
    {
     "name": "stdin",
     "output_type": "stream",
     "text": [
      "enter num 23\n"
     ]
    },
    {
     "name": "stdout",
     "output_type": "stream",
     "text": [
      "young\n"
     ]
    }
   ],
   "source": [
    "# Q11 Write a program that categorizes a given age into different groups:\n",
    "#Infant (0-1 year)\n",
    "#Toddler (2-4 years)\n",
    "# Child (5-12 years)\n",
    "# Adult (20-59 years)\n",
    "# Senior (60 years and above)\n",
    "a = int(input(\"enter num\"))\n",
    "if(0<=a<= 20):\n",
    "    print(\"child\")\n",
    "elif(21<=a<=50):\n",
    "    print(\"young\")\n",
    "elif(51<=a<=90):\n",
    "    print(\"old\")\n",
    "else:\n",
    "    print(\"invalid age\")"
   ]
  },
  {
   "cell_type": "code",
   "execution_count": 24,
   "id": "1a662724-61cb-4475-acf6-f421a191f1e8",
   "metadata": {},
   "outputs": [
    {
     "name": "stdin",
     "output_type": "stream",
     "text": [
      "enter number between  1 to 7 5\n"
     ]
    },
    {
     "name": "stdout",
     "output_type": "stream",
     "text": [
      "friday\n"
     ]
    }
   ],
   "source": [
    "#Q12 Write a program that takes an integer (1-7) as input and prints the corresponding day of the week (1\n",
    "#for Monday, 2 for Tuesday, etc.).\n",
    "n=int(input(\"enter number between  1 to 7\"))\n",
    "if(n == 1):\n",
    "    print(\"monday\")\n",
    "elif(n == 2):\n",
    "    print(\"tuesday\")\n",
    "elif(n == 3):\n",
    "    print(\"wednesday\")\n",
    "elif(n == 4):\n",
    "    print(\"thursday\")\n",
    "elif(n == 5):\n",
    "    print(\"friday\")\n",
    "elif(n == 6):\n",
    "    print(\"saturday\")\n",
    "elif(n == 7):\n",
    "    print(\"sunday\")\n",
    "else:\n",
    "    print(\"not valid\")"
   ]
  },
  {
   "cell_type": "code",
   "execution_count": null,
   "id": "3bb5d60e-1fa0-4161-b4e5-4bdaf06a67c5",
   "metadata": {},
   "outputs": [],
   "source": []
  }
 ],
 "metadata": {
  "kernelspec": {
   "display_name": "Python 3 (ipykernel)",
   "language": "python",
   "name": "python3"
  },
  "language_info": {
   "codemirror_mode": {
    "name": "ipython",
    "version": 3
   },
   "file_extension": ".py",
   "mimetype": "text/x-python",
   "name": "python",
   "nbconvert_exporter": "python",
   "pygments_lexer": "ipython3",
   "version": "3.13.3"
  }
 },
 "nbformat": 4,
 "nbformat_minor": 5
}
