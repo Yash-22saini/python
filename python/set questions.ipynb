{
 "cells": [
  {
   "cell_type": "markdown",
   "id": "51e0f196-837f-437e-b67c-745b5feeae4e",
   "metadata": {},
   "source": [
    "# PYTHON SET METHODS - DEFINITIONS AND EXAMPLES\n",
    "============================================\n",
    "\n",
    "1. set()\n",
    "- Purpose: Creates a set from a list, tuple, string, etc.\n",
    "- Example: set([1, 2, 2]) → {1, 2}\n",
    "\n",
    "2. add(element)\n",
    "- Purpose: Adds a single element to the set.\n",
    "- Example:\n",
    "  s = {1, 2}\n",
    "  s.add(3)  # s becomes {1, 2, 3}\n",
    "\n",
    "3. remove(element)\n",
    "- Purpose: Removes a specific element. Raises an error if not found.\n",
    "- Example:\n",
    "  s = {1, 2}\n",
    "  s.remove(2)  # s becomes {1}\n",
    "\n",
    "4. discard(element)\n",
    "- Purpose: Removes a specific element. Does NOT raise an error if the element is missing.\n",
    "- Example:\n",
    "  s = {1, 2}\n",
    "  s.discard(5)  # No error\n",
    "\n",
    "5. in keyword\n",
    "- Purpose: Checks if an element exists in the set.\n",
    "- Example:\n",
    "  5 in {1, 2, 5}  # True\n",
    "\n",
    "6. union(set2) or |\n",
    "- Purpose: Combines elements from both sets (no duplicates).\n",
    "- Example:\n",
    "  {1, 2}.union({2, 3})  # → {1, 2, 3}\n",
    "\n",
    "7. intersection(set2) or &\n",
    "- Purpose: Returns elements common to both sets.\n",
    "- Example:\n",
    "  {1, 2, 3}.intersection({2, 3, 4})  # → {2, 3}\n",
    "\n",
    "8. difference(set2) or -\n",
    "- Purpose: Returns elements in the first set that are not in the second.\n",
    "- Example:\n",
    "  {1, 2, 3}.difference({2})  # → {1, 3}\n",
    "\n",
    "9. symmetric_difference(set2) or ^\n",
    "- Purpose: Returns elements in either set, but not in both.\n",
    "- Example:\n",
    "  {1, 2, 3}.symmetric_difference({2, 3, 4})  # → {1, 4}\n",
    "\n",
    "10. issubset(set2)\n",
    "- Purpose: Checks if all elements of the current set are in another.\n",
    "- Example:\n",
    "  {1, 2}.issubset({1, 2, 3})  # True\n",
    "\n",
    "11. issuperset(set2)\n",
    "- Purpose: Checks if the current set contains all elements of another set.\n",
    "- Example:\n",
    "  {1, 2, 3}.issuperset({2})  # True\n",
    "\n",
    "12. frozenset()\n",
    "- Purpose: Creates an immutable set (cannot change after creation).\n",
    "- Example:\n",
    "  fs = frozenset([1, 2, 3])\n",
    "  \n"
   ]
  },
  {
   "cell_type": "code",
   "execution_count": 1,
   "id": "4ed8fdfa-43c6-40c2-ab1f-28a92784bee6",
   "metadata": {},
   "outputs": [
    {
     "name": "stdout",
     "output_type": "stream",
     "text": [
      "{1, 2, 3, 4, 5}\n"
     ]
    }
   ],
   "source": [
    "# 1. Create a set of integers from 1 to 5 and print it.\n",
    "s = {1, 2, 3, 4, 5}\n",
    "print(s)\n"
   ]
  },
  {
   "cell_type": "code",
   "execution_count": 2,
   "id": "f2091b8a-7fbf-4c4d-ba87-5a991fa0cf7f",
   "metadata": {},
   "outputs": [
    {
     "name": "stdout",
     "output_type": "stream",
     "text": [
      "{10, 1, 2, 3}\n"
     ]
    }
   ],
   "source": [
    "# 2. Add an element 10 to a set {1, 2, 3}.\n",
    "s = {1, 2, 3}\n",
    "s.add(10)\n",
    "print(s)  \n"
   ]
  },
  {
   "cell_type": "code",
   "execution_count": 3,
   "id": "55532879-feb5-406e-827f-084d9524fbb9",
   "metadata": {},
   "outputs": [
    {
     "name": "stdout",
     "output_type": "stream",
     "text": [
      "{1, 3, 4}\n"
     ]
    }
   ],
   "source": [
    "#3. Remove element 2 from the set {1, 2, 3, 4} using remove() .\n",
    "s = {1, 2, 3, 4}\n",
    "s.remove(2)     \n",
    "print(s)"
   ]
  },
  {
   "cell_type": "code",
   "execution_count": 6,
   "id": "7ef068ec-1843-4367-bd3e-c17a53d9645d",
   "metadata": {},
   "outputs": [
    {
     "name": "stdout",
     "output_type": "stream",
     "text": [
      "False\n"
     ]
    }
   ],
   "source": [
    "# 4. Check if 5 is present in the set {2, 4, 6, 8, 10}.\n",
    "s = {2, 4, 6, 8, 10}\n",
    "print(5 in s)   \n"
   ]
  },
  {
   "cell_type": "code",
   "execution_count": 7,
   "id": "3eabd4bf-b0cc-4b30-ace9-e4f9e3d4c625",
   "metadata": {},
   "outputs": [
    {
     "name": "stdout",
     "output_type": "stream",
     "text": [
      "{1, 2, 3, 4, 5}\n"
     ]
    }
   ],
   "source": [
    "# 5. Convert a list [1, 2, 2, 3, 4, 4, 5] into a set.\n",
    "mylist=[1,2,2,3,4,4,5]\n",
    "s = set(mylist)\n",
    "print(s)  "
   ]
  },
  {
   "cell_type": "code",
   "execution_count": 8,
   "id": "4c09bdfa-6af3-40a4-b4e2-99cdb17821fe",
   "metadata": {},
   "outputs": [
    {
     "name": "stdout",
     "output_type": "stream",
     "text": [
      "{1, 2, 3, 4, 5}\n"
     ]
    }
   ],
   "source": [
    "# 6.Union of {1, 2, 3} and {3, 4, 5}\n",
    "a = {1, 2, 3}\n",
    "b = {3, 4, 5}\n",
    "print(a.union(b))  \n"
   ]
  },
  {
   "cell_type": "code",
   "execution_count": 9,
   "id": "43f4133e-8be2-47c8-aa3d-41cd82c13f7e",
   "metadata": {},
   "outputs": [
    {
     "name": "stdout",
     "output_type": "stream",
     "text": [
      "{3, 4}\n"
     ]
    }
   ],
   "source": [
    "# 7. Intersection of {1, 2, 3, 4} and {3, 4, 5, 6}\n",
    "a = {1, 2, 3, 4}\n",
    "b = {3, 4, 5, 6}\n",
    "print(a.intersection(b))  \n",
    "\n"
   ]
  },
  {
   "cell_type": "code",
   "execution_count": 10,
   "id": "13366d60-f89c-4c94-ba7f-a186cd5d98a6",
   "metadata": {},
   "outputs": [
    {
     "name": "stdout",
     "output_type": "stream",
     "text": [
      "{1, 2}\n"
     ]
    }
   ],
   "source": [
    "# 8. Difference between {1, 2, 3, 4} and {3, 4, 5}\n",
    "a = {1, 2, 3, 4}\n",
    "b = {3, 4, 5}\n",
    "print(a.difference(b))  \n"
   ]
  },
  {
   "cell_type": "code",
   "execution_count": 11,
   "id": "97c0df44-df19-4f98-a747-7801628a1ee3",
   "metadata": {},
   "outputs": [
    {
     "name": "stdout",
     "output_type": "stream",
     "text": [
      "{1, 4}\n"
     ]
    }
   ],
   "source": [
    "# 9. Symmetric difference between {1, 2, 3} and {2, 3, 4}\n",
    "a = {1, 2, 3}\n",
    "b = {2, 3, 4}\n",
    "print(a.symmetric_difference(b))  "
   ]
  },
  {
   "cell_type": "code",
   "execution_count": 12,
   "id": "ad2abbd5-8084-4091-b370-67569cd45987",
   "metadata": {},
   "outputs": [
    {
     "name": "stdout",
     "output_type": "stream",
     "text": [
      "True\n"
     ]
    }
   ],
   "source": [
    "# 10. Check if {1, 2} is a subset of {1, 2, 3, 4}\n",
    "a = {1, 2}\n",
    "b = {1, 2, 3, 4}\n",
    "print(a.issubset(b))  \n"
   ]
  },
  {
   "cell_type": "code",
   "execution_count": 13,
   "id": "50bf1713-8652-4133-927c-3e87e47437a0",
   "metadata": {},
   "outputs": [
    {
     "name": "stdout",
     "output_type": "stream",
     "text": [
      "True\n"
     ]
    }
   ],
   "source": [
    "# 11. Check if {1, 2, 3} is a superset of {1, 2}\n",
    "a = {1, 2, 3}\n",
    "b = {1, 2}\n",
    "print(a.issuperset(b))  \n"
   ]
  },
  {
   "cell_type": "code",
   "execution_count": 14,
   "id": "18d83993-4db3-4c40-90c4-25031576338f",
   "metadata": {},
   "outputs": [
    {
     "name": "stdout",
     "output_type": "stream",
     "text": [
      "[1, 2, 3, 4, 5]\n"
     ]
    }
   ],
   "source": [
    "# 12. Remove duplicates from a list using set\n",
    "lst = [1, 2, 2, 3, 4, 4, 5]\n",
    "unique = list(set(lst))\n",
    "print(unique)  "
   ]
  },
  {
   "cell_type": "code",
   "execution_count": 15,
   "id": "eacc738a-bac5-4892-8c8c-1dadf37c874c",
   "metadata": {},
   "outputs": [
    {
     "name": "stdout",
     "output_type": "stream",
     "text": [
      "{3, 4}\n"
     ]
    }
   ],
   "source": [
    "# 13. Find common elements in two list\n",
    "a = [1, 2, 3, 4]\n",
    "b = [3, 4, 5, 6]\n",
    "common = set(a).intersection(b)\n",
    "print(common) "
   ]
  },
  {
   "cell_type": "code",
   "execution_count": 16,
   "id": "ae863416-da9b-4b32-8a4b-8137de7f157b",
   "metadata": {},
   "outputs": [
    {
     "name": "stdout",
     "output_type": "stream",
     "text": [
      "{1, 2, 4, 5}\n"
     ]
    }
   ],
   "source": [
    "# 14. Elements only in one list (symmetric difference)\n",
    "a = [1, 2, 3]\n",
    "b = [3, 4, 5]\n",
    "unique = set(a).symmetric_difference(b)\n",
    "print(unique)\n"
   ]
  },
  {
   "cell_type": "code",
   "execution_count": 17,
   "id": "a2de51d9-e302-4944-89e4-830b54ba7cc4",
   "metadata": {},
   "outputs": [
    {
     "name": "stdout",
     "output_type": "stream",
     "text": [
      "frozenset({1, 2, 3})\n"
     ]
    }
   ],
   "source": [
    "# 15. Create a frozen set and try to add an element\n",
    "fs = frozenset([1, 2, 3])\n",
    "print(fs)\n"
   ]
  },
  {
   "cell_type": "code",
   "execution_count": 18,
   "id": "6a1af12a-909b-4561-aa71-1a54348fceb9",
   "metadata": {},
   "outputs": [
    {
     "name": "stdout",
     "output_type": "stream",
     "text": [
      "{'h', 'b', 'e', 'n', 'l', 'p', 'c', 'a', 'y', 'r'}\n"
     ]
    }
   ],
   "source": [
    "# 16. Unique characters from list of strings\n",
    "words = [\"apple\", \"banana\", \"cherry\"]\n",
    "chars = set(\"\".join(words))\n",
    "print(chars)  \n"
   ]
  },
  {
   "cell_type": "code",
   "execution_count": null,
   "id": "5339b2cd-40b9-43db-a802-c5e75658f9e7",
   "metadata": {},
   "outputs": [],
   "source": []
  }
 ],
 "metadata": {
  "kernelspec": {
   "display_name": "Python 3 (ipykernel)",
   "language": "python",
   "name": "python3"
  },
  "language_info": {
   "codemirror_mode": {
    "name": "ipython",
    "version": 3
   },
   "file_extension": ".py",
   "mimetype": "text/x-python",
   "name": "python",
   "nbconvert_exporter": "python",
   "pygments_lexer": "ipython3",
   "version": "3.13.3"
  }
 },
 "nbformat": 4,
 "nbformat_minor": 5
}
