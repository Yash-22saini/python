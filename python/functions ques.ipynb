{
 "cells": [
  {
   "cell_type": "code",
   "execution_count": 19,
   "id": "f959930e-b5c3-434b-8bd8-d44aa0a622d8",
   "metadata": {},
   "outputs": [
    {
     "name": "stdout",
     "output_type": "stream",
     "text": [
      "sum= 10\n"
     ]
    }
   ],
   "source": [
    "#functions questions \n",
    "def my_add(a):\n",
    "    i=1234\n",
    "    sum=0\n",
    "    while(i>0):\n",
    "        d=i%10\n",
    "        sum=sum+d\n",
    "        i=i//10\n",
    "    print(\"sum=\",sum)\n",
    "my_add(p)\n",
    "\n",
    "    "
   ]
  },
  {
   "cell_type": "code",
   "execution_count": 2,
   "id": "67832b51-a033-415a-8392-6cb92bd998bb",
   "metadata": {},
   "outputs": [
    {
     "name": "stdin",
     "output_type": "stream",
     "text": [
      "enter number 45\n"
     ]
    },
    {
     "name": "stdout",
     "output_type": "stream",
     "text": [
      "odd number\n"
     ]
    }
   ],
   "source": [
    "def oddeve(a):\n",
    "    if(a%2==0):\n",
    "        print(\"even number\")\n",
    "    else:\n",
    "        print(\"odd number\")\n",
    "p=int(input(\"enter number\"))\n",
    "oddeve(p)"
   ]
  },
  {
   "cell_type": "code",
   "execution_count": 3,
   "id": "b4503e17-5557-4703-8bf3-9a02e1dd056e",
   "metadata": {},
   "outputs": [
    {
     "name": "stdout",
     "output_type": "stream",
     "text": [
      "sum:30\n"
     ]
    }
   ],
   "source": [
    "#*args argument\n",
    "def add_numbers(*args):\n",
    "    total=sum(args)\n",
    "    print(f\"sum:{total}\")\n",
    "add_numbers(5,10,15)"
   ]
  },
  {
   "cell_type": "code",
   "execution_count": 7,
   "id": "fa14c1cb-92eb-443d-9fbd-229707a97711",
   "metadata": {},
   "outputs": [
    {
     "name": "stdout",
     "output_type": "stream",
     "text": [
      "name:saurabh\n",
      "age:25\n",
      "city:mumbai\n"
     ]
    }
   ],
   "source": [
    "#**kwargs argument\n",
    "def print_details(**kwargs):\n",
    "    for key,value in kwargs.items():\n",
    "        print(f\"{key}:{value}\")\n",
    "print_details(name=\"saurabh\", age=25, city=\"mumbai\")"
   ]
  },
  {
   "cell_type": "code",
   "execution_count": 8,
   "id": "a1e09378-9999-4674-ac48-4c5df9214838",
   "metadata": {},
   "outputs": [
    {
     "name": "stdout",
     "output_type": "stream",
     "text": [
      "hello,saurabh!\n"
     ]
    }
   ],
   "source": [
    "#required arguments\n",
    "def greet(name):\n",
    "    print(f\"hello,{name}!\")\n",
    "greet(\"saurabh\")\n"
   ]
  },
  {
   "cell_type": "code",
   "execution_count": 10,
   "id": "05a402aa-a236-4927-9c58-f796a4412cd8",
   "metadata": {},
   "outputs": [
    {
     "name": "stdout",
     "output_type": "stream",
     "text": [
      "hello,guest!\n"
     ]
    }
   ],
   "source": [
    "#default arguments\n",
    "def greet(name=\"guest\"):\n",
    "    print(f\"hello,{name}!\")\n",
    "greet()"
   ]
  },
  {
   "cell_type": "code",
   "execution_count": null,
   "id": "4939c4fc-3cfd-4dab-a906-eb3e07420f9e",
   "metadata": {},
   "outputs": [],
   "source": [
    "#question 1\n",
    "#write a function that takes multiple numbers as arguments using *args and return the maximum numbe\n"
   ]
  },
  {
   "cell_type": "code",
   "execution_count": 12,
   "id": "8c0fd73e-5123-401d-82d7-d1a7bb5e1051",
   "metadata": {},
   "outputs": [
    {
     "name": "stdout",
     "output_type": "stream",
     "text": [
      "24\n"
     ]
    }
   ],
   "source": [
    "#Q2.using arguments return their product\n",
    "def product(*args):\n",
    "    result=1\n",
    "    for num in args:\n",
    "        result*=num\n",
    "    return result\n",
    "print(product(2,3,4))"
   ]
  },
  {
   "cell_type": "code",
   "execution_count": null,
   "id": "c8a873aa-eb8a-48ad-ac0c-9d3b76ef0bcd",
   "metadata": {},
   "outputs": [],
   "source": [
    "#Q3.Generae full name using **kwargs\n",
    "def full_name(**kwargs):\n",
    "    return f\"{kwargs.get('first_name','unknown')} {kwargs.get("
   ]
  },
  {
   "cell_type": "code",
   "execution_count": 13,
   "id": "82fabca0-f6fe-4f45-898e-dbd1b16b0e7a",
   "metadata": {},
   "outputs": [
    {
     "name": "stdout",
     "output_type": "stream",
     "text": [
      "5\n"
     ]
    }
   ],
   "source": [
    "#Q4 count vowels in a given string using return\n",
    "def count_vowels(string):\n",
    "    vowels=\"aeiouAEIOU\"\n",
    "    return sum(1 for char in string if char in vowels)\n",
    "\n",
    "print(count_vowels(\"hello i am yash\"))"
   ]
  },
  {
   "cell_type": "code",
   "execution_count": 14,
   "id": "83834d35-3a8c-4d65-91b5-dc778c44efe4",
   "metadata": {},
   "outputs": [
    {
     "name": "stdout",
     "output_type": "stream",
     "text": [
      "100\n"
     ]
    }
   ],
   "source": [
    "# Q5 create a shopping cart using args and kwargs\n",
    "def shopping_cart(*items,**prices):\n",
    "    total=sum(prices[item] for item in items if item in prices)\n",
    "    return total\n",
    "print(shopping_cart(\"apple\",\"banana\",\"mango\",apple=50,banana=20,mango=30))"
   ]
  }
 ],
 "metadata": {
  "kernelspec": {
   "display_name": "Python 3 (ipykernel)",
   "language": "python",
   "name": "python3"
  },
  "language_info": {
   "codemirror_mode": {
    "name": "ipython",
    "version": 3
   },
   "file_extension": ".py",
   "mimetype": "text/x-python",
   "name": "python",
   "nbconvert_exporter": "python",
   "pygments_lexer": "ipython3",
   "version": "3.13.3"
  }
 },
 "nbformat": 4,
 "nbformat_minor": 5
}
