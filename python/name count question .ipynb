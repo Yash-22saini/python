{
 "cells": [
  {
   "cell_type": "code",
   "execution_count": 11,
   "id": "61bc91dd-49b2-41a7-bc7b-0073067c6998",
   "metadata": {},
   "outputs": [
    {
     "name": "stdout",
     "output_type": "stream",
     "text": [
      "Repeated \n",
      "{'yash': 3, 'aman': 2}\n"
     ]
    }
   ],
   "source": [
    "names = [ 'yash' ,'aman' , 'roy' , 'karan', 'yash' , 'aman' , 'yash']\n",
    "\n",
    "count = {}\n",
    "for name in names:\n",
    "    if name in count:\n",
    "        count[name] += 1\n",
    "    else:\n",
    "        count[name] = 1\n",
    "\n",
    "my_dict = {}\n",
    "\n",
    "for name, count in count.items():\n",
    "    if count > 1:\n",
    "        my_dict[name] = count\n",
    "\n",
    "print(\"Repeated \")\n",
    "print(my_dict)\n"
   ]
  }
 ],
 "metadata": {
  "kernelspec": {
   "display_name": "Python 3 (ipykernel)",
   "language": "python",
   "name": "python3"
  },
  "language_info": {
   "codemirror_mode": {
    "name": "ipython",
    "version": 3
   },
   "file_extension": ".py",
   "mimetype": "text/x-python",
   "name": "python",
   "nbconvert_exporter": "python",
   "pygments_lexer": "ipython3",
   "version": "3.13.3"
  }
 },
 "nbformat": 4,
 "nbformat_minor": 5
}
