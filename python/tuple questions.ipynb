{
 "cells": [
  {
   "cell_type": "markdown",
   "id": "b1e69aad-24ed-4b24-aa73-7dd26954da56",
   "metadata": {},
   "source": [
    "# What is a Tuple?\n",
    "A tuple in Python is an ordered, immutable collection of items. Tuples can hold elements of any type (integers, strings, other tuples, lists, etc.), but unlike lists, their contents cannot be changed after creation"
   ]
  },
  {
   "cell_type": "markdown",
   "id": "5e9647fe-5620-4397-bf1e-4f726cd24b58",
   "metadata": {},
   "source": [
    " Immutable: You cannot add, remove, or change items after creation.\n",
    "\n",
    "Ordered: Tuples maintain the order of insertion.\n",
    "\n",
    "Allow duplicates: Multiple items can have the same value.\n",
    "\n",
    "Can hold mixed data types: E.g., (1, \"hello\", 3.4)."
   ]
  },
  {
   "cell_type": "code",
   "execution_count": 1,
   "id": "19595bbb-c7ff-4987-9b40-22c238d1d74c",
   "metadata": {},
   "outputs": [
    {
     "name": "stdout",
     "output_type": "stream",
     "text": [
      "20\n",
      "(10, 20, 30)\n",
      "4\n",
      "(10, 20, 30, 40, 50, 60)\n",
      "True\n",
      "(2, 3)\n"
     ]
    }
   ],
   "source": [
    "# Creating a tuple\n",
    "t = (10, 20, 30, 40)\n",
    "\n",
    "# Accessing items\n",
    "print(t[1])    # Output: 20\n",
    "\n",
    "# Slicing\n",
    "print(t[:3])   # Output: (10, 20, 30)\n",
    "\n",
    "# Length\n",
    "print(len(t))  # Output: 4\n",
    "\n",
    "# Concatenation\n",
    "t2 = t + (50, 60)\n",
    "print(t2)      # Output: (10, 20, 30, 40, 50, 60)\n",
    "\n",
    "# Unpacking\n",
    "a, b, c, d = t\n",
    "\n",
    "# Membership\n",
    "print(30 in t) # Output: True\n",
    "\n",
    "# Nested tuples\n",
    "nested = (1, (2, 3), 4)\n",
    "print(nested[1]) # Output: (2, 3)\n"
   ]
  },
  {
   "cell_type": "code",
   "execution_count": 2,
   "id": "8ac58e6d-137f-4012-afa9-2d94990dda52",
   "metadata": {},
   "outputs": [
    {
     "name": "stdout",
     "output_type": "stream",
     "text": [
      "(1, 2, 3, 4)\n"
     ]
    }
   ],
   "source": [
    "# 1.Create a tuple with values 1, 2, 3, and 4.\n",
    "# Q1\n",
    "my_tuple = (1, 2, 3, 4)\n",
    "print(my_tuple)  \n"
   ]
  },
  {
   "cell_type": "code",
   "execution_count": 3,
   "id": "6abc859e-c20e-4664-9665-ca673fcf48ce",
   "metadata": {},
   "outputs": [
    {
     "name": "stdout",
     "output_type": "stream",
     "text": [
      "15\n"
     ]
    }
   ],
   "source": [
    "# 2.How do you access the last element of a tuple t = (5, 10, 15)?\n",
    "# Q2\n",
    "t = (5, 10, 15)\n",
    "print(t[-1])  \n"
   ]
  },
  {
   "cell_type": "code",
   "execution_count": 4,
   "id": "7f440645-3cd4-450b-a081-5267c2fa2262",
   "metadata": {},
   "outputs": [
    {
     "name": "stdout",
     "output_type": "stream",
     "text": [
      "Error: 'tuple' object does not support item assignment\n"
     ]
    }
   ],
   "source": [
    "#3 .Is it possible to change t in a tuple t = (1, 2, 3)? Why or why not?\n",
    "# Q3\n",
    "t = (1, 2, 3)\n",
    "try:\n",
    "    t[0] = 99  # This will raise an error\n",
    "except TypeError as e:\n",
    "    print(\"Error:\", e)\n",
    "\n"
   ]
  },
  {
   "cell_type": "code",
   "execution_count": 5,
   "id": "b3a96012-f2a5-461e-9f76-9fa212f677ba",
   "metadata": {},
   "outputs": [
    {
     "name": "stdout",
     "output_type": "stream",
     "text": [
      "10 20 30\n"
     ]
    }
   ],
   "source": [
    "#5.Unpack a tuple numbers = (10, 20, 30) into variables a, b, c.\n",
    "# Q5\n",
    "numbers = (10, 20, 30)\n",
    "a, b, c = numbers\n",
    "print(a, b, c)  \n"
   ]
  },
  {
   "cell_type": "code",
   "execution_count": 8,
   "id": "54f3ae9c-637d-420e-870d-ec8be6bbe560",
   "metadata": {},
   "outputs": [
    {
     "name": "stdout",
     "output_type": "stream",
     "text": [
      "(1, 2, 3, 4)\n"
     ]
    }
   ],
   "source": [
    "#6.concatenate two tuples a = (1, 2) and b = (3, 4) and assign to variable c.\n",
    "# Q6\n",
    "a = (1, 2)\n",
    "b = (3, 4)\n",
    "c = a + b\n",
    "print(c)  \n"
   ]
  },
  {
   "cell_type": "code",
   "execution_count": 9,
   "id": "efac7051-cbbf-4aa1-9ccd-b3cdc151275c",
   "metadata": {},
   "outputs": [
    {
     "name": "stdout",
     "output_type": "stream",
     "text": [
      "3\n"
     ]
    }
   ],
   "source": [
    "# 7.Count how many times 2 appears in t = (2, 1, 2, 3, 2).\n",
    "# Q7\n",
    "t = (2, 1, 2, 3, 2)\n",
    "print(t.count(2)) \n"
   ]
  },
  {
   "cell_type": "code",
   "execution_count": 10,
   "id": "a167dd59-e98e-474b-8205-0d82d1051bac",
   "metadata": {},
   "outputs": [
    {
     "name": "stdout",
     "output_type": "stream",
     "text": [
      "(1, 2, 3)\n",
      "[1, 2, 3]\n"
     ]
    }
   ],
   "source": [
    "# Show how to convert a list to a tuple and a tuple to a list.\n",
    "\n",
    "lst = [1, 2, 3]\n",
    "tup = tuple(lst)     # list to tuple\n",
    "new_lst = list(tup)  # tuple to list\n",
    "print(tup)     # Output: (1, 2, 3)\n",
    "print(new_lst) # Output: [1, 2, 3]\n"
   ]
  },
  {
   "cell_type": "code",
   "execution_count": null,
   "id": "d197943f-72f6-4d50-8a3c-e026b924e550",
   "metadata": {},
   "outputs": [],
   "source": []
  }
 ],
 "metadata": {
  "kernelspec": {
   "display_name": "Python 3 (ipykernel)",
   "language": "python",
   "name": "python3"
  },
  "language_info": {
   "codemirror_mode": {
    "name": "ipython",
    "version": 3
   },
   "file_extension": ".py",
   "mimetype": "text/x-python",
   "name": "python",
   "nbconvert_exporter": "python",
   "pygments_lexer": "ipython3",
   "version": "3.13.3"
  }
 },
 "nbformat": 4,
 "nbformat_minor": 5
}
