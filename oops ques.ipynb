{
 "cells": [
  {
   "cell_type": "code",
   "execution_count": 5,
   "id": "b83f6e89-e496-4324-845b-caf1d607b8b1",
   "metadata": {},
   "outputs": [
    {
     "ename": "SyntaxError",
     "evalue": "unterminated string literal (detected at line 11) (1480326587.py, line 11)",
     "output_type": "error",
     "traceback": [
      "  \u001b[36mCell\u001b[39m\u001b[36m \u001b[39m\u001b[32mIn[5]\u001b[39m\u001b[32m, line 11\u001b[39m\n\u001b[31m    \u001b[39m\u001b[31me=Employee('sam, 'frontend developer')\u001b[39m\n                                        ^\n\u001b[31mSyntaxError\u001b[39m\u001b[31m:\u001b[39m unterminated string literal (detected at line 11)\n"
     ]
    }
   ],
   "source": [
    "class Employee:\n",
    "    loction='jaipur'\n",
    "\n",
    "    def _init_(self, name ,jobrole):\n",
    "        self.name=name\n",
    "        self.jobrole=jobrole\n",
    "\n",
    "    def getinfo(self):\n",
    "        print(f\"name of employee is:{self.name} and jobrole is:{self.jobrole}\")\n",
    "\n",
    "    e=Employee('sam, 'frontend developer')\n",
    "    e.get info"
   ]
  },
  {
   "cell_type": "code",
   "execution_count": 7,
   "id": "2e323b26-5fba-4b3f-941d-d04057c8c461",
   "metadata": {},
   "outputs": [
    {
     "ename": "TypeError",
     "evalue": "calculator() takes no arguments",
     "output_type": "error",
     "traceback": [
      "\u001b[31m---------------------------------------------------------------------------\u001b[39m",
      "\u001b[31mTypeError\u001b[39m                                 Traceback (most recent call last)",
      "\u001b[36mCell\u001b[39m\u001b[36m \u001b[39m\u001b[32mIn[7]\u001b[39m\u001b[32m, line 13\u001b[39m\n\u001b[32m      9\u001b[39m     \u001b[38;5;28;01mdef\u001b[39;00m\u001b[38;5;250m \u001b[39m\u001b[34msubract\u001b[39m(\u001b[38;5;28mself\u001b[39m):\n\u001b[32m     10\u001b[39m         \u001b[38;5;28;01mreturn\u001b[39;00m \u001b[38;5;28mself\u001b[39m.num1-\u001b[38;5;28mself\u001b[39m.num2\n\u001b[32m---> \u001b[39m\u001b[32m13\u001b[39m calc = \u001b[43mcalculator\u001b[49m\u001b[43m(\u001b[49m\u001b[32;43m10\u001b[39;49m\u001b[43m,\u001b[49m\u001b[32;43m2\u001b[39;49m\u001b[43m)\u001b[49m\n\u001b[32m     14\u001b[39m \u001b[38;5;28mprint\u001b[39m(calc.add())\n\u001b[32m     15\u001b[39m \u001b[38;5;28mprint\u001b[39m(calc.subtract())\n",
      "\u001b[31mTypeError\u001b[39m: calculator() takes no arguments"
     ]
    }
   ],
   "source": [
    "class calculator():\n",
    "    def _init_(self,num1,num2):\n",
    "        self.num1 = num1\n",
    "        self.num2 = num2\n",
    "\n",
    "    def add (self):\n",
    "        return self.num1+self.num2\n",
    "\n",
    "    def subract(self):\n",
    "        return self.num1-self.num2\n",
    "\n",
    "\n",
    "calc = calculator(10,2)\n",
    "print(calc.add())\n",
    "print(calc.subtract())\n",
    "    "
   ]
  },
  {
   "cell_type": "code",
   "execution_count": 8,
   "id": "850a13b5-722f-4c52-98e9-f47e21f38f5a",
   "metadata": {},
   "outputs": [
    {
     "ename": "TypeError",
     "evalue": "bankaccount() takes no arguments",
     "output_type": "error",
     "traceback": [
      "\u001b[31m---------------------------------------------------------------------------\u001b[39m",
      "\u001b[31mTypeError\u001b[39m                                 Traceback (most recent call last)",
      "\u001b[36mCell\u001b[39m\u001b[36m \u001b[39m\u001b[32mIn[8]\u001b[39m\u001b[32m, line 19\u001b[39m\n\u001b[32m     16\u001b[39m     \u001b[38;5;28;01mdef\u001b[39;00m\u001b[38;5;250m \u001b[39m\u001b[34mcheck_balance\u001b[39m(\u001b[38;5;28mself\u001b[39m):\n\u001b[32m     17\u001b[39m         \u001b[38;5;28;01mreturn\u001b[39;00m \u001b[33mf\u001b[39m\u001b[33m\"\u001b[39m\u001b[33maccount balance for\u001b[39m\u001b[38;5;132;01m{\u001b[39;00m\u001b[38;5;28mself\u001b[39m.holder_name\u001b[38;5;132;01m}\u001b[39;00m\u001b[33m:\u001b[39m\u001b[38;5;132;01m{\u001b[39;00m\u001b[38;5;28mself\u001b[39m.account\u001b[38;5;132;01m}\u001b[39;00m\u001b[33m\"\u001b[39m\n\u001b[32m---> \u001b[39m\u001b[32m19\u001b[39m account = \u001b[43mbankaccount\u001b[49m\u001b[43m(\u001b[49m\u001b[33;43m\"\u001b[39;49m\u001b[33;43myash\u001b[39;49m\u001b[33;43m\"\u001b[39;49m\u001b[43m,\u001b[49m\u001b[32;43m1000\u001b[39;49m\u001b[43m)\u001b[49m\n",
      "\u001b[31mTypeError\u001b[39m: bankaccount() takes no arguments"
     ]
    }
   ],
   "source": [
    "class bankaccount:\n",
    "    def __init_(self, holder_name, balance=0):\n",
    "        self.holder_name = holder_name\n",
    "        self.balance = balance\n",
    "\n",
    "    def deposit(self, amount):\n",
    "        self.balance += amount \n",
    "        print(f\"{amount} deposited. new balance: {self.balance}\")\n",
    "\n",
    "    def withdraw (self, amount):\n",
    "        if amount <=self.balance:\n",
    "            self.balance -= amount \n",
    "            print(f\"{amount} withdrawn. remaining balance:{self.balance}\")\n",
    "        else:\n",
    "            print(\"insufficient funds!\")\n",
    "    def check_balance(self):\n",
    "        return f\"account balance for{self.holder_name}:{self.account}\"\n",
    "\n",
    "account = bankaccount(\"yash\",1000)\n"
   ]
  },
  {
   "cell_type": "code",
   "execution_count": 4,
   "id": "3daeefb3-d92d-4baa-9ff1-947b20eae221",
   "metadata": {},
   "outputs": [
    {
     "name": "stdout",
     "output_type": "stream",
     "text": [
      "name:yash, age:20, marks:85\n",
      "pased\n"
     ]
    }
   ],
   "source": [
    "class student:\n",
    "    def __init__(self, name, age, marks):\n",
    "        self.name = name \n",
    "        self.age = age \n",
    "        self.marks = marks\n",
    "\n",
    "    def display_details(self):\n",
    "        print(f\"name:{self.name}, age:{self.age}, marks:{self.marks}\")\n",
    "\n",
    "    def has_passed(self):\n",
    "        if self.marks >=40:\n",
    "            return\"pased\"\n",
    "        else:\n",
    "            return \"failed\"\n",
    "\n",
    "student = student(\"yash\", 20, 85)\n",
    "student.display_details()\n",
    "print(student.has_passed())\n",
    "            "
   ]
  },
  {
   "cell_type": "code",
   "execution_count": 6,
   "id": "89f1eae8-c60d-4403-a236-05fd6ce1db92",
   "metadata": {},
   "outputs": [
    {
     "name": "stdout",
     "output_type": "stream",
     "text": [
      "circle area 78.5\n",
      "circle perimeter 31.400000000000002\n"
     ]
    }
   ],
   "source": [
    "from abc import ABC,abstractmethod\n",
    "class shape(ABC):\n",
    "    def area(self):\n",
    "        pass \n",
    "\n",
    "    def perimeter(self):\n",
    "        pass\n",
    "\n",
    "class circle(shape):\n",
    "    def __init__(self,radius):\n",
    "        self.radius = radius\n",
    "\n",
    "    def area(self):\n",
    "        return 3.14 * self.radius * self.radius \n",
    "\n",
    "    def perimeter(self):\n",
    "        return 2 * 3.14 * self.radius \n",
    "\n",
    "circle = circle(5)\n",
    "print(\"circle area\",circle.area())\n",
    "print(\"circle perimeter\",circle.perimeter())"
   ]
  },
  {
   "cell_type": "code",
   "execution_count": 6,
   "id": "715d185c-ca93-4fc8-92fb-c2ae0b801e8b",
   "metadata": {},
   "outputs": [
    {
     "name": "stdout",
     "output_type": "stream",
     "text": [
      "creditcardpayment of $100 processed.\n",
      "paypalpayment of $200 processed.\n"
     ]
    }
   ],
   "source": [
    "from abc import ABC ,abstractmethod \n",
    "\n",
    "class payment(ABC):\n",
    "    def make_payment(self,amount):\n",
    "        pass\n",
    "\n",
    "class creditcardpayment(payment):\n",
    "    def make_payment(self,amount):\n",
    "        return f\"creditcardpayment of ${amount} processed.\"\n",
    "\n",
    "class paypalpayment(payment):\n",
    "    def make_payment(self,amount):\n",
    "        return f\"paypalpayment of ${amount} processed.\"\n",
    "\n",
    "payment1 = creditcardpayment()\n",
    "print(payment1.make_payment(100))\n",
    "\n",
    "payment2 = paypalpayment()\n",
    "print(payment2.make_payment(200))"
   ]
  },
  {
   "cell_type": "code",
   "execution_count": 11,
   "id": "3b067018-d6cf-4bf8-837e-0eb090bc8cfe",
   "metadata": {},
   "outputs": [
    {
     "name": "stdout",
     "output_type": "stream",
     "text": [
      "yash\n"
     ]
    },
    {
     "ename": "AttributeError",
     "evalue": "'bankaccount' object has no attribute 'get__balance'",
     "output_type": "error",
     "traceback": [
      "\u001b[31m---------------------------------------------------------------------------\u001b[39m",
      "\u001b[31mAttributeError\u001b[39m                            Traceback (most recent call last)",
      "\u001b[36mCell\u001b[39m\u001b[36m \u001b[39m\u001b[32mIn[11]\u001b[39m\u001b[32m, line 31\u001b[39m\n\u001b[32m     29\u001b[39m account = bankaccount(\u001b[33m\"\u001b[39m\u001b[33myash\u001b[39m\u001b[33m\"\u001b[39m,\u001b[32m5000\u001b[39m)\n\u001b[32m     30\u001b[39m \u001b[38;5;28mprint\u001b[39m(account.get_account_holder())\n\u001b[32m---> \u001b[39m\u001b[32m31\u001b[39m \u001b[38;5;28mprint\u001b[39m(\u001b[43maccount\u001b[49m\u001b[43m.\u001b[49m\u001b[43mget__balance\u001b[49m())\n\u001b[32m     32\u001b[39m \u001b[38;5;28mprint\u001b[39m(account.deposit(\u001b[32m5000\u001b[39m))\n\u001b[32m     33\u001b[39m \u001b[38;5;28mprint\u001b[39m(account.withdarw(\u001b[32m1000\u001b[39m))\n",
      "\u001b[31mAttributeError\u001b[39m: 'bankaccount' object has no attribute 'get__balance'"
     ]
    }
   ],
   "source": [
    "class bankaccount:\n",
    "    def __init__(self, account_holder, balance):\n",
    "        self.__account_holder =account_holder #private attribute\n",
    "        self.__balance = balance             #private attribute\n",
    "\n",
    "    #getter for account holder\n",
    "    def get_account_holder(self):\n",
    "        return self.__account_holder\n",
    "        \n",
    "    #getter for balance\n",
    "    def get_balance(self):\n",
    "        return self.__balance\n",
    "\n",
    "        #method to deposit and withdraw money\n",
    "    def deposit(self, amount):\n",
    "        if amount > 0:\n",
    "            self.__balance += amount \n",
    "            return f\"deposited. new balance: {self.__balance}\"\n",
    "        else:\n",
    "            return\"invalid deposited amount\"\n",
    "\n",
    "    def withdraw (self, amount):\n",
    "        if amount <=self.__balance:\n",
    "            self.__balance -= amount \n",
    "            return f\"withdrawn. remaining balance:{self.__balance}\"\n",
    "        else:\n",
    "            return\"insufficient funds!\"\n",
    "\n",
    "account = bankaccount(\"yash\",5000)\n",
    "print(account.get_account_holder())\n",
    "print(account.get__balance())\n",
    "print(account.deposit(5000))\n",
    "print(account.withdarw(1000))"
   ]
  },
  {
   "cell_type": "code",
   "execution_count": 14,
   "id": "b9ce8aca-3857-4ccd-868b-d16dc7331ad4",
   "metadata": {},
   "outputs": [
    {
     "name": "stdout",
     "output_type": "stream",
     "text": [
      "yash\n",
      "85\n",
      "grade upated\n",
      "55\n"
     ]
    }
   ],
   "source": [
    "class student:\n",
    "    def __init__(self ,name ,grade):\n",
    "        self.name = name \n",
    "        self.__grade = grade \n",
    "\n",
    "    def get_grade(self):\n",
    "        return self.__grade \n",
    "\n",
    "    def set_grade(self, new_grade):\n",
    "        if 0 <= new_grade <= 100:\n",
    "            self.__grade = new_grade\n",
    "            return \"grade upated\"\n",
    "        else:\n",
    "            return\"invalid grade\"\n",
    "\n",
    "student = student(\"yash\" ,85)\n",
    "print(student.name)\n",
    "print(student.get_grade())\n",
    "print(student.set_grade(55))\n",
    "print(student.get_grade())"
   ]
  },
  {
   "cell_type": "code",
   "execution_count": null,
   "id": "b34b07f0-649f-4bec-b027-08e8cc45a49f",
   "metadata": {},
   "outputs": [],
   "source": []
  }
 ],
 "metadata": {
  "kernelspec": {
   "display_name": "Python 3 (ipykernel)",
   "language": "python",
   "name": "python3"
  },
  "language_info": {
   "codemirror_mode": {
    "name": "ipython",
    "version": 3
   },
   "file_extension": ".py",
   "mimetype": "text/x-python",
   "name": "python",
   "nbconvert_exporter": "python",
   "pygments_lexer": "ipython3",
   "version": "3.13.3"
  }
 },
 "nbformat": 4,
 "nbformat_minor": 5
}
