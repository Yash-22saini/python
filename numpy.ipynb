{
 "cells": [
  {
   "cell_type": "code",
   "execution_count": 1,
   "id": "87ae1179-a1d6-414e-a790-98fdc5e1c957",
   "metadata": {},
   "outputs": [],
   "source": [
    "#introduction to numpy--->\n",
    "# numpy  is an open source library that is used for scientific library\n"
   ]
  },
  {
   "cell_type": "code",
   "execution_count": null,
   "id": "42725381-200e-43f4-b4da-4706ed6f1e8e",
   "metadata": {},
   "outputs": [],
   "source": [
    "# how numpy is better than list ?\n",
    "# 1. numpy is homogenous data type while list is heterogenous data type \n",
    "#2. numpy takes less memory while list takes more memory.\n",
    "#3. numpy take less execution"
   ]
  },
  {
   "cell_type": "code",
   "execution_count": 20,
   "id": "680323d8-ddd9-4eb6-ad3a-280ad4f29b80",
   "metadata": {},
   "outputs": [
    {
     "name": "stdout",
     "output_type": "stream",
     "text": [
      "Requirement already satisfied: numpy in c:\\users\\user\\appdata\\local\\programs\\python\\python313\\lib\\site-packages (2.2.6)\n"
     ]
    },
    {
     "name": "stderr",
     "output_type": "stream",
     "text": [
      "\n",
      "[notice] A new release of pip is available: 25.0.1 -> 25.1.1\n",
      "[notice] To update, run: python.exe -m pip install --upgrade pip\n"
     ]
    }
   ],
   "source": [
    "!pip install numpy"
   ]
  },
  {
   "cell_type": "code",
   "execution_count": 2,
   "id": "0fc19865-0970-4b2e-b216-fd589a8447b8",
   "metadata": {},
   "outputs": [],
   "source": [
    "import numpy as np"
   ]
  },
  {
   "cell_type": "code",
   "execution_count": 18,
   "id": "68aee903-592c-47da-a70d-359e706e3205",
   "metadata": {},
   "outputs": [
    {
     "data": {
      "text/plain": [
       "numpy.ndarray"
      ]
     },
     "execution_count": 18,
     "metadata": {},
     "output_type": "execute_result"
    }
   ],
   "source": [
    "a =[1,45,56,78]\n",
    "type (a)\n",
    "b = np.array(a)\n",
    "type(b)"
   ]
  },
  {
   "cell_type": "code",
   "execution_count": 6,
   "id": "9fb1fa07-0b6d-4599-bb64-689b0b1597ac",
   "metadata": {},
   "outputs": [
    {
     "name": "stdin",
     "output_type": "stream",
     "text": [
      "enter size: 3\n",
      "enter element: 3\n",
      "enter element: 3\n",
      "enter element: 3\n"
     ]
    },
    {
     "data": {
      "text/plain": [
       "array([3, 3, 3])"
      ]
     },
     "execution_count": 6,
     "metadata": {},
     "output_type": "execute_result"
    }
   ],
   "source": [
    "a=[]\n",
    "size= int (input(\"enter size:\"))\n",
    "for i in range(size):\n",
    "    val = int(input(\"enter element:\"))\n",
    "    a.append(val)\n",
    "b=np.array(a)\n",
    "b\n"
   ]
  },
  {
   "cell_type": "code",
   "execution_count": 19,
   "id": "1f2b40a0-5e7c-4398-81d0-9c3c58674b25",
   "metadata": {},
   "outputs": [
    {
     "data": {
      "text/plain": [
       "numpy.ndarray"
      ]
     },
     "execution_count": 19,
     "metadata": {},
     "output_type": "execute_result"
    }
   ],
   "source": [
    "type(b)"
   ]
  },
  {
   "cell_type": "code",
   "execution_count": 14,
   "id": "8523a006-d131-4847-9e13-7f9f05339a66",
   "metadata": {},
   "outputs": [
    {
     "data": {
      "text/plain": [
       "[[1, 2, 3, 4], [4, 5, 6, 7], [7, 8, 9, 8]]"
      ]
     },
     "execution_count": 14,
     "metadata": {},
     "output_type": "execute_result"
    }
   ],
   "source": [
    "a =[[1,2,3,4],[4,5,6,7],[7,8,9,8]]\n",
    "a"
   ]
  },
  {
   "cell_type": "code",
   "execution_count": 15,
   "id": "9536cdeb-2ba1-46ac-9c6b-76717853cc00",
   "metadata": {},
   "outputs": [
    {
     "data": {
      "text/plain": [
       "array([[1, 2, 3, 4],\n",
       "       [4, 5, 6, 7],\n",
       "       [7, 8, 9, 8]])"
      ]
     },
     "execution_count": 15,
     "metadata": {},
     "output_type": "execute_result"
    }
   ],
   "source": [
    "b = np.array(a)\n",
    "b"
   ]
  },
  {
   "cell_type": "code",
   "execution_count": 16,
   "id": "91e60633-5460-4d63-a8eb-04cace1f1fbd",
   "metadata": {
    "scrolled": true
   },
   "outputs": [
    {
     "name": "stdout",
     "output_type": "stream",
     "text": [
      "total rows and columns: (3, 4)\n",
      "total elements: 12\n",
      "total dimension: 2\n"
     ]
    }
   ],
   "source": [
    "print(\"total rows and columns:\" , b.shape)  \n",
    "print(\"total elements:\", b.size)\n",
    "print(\"total dimension:\", b.ndim) # ndim stand for "
   ]
  },
  {
   "cell_type": "code",
   "execution_count": null,
   "id": "c839c179-7140-422b-80c8-cc182825982c",
   "metadata": {},
   "outputs": [],
   "source": [
    "#functions in numpy "
   ]
  },
  {
   "cell_type": "code",
   "execution_count": 22,
   "id": "5bd8a5fc-574d-4008-945d-8fe54ed0b2ab",
   "metadata": {},
   "outputs": [],
   "source": [
    "# 1. zeros() ---- it will create an array in which all the values in either one dimensional or multli dimensional will be 0."
   ]
  },
  {
   "cell_type": "code",
   "execution_count": 23,
   "id": "2dce8f33-d161-4ec4-b536-495a44bcb0a9",
   "metadata": {},
   "outputs": [
    {
     "data": {
      "text/plain": [
       "array([0., 0., 0.])"
      ]
     },
     "execution_count": 23,
     "metadata": {},
     "output_type": "execute_result"
    }
   ],
   "source": [
    "a = np.zeros(3)\n",
    "a"
   ]
  },
  {
   "cell_type": "code",
   "execution_count": 24,
   "id": "482b7f49-1df4-4fec-85c7-937f1bcbc156",
   "metadata": {},
   "outputs": [
    {
     "data": {
      "text/plain": [
       "array([[0., 0., 0., 0.],\n",
       "       [0., 0., 0., 0.],\n",
       "       [0., 0., 0., 0.]])"
      ]
     },
     "execution_count": 24,
     "metadata": {},
     "output_type": "execute_result"
    }
   ],
   "source": [
    "a = np.zeros((3,4))\n",
    "a"
   ]
  },
  {
   "cell_type": "code",
   "execution_count": 25,
   "id": "3031de90-a2b3-4216-a77c-a8dc523f801f",
   "metadata": {},
   "outputs": [],
   "source": [
    "# 2. ones()----- it will create an array in which all the values will be 1 in either one dimensional or multi dimensional"
   ]
  },
  {
   "cell_type": "code",
   "execution_count": 26,
   "id": "78a9fcc6-3244-47b1-8d4b-d0d1600adf42",
   "metadata": {},
   "outputs": [
    {
     "data": {
      "text/plain": [
       "array([1., 1., 1.])"
      ]
     },
     "execution_count": 26,
     "metadata": {},
     "output_type": "execute_result"
    }
   ],
   "source": [
    "a = np.ones(3)\n",
    "a"
   ]
  },
  {
   "cell_type": "code",
   "execution_count": 27,
   "id": "92caedf8-68aa-4264-8173-53fc231674f4",
   "metadata": {},
   "outputs": [
    {
     "data": {
      "text/plain": [
       "array([[1., 1., 1., 1.],\n",
       "       [1., 1., 1., 1.],\n",
       "       [1., 1., 1., 1.]])"
      ]
     },
     "execution_count": 27,
     "metadata": {},
     "output_type": "execute_result"
    }
   ],
   "source": [
    "a =np.ones((3,4))\n",
    "a"
   ]
  },
  {
   "cell_type": "code",
   "execution_count": 28,
   "id": "44c380b7-7fa5-4e7c-974c-ac4361deae93",
   "metadata": {},
   "outputs": [],
   "source": [
    "#3. eye()----\n",
    "# matrix ---> diagonal position --- 1 \n",
    "# it will create an array in which diagonal postional elements will be 1 and rest of all are 0.\n"
   ]
  },
  {
   "cell_type": "code",
   "execution_count": 29,
   "id": "7b8f16f1-0034-4550-a514-89697e0a9601",
   "metadata": {},
   "outputs": [
    {
     "data": {
      "text/plain": [
       "array([[1., 0., 0.],\n",
       "       [0., 1., 0.],\n",
       "       [0., 0., 1.]])"
      ]
     },
     "execution_count": 29,
     "metadata": {},
     "output_type": "execute_result"
    }
   ],
   "source": [
    "a = np.eye(3)\n",
    "a"
   ]
  },
  {
   "cell_type": "code",
   "execution_count": 30,
   "id": "d6192275-edde-47c2-8ae2-2d8d04b04565",
   "metadata": {},
   "outputs": [
    {
     "data": {
      "text/plain": [
       "array([[1., 0., 0., 0.],\n",
       "       [0., 1., 0., 0.],\n",
       "       [0., 0., 1., 0.]])"
      ]
     },
     "execution_count": 30,
     "metadata": {},
     "output_type": "execute_result"
    }
   ],
   "source": [
    "a =np.eye(3,4)\n",
    "a"
   ]
  },
  {
   "cell_type": "code",
   "execution_count": null,
   "id": "888a613f-466c-4362-aa81-b8a0511e9826",
   "metadata": {},
   "outputs": [],
   "source": [
    "# 4. diag()---- it willl create an array in which you can set custom values at diagonal position "
   ]
  },
  {
   "cell_type": "code",
   "execution_count": 32,
   "id": "afbccc33-25da-45db-836f-f22a9e0920ad",
   "metadata": {},
   "outputs": [
    {
     "data": {
      "text/plain": [
       "array([[1, 0, 0, 0],\n",
       "       [0, 4, 0, 0],\n",
       "       [0, 0, 5, 0],\n",
       "       [0, 0, 0, 6]])"
      ]
     },
     "execution_count": 32,
     "metadata": {},
     "output_type": "execute_result"
    }
   ],
   "source": [
    "a = np.diag([1,4,5,6])\n",
    "a"
   ]
  },
  {
   "cell_type": "code",
   "execution_count": 33,
   "id": "a43711fa-3e7b-4939-a833-72a41286a73f",
   "metadata": {},
   "outputs": [],
   "source": [
    "# 5. random module --- it will return random numbers ."
   ]
  },
  {
   "cell_type": "code",
   "execution_count": 34,
   "id": "89ddcdbc-6dc4-4cab-bc83-0ca7d39a419d",
   "metadata": {},
   "outputs": [],
   "source": [
    "# a. randint()---- it will return random numbers in a given range .\n",
    "#syntax:\n",
    "# np.random.randint(min_number , max_number , total_number)"
   ]
  },
  {
   "cell_type": "code",
   "execution_count": 36,
   "id": "1d07e4dc-e374-4e6d-bd75-d44ecde825ca",
   "metadata": {},
   "outputs": [
    {
     "data": {
      "text/plain": [
       "array([2, 1, 8], dtype=int32)"
      ]
     },
     "execution_count": 36,
     "metadata": {},
     "output_type": "execute_result"
    }
   ],
   "source": [
    "a = np.random.randint(1,10,3)\n",
    "a"
   ]
  },
  {
   "cell_type": "code",
   "execution_count": 37,
   "id": "6e4e1330-63d4-4a5e-802b-c1052e5a93e2",
   "metadata": {},
   "outputs": [],
   "source": [
    "# b. rand()--- it will provide random numbers in range of 0 to 1.."
   ]
  },
  {
   "cell_type": "code",
   "execution_count": 38,
   "id": "c7bf5543-8a29-413d-8800-2a6bf9eb4232",
   "metadata": {},
   "outputs": [
    {
     "data": {
      "text/plain": [
       "array([0.18344316, 0.05724335, 0.77023619, 0.09922313])"
      ]
     },
     "execution_count": 38,
     "metadata": {},
     "output_type": "execute_result"
    }
   ],
   "source": [
    "a = np.random.rand(4)\n",
    "a"
   ]
  },
  {
   "cell_type": "code",
   "execution_count": 39,
   "id": "f0e62843-63aa-4726-832e-c4adb39af690",
   "metadata": {},
   "outputs": [],
   "source": [
    "# random numbers --- data use -- output \n",
    "# if random numbers refersh update -- previous output change "
   ]
  },
  {
   "cell_type": "code",
   "execution_count": null,
   "id": "47a8f54b-f133-45ed-b93c-206a7c21745a",
   "metadata": {},
   "outputs": [],
   "source": [
    "# c. seed()----- it wll fix our random generate data "
   ]
  },
  {
   "cell_type": "code",
   "execution_count": 40,
   "id": "1f6507ed-9a2a-44d9-8394-cbbee1b72b57",
   "metadata": {},
   "outputs": [
    {
     "data": {
      "text/plain": [
       "array([9, 6, 6], dtype=int32)"
      ]
     },
     "execution_count": 40,
     "metadata": {},
     "output_type": "execute_result"
    }
   ],
   "source": [
    "np.random.seed(15)\n",
    "a= np.random.randint(1,10,3)\n",
    "a"
   ]
  },
  {
   "cell_type": "markdown",
   "id": "1111da77-b8b1-4d83-9560-80d8e848bd43",
   "metadata": {},
   "source": [
    "# view vs copy "
   ]
  },
  {
   "cell_type": "code",
   "execution_count": null,
   "id": "269e1d6a-ec1f-4fff-8f69-fba067f4641c",
   "metadata": {},
   "outputs": [],
   "source": [
    "# view --- copy --- changes made in copy does not affect the orignal"
   ]
  },
  {
   "cell_type": "code",
   "execution_count": 41,
   "id": "2d216f1f-de05-47a7-9461-24d5462e586f",
   "metadata": {},
   "outputs": [
    {
     "data": {
      "text/plain": [
       "array([1, 2, 3, 4, 5, 6, 7, 8])"
      ]
     },
     "execution_count": 41,
     "metadata": {},
     "output_type": "execute_result"
    }
   ],
   "source": [
    "a = np.array ([1,2,3,4,5,6,7,8,])\n",
    "a"
   ]
  },
  {
   "cell_type": "code",
   "execution_count": 42,
   "id": "1d37ee16-2f2c-4f63-8095-7345cc651308",
   "metadata": {},
   "outputs": [
    {
     "data": {
      "text/plain": [
       "array([0, 0, 0])"
      ]
     },
     "execution_count": 42,
     "metadata": {},
     "output_type": "execute_result"
    }
   ],
   "source": [
    "b= a[3:6]\n",
    "b[:]=0\n",
    "b"
   ]
  },
  {
   "cell_type": "code",
   "execution_count": 43,
   "id": "01636954-037e-44e2-885a-5ebd861b2dbc",
   "metadata": {},
   "outputs": [
    {
     "data": {
      "text/plain": [
       "array([1, 2, 3, 0, 0, 0, 7, 8])"
      ]
     },
     "execution_count": 43,
     "metadata": {},
     "output_type": "execute_result"
    }
   ],
   "source": [
    "a"
   ]
  },
  {
   "cell_type": "code",
   "execution_count": 44,
   "id": "67079d22-1ef4-4e9d-bce8-83bb2ec3305d",
   "metadata": {},
   "outputs": [
    {
     "data": {
      "text/plain": [
       "array([0, 0, 0])"
      ]
     },
     "execution_count": 44,
     "metadata": {},
     "output_type": "execute_result"
    }
   ],
   "source": [
    "a = np.array([1,2,3,4,5,6,7,8])\n",
    "b=a[3:6].copy()\n",
    "b[:]=0\n",
    "b"
   ]
  },
  {
   "cell_type": "code",
   "execution_count": 45,
   "id": "0fb20462-2794-4640-95cb-28cf6917dc9d",
   "metadata": {},
   "outputs": [
    {
     "data": {
      "text/plain": [
       "array([1, 2, 3, 4, 5, 6, 7, 8])"
      ]
     },
     "execution_count": 45,
     "metadata": {},
     "output_type": "execute_result"
    }
   ],
   "source": [
    "a"
   ]
  },
  {
   "cell_type": "code",
   "execution_count": null,
   "id": "533e80d5-b009-4923-a003-cf3f7bf8e7cc",
   "metadata": {},
   "outputs": [],
   "source": []
  }
 ],
 "metadata": {
  "kernelspec": {
   "display_name": "Python 3 (ipykernel)",
   "language": "python",
   "name": "python3"
  },
  "language_info": {
   "codemirror_mode": {
    "name": "ipython",
    "version": 3
   },
   "file_extension": ".py",
   "mimetype": "text/x-python",
   "name": "python",
   "nbconvert_exporter": "python",
   "pygments_lexer": "ipython3",
   "version": "3.13.3"
  }
 },
 "nbformat": 4,
 "nbformat_minor": 5
}
