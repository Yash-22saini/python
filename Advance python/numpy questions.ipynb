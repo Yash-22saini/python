{
 "cells": [
  {
   "cell_type": "code",
   "execution_count": 1,
   "id": "c8000352-4c28-4668-b6e9-d0edb3a11f3f",
   "metadata": {},
   "outputs": [],
   "source": [
    "# 1. statement to import numpy\n",
    "import numpy as np "
   ]
  },
  {
   "cell_type": "code",
   "execution_count": 2,
   "id": "50fe5e34-2805-4ce6-9f1b-5409494906bd",
   "metadata": {},
   "outputs": [
    {
     "name": "stdout",
     "output_type": "stream",
     "text": [
      "[1 2 3 4 5]\n"
     ]
    }
   ],
   "source": [
    "#2 Create an array using numpy?\n",
    "\n",
    "a = np.array([1,2,3,4,5])\n",
    "print(a)"
   ]
  },
  {
   "cell_type": "code",
   "execution_count": 3,
   "id": "84faa93e-470e-42c6-98da-6e6e00bcd746",
   "metadata": {},
   "outputs": [
    {
     "name": "stdout",
     "output_type": "stream",
     "text": [
      "[6 9 4 5 9 8 5 1 7 1]\n"
     ]
    }
   ],
   "source": [
    "# 3 Create an array of 10 random integers?\n",
    "\n",
    "a = np.random.randint(1, 10, 10)\n",
    "print(a)\n",
    "     "
   ]
  },
  {
   "cell_type": "code",
   "execution_count": 4,
   "id": "803f04f7-f2c8-4fef-b86d-a19c6d010207",
   "metadata": {},
   "outputs": [
    {
     "name": "stdout",
     "output_type": "stream",
     "text": [
      "[10 11 12 13 14 15 16 17 18 19]\n"
     ]
    }
   ],
   "source": [
    "# 4 Create an array of elements from 10-20?\n",
    "\n",
    "a = np.arange(10, 20)\n",
    "print(a)\n",
    "     "
   ]
  },
  {
   "cell_type": "code",
   "execution_count": 5,
   "id": "3783d004-a2c9-4b91-a76f-c6421e14d255",
   "metadata": {},
   "outputs": [
    {
     "name": "stdout",
     "output_type": "stream",
     "text": [
      "[5. 5. 5. 5. 5. 5. 5. 5. 5. 5.]\n"
     ]
    }
   ],
   "source": [
    "# 5 Create an array which contains value 5, 10 times?\n",
    "\n",
    "a = np.ones(10)\n",
    "print(a*5)"
   ]
  },
  {
   "cell_type": "code",
   "execution_count": 6,
   "id": "2608ee77-6de0-4f80-bfd8-7943857a5bac",
   "metadata": {},
   "outputs": [
    {
     "name": "stdout",
     "output_type": "stream",
     "text": [
      "[1 2 3 4 5 6 7 8 9]\n",
      "[[1 2 3]\n",
      " [4 5 6]\n",
      " [7 8 9]]\n"
     ]
    }
   ],
   "source": [
    "# 6. create a one dimensional array and convert that into 3*3 matrix?\n",
    "\n",
    "a= np.arange(1,10)\n",
    "print(a)\n",
    "a = a.reshape(3,3)\n",
    "print(a)\n",
    "     \n"
   ]
  },
  {
   "cell_type": "code",
   "execution_count": 9,
   "id": "58cbc37a-452d-448b-9523-38943f9a1d98",
   "metadata": {},
   "outputs": [
    {
     "name": "stdout",
     "output_type": "stream",
     "text": [
      "[[0.10051398 0.70058002 0.61616781]\n",
      " [0.54875288 0.1081861  0.81762111]\n",
      " [0.78070335 0.63951981 0.77611614]]\n"
     ]
    }
   ],
   "source": [
    "#7 Create a 2D array of size 3*3 but all the elements should be between 0 to 1?\n",
    "\n",
    "a = np.random.rand(3,3)\n",
    "print(a)\n"
   ]
  },
  {
   "cell_type": "code",
   "execution_count": 10,
   "id": "a222c354-94e5-40bc-9e15-51db7af090be",
   "metadata": {},
   "outputs": [
    {
     "name": "stdout",
     "output_type": "stream",
     "text": [
      "Horizontal stack:-\n",
      "[ 1  2  3  4  5  6  7  8  9 10 11 12]\n",
      "\n",
      "Vertical stack:-\n",
      "[[ 1  2  3  4]\n",
      " [ 5  6  7  8]\n",
      " [ 9 10 11 12]]\n"
     ]
    }
   ],
   "source": [
    "# Q.8 Concatenate 2D array horizontally and vertically?\n",
    "\n",
    "a = np.array([1,2,3,4])\n",
    "b = np.array([5,6,7,8])\n",
    "c = np.array([9,10,11,12])\n",
    "print(\"Horizontal stack:-\")\n",
    "print(np.hstack((a,b,c)))\n",
    "print(\"\\nVertical stack:-\")\n",
    "print(np.vstack((a,b,c)))\n",
    "     "
   ]
  },
  {
   "cell_type": "code",
   "execution_count": null,
   "id": "c7d50d10-91cd-4ed3-a3a7-adc5feef379e",
   "metadata": {},
   "outputs": [],
   "source": []
  }
 ],
 "metadata": {
  "kernelspec": {
   "display_name": "Python 3 (ipykernel)",
   "language": "python",
   "name": "python3"
  },
  "language_info": {
   "codemirror_mode": {
    "name": "ipython",
    "version": 3
   },
   "file_extension": ".py",
   "mimetype": "text/x-python",
   "name": "python",
   "nbconvert_exporter": "python",
   "pygments_lexer": "ipython3",
   "version": "3.13.3"
  }
 },
 "nbformat": 4,
 "nbformat_minor": 5
}
