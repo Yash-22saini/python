{
 "cells": [
  {
   "cell_type": "code",
   "execution_count": 4,
   "id": "40ec0ce9-f916-4382-a61b-17a6e29f21cd",
   "metadata": {},
   "outputs": [],
   "source": [
    "# Text =\n",
    "\n",
    "# \"I Love python\"\n",
    "# \"python is Language\"\n",
    "# \"python is use for coding\"\n",
    "\n",
    "# # Text convert into Vectors\n",
    "\n",
    "# I Love python is language use for coding\n",
    "# [11100000]\n",
    "# [00111000] ---- > vectors ---- > Polarity_score --- > 0.1 < positive , -0.1> negative , 0 neutral\n",
    "# [00110111]\n",
    "\n",
    "# Textblob Library"
   ]
  },
  {
   "cell_type": "code",
   "execution_count": 5,
   "id": "c3200d4f-39ef-48b1-becb-ffd69bbd8f2a",
   "metadata": {},
   "outputs": [],
   "source": [
    "import pandas as pd\n",
    "import numpy as np"
   ]
  },
  {
   "cell_type": "code",
   "execution_count": 6,
   "id": "4938f971-b736-4ca4-9d9d-8cd6b0769689",
   "metadata": {},
   "outputs": [
    {
     "data": {
      "text/html": [
       "<div>\n",
       "<style scoped>\n",
       "    .dataframe tbody tr th:only-of-type {\n",
       "        vertical-align: middle;\n",
       "    }\n",
       "\n",
       "    .dataframe tbody tr th {\n",
       "        vertical-align: top;\n",
       "    }\n",
       "\n",
       "    .dataframe thead th {\n",
       "        text-align: right;\n",
       "    }\n",
       "</style>\n",
       "<table border=\"1\" class=\"dataframe\">\n",
       "  <thead>\n",
       "    <tr style=\"text-align: right;\">\n",
       "      <th></th>\n",
       "      <th>Review</th>\n",
       "      <th>Rating</th>\n",
       "    </tr>\n",
       "  </thead>\n",
       "  <tbody>\n",
       "    <tr>\n",
       "      <th>0</th>\n",
       "      <td>Does absolutely nothing for a LinkedIn beginne...</td>\n",
       "      <td>1</td>\n",
       "    </tr>\n",
       "    <tr>\n",
       "      <th>1</th>\n",
       "      <td>Force close(galaxy tab)</td>\n",
       "      <td>1</td>\n",
       "    </tr>\n",
       "    <tr>\n",
       "      <th>2</th>\n",
       "      <td>Slow and it tries to upload your contacts with...</td>\n",
       "      <td>1</td>\n",
       "    </tr>\n",
       "    <tr>\n",
       "      <th>3</th>\n",
       "      <td>Add ability to customize the profile and move ...</td>\n",
       "      <td>4</td>\n",
       "    </tr>\n",
       "    <tr>\n",
       "      <th>4</th>\n",
       "      <td>Good app, but it's a pain that it's not possib...</td>\n",
       "      <td>4</td>\n",
       "    </tr>\n",
       "    <tr>\n",
       "      <th>...</th>\n",
       "      <td>...</td>\n",
       "      <td>...</td>\n",
       "    </tr>\n",
       "    <tr>\n",
       "      <th>697</th>\n",
       "      <td>Can't trust, Going to uninstall just for that ...</td>\n",
       "      <td>1</td>\n",
       "    </tr>\n",
       "    <tr>\n",
       "      <th>698</th>\n",
       "      <td>It really gets me linked in with my friends. H...</td>\n",
       "      <td>5</td>\n",
       "    </tr>\n",
       "    <tr>\n",
       "      <th>699</th>\n",
       "      <td>It lacks most of what makes the other social n...</td>\n",
       "      <td>4</td>\n",
       "    </tr>\n",
       "    <tr>\n",
       "      <th>700</th>\n",
       "      <td>Really disappointed in the new version. Seems ...</td>\n",
       "      <td>2</td>\n",
       "    </tr>\n",
       "    <tr>\n",
       "      <th>701</th>\n",
       "      <td>One of the best looking and well designed apps...</td>\n",
       "      <td>5</td>\n",
       "    </tr>\n",
       "  </tbody>\n",
       "</table>\n",
       "<p>702 rows × 2 columns</p>\n",
       "</div>"
      ],
      "text/plain": [
       "                                                Review  Rating\n",
       "0    Does absolutely nothing for a LinkedIn beginne...       1\n",
       "1                              Force close(galaxy tab)       1\n",
       "2    Slow and it tries to upload your contacts with...       1\n",
       "3    Add ability to customize the profile and move ...       4\n",
       "4    Good app, but it's a pain that it's not possib...       4\n",
       "..                                                 ...     ...\n",
       "697  Can't trust, Going to uninstall just for that ...       1\n",
       "698  It really gets me linked in with my friends. H...       5\n",
       "699  It lacks most of what makes the other social n...       4\n",
       "700  Really disappointed in the new version. Seems ...       2\n",
       "701  One of the best looking and well designed apps...       5\n",
       "\n",
       "[702 rows x 2 columns]"
      ]
     },
     "execution_count": 6,
     "metadata": {},
     "output_type": "execute_result"
    }
   ],
   "source": [
    "df = pd.read_csv(\"linkedin-reviews.csv\")\n",
    "df"
   ]
  },
  {
   "cell_type": "code",
   "execution_count": 7,
   "id": "4912dca1-a972-43f9-b6ad-a02a275b0206",
   "metadata": {},
   "outputs": [],
   "source": [
    "import matplotlib.pyplot as plt\n",
    "import seaborn as sns"
   ]
  },
  {
   "cell_type": "markdown",
   "id": "16e08ff8-6721-4fda-b43e-3134f11040fb",
   "metadata": {},
   "source": [
    "# Exploratory Data Analysis\n",
    "We will start by analyzing the distributions of ratings. It will provide insight into the overall sentiment of the reviews. Then we\n",
    "can explore further, such as analyzing the length of reviews , and possibly derive insights from the text of the reviews.\n",
    "\n",
    "Plotting the Distribution of Ratings"
   ]
  },
  {
   "cell_type": "code",
   "execution_count": 8,
   "id": "ce7da46f-e0af-426c-b390-c2c29eda6019",
   "metadata": {},
   "outputs": [
    {
     "data": {
      "image/png": "[encoded data removed]",
      "text/plain": [
       "<Figure size 800x400 with 1 Axes>"
      ]
     },
     "metadata": {},
     "output_type": "display_data"
    }
   ],
   "source": [
    "sns.set(style = \"whitegrid\")\n",
    "plt.figure(figsize = (8,4))\n",
    "sns.countplot(data = df , x = \"Rating\")\n",
    "plt.title(\"Ratings wise Sentiment\")\n",
    "plt.xlabel(\"Rating\")\n",
    "plt.ylabel(\"Count\")\n",
    "plt.show()"
   ]
  },
  {
   "cell_type": "code",
   "execution_count": 9,
   "id": "acc762a9-1e1a-4a98-973a-44c42493aa03",
   "metadata": {},
   "outputs": [
    {
     "data": {
      "text/html": [
       "<div>\n",
       "<style scoped>\n",
       "    .dataframe tbody tr th:only-of-type {\n",
       "        vertical-align: middle;\n",
       "    }\n",
       "\n",
       "    .dataframe tbody tr th {\n",
       "        vertical-align: top;\n",
       "    }\n",
       "\n",
       "    .dataframe thead th {\n",
       "        text-align: right;\n",
       "    }\n",
       "</style>\n",
       "<table border=\"1\" class=\"dataframe\">\n",
       "  <thead>\n",
       "    <tr style=\"text-align: right;\">\n",
       "      <th></th>\n",
       "      <th>Rating</th>\n",
       "      <th>candidates</th>\n",
       "    </tr>\n",
       "  </thead>\n",
       "  <tbody>\n",
       "    <tr>\n",
       "      <th>0</th>\n",
       "      <td>1</td>\n",
       "      <td>275</td>\n",
       "    </tr>\n",
       "    <tr>\n",
       "      <th>1</th>\n",
       "      <td>2</td>\n",
       "      <td>89</td>\n",
       "    </tr>\n",
       "    <tr>\n",
       "      <th>2</th>\n",
       "      <td>3</td>\n",
       "      <td>121</td>\n",
       "    </tr>\n",
       "    <tr>\n",
       "      <th>3</th>\n",
       "      <td>4</td>\n",
       "      <td>122</td>\n",
       "    </tr>\n",
       "    <tr>\n",
       "      <th>4</th>\n",
       "      <td>5</td>\n",
       "      <td>95</td>\n",
       "    </tr>\n",
       "  </tbody>\n",
       "</table>\n",
       "</div>"
      ],
      "text/plain": [
       "   Rating  candidates\n",
       "0       1         275\n",
       "1       2          89\n",
       "2       3         121\n",
       "3       4         122\n",
       "4       5          95"
      ]
     },
     "execution_count": 9,
     "metadata": {},
     "output_type": "execute_result"
    }
   ],
   "source": [
    "df.groupby('Rating').size().reset_index(name= \"candidates\")"
   ]
  },
  {
   "cell_type": "markdown",
   "id": "c5465beb-5028-42a2-b104-4d7d8cac1098",
   "metadata": {},
   "source": [
    "# Adding Sentiment Labels in the Data\n",
    "We will use Textblob library. Textblob provides a polarity scores raning from -1(very negative) to 1(very positive) for a given text\n",
    ". We can use this score to classify each review's sentiment as positive, negative or neutral."
   ]
  },
  {
   "cell_type": "code",
   "execution_count": 12,
   "id": "e909f579-5401-42a5-a458-cece22e4bca2",
   "metadata": {},
   "outputs": [],
   "source": [
    "#!pip install textblob"
   ]
  },
  {
   "cell_type": "code",
   "execution_count": 13,
   "id": "1f7c016a-128b-43f4-a4e8-d7728c153b43",
   "metadata": {},
   "outputs": [],
   "source": [
    "from textblob import TextBlob"
   ]
  },
  {
   "cell_type": "code",
   "execution_count": 14,
   "id": "834a54e7-b0cd-470d-a50d-b0fe9fc0e97a",
   "metadata": {},
   "outputs": [],
   "source": [
    "def textblob_sentiment_analysis(review):\n",
    "    sentiment = TextBlob(review).sentiment\n",
    "    if sentiment.polarity > 0.1 :\n",
    "        return 'Positive'\n",
    "    elif sentiment.polarity < -0.1 :\n",
    "        return 'Negative'\n",
    "    else :\n",
    "        return 'Neutral'\n"
   ]
  },
  {
   "cell_type": "code",
   "execution_count": 15,
   "id": "79283b24-e7af-4fa9-9d27-d0eadc54c059",
   "metadata": {},
   "outputs": [],
   "source": [
    "df['Sentiment'] = df['Review'].apply(textblob_sentiment_analysis)"
   ]
  },
  {
   "cell_type": "code",
   "execution_count": 18,
   "id": "8a1957be-22f0-4077-955e-83d71618b57e",
   "metadata": {},
   "outputs": [
    {
     "data": {
      "text/html": [
       "<div>\n",
       "<style scoped>\n",
       "    .dataframe tbody tr th:only-of-type {\n",
       "        vertical-align: middle;\n",
       "    }\n",
       "\n",
       "    .dataframe tbody tr th {\n",
       "        vertical-align: top;\n",
       "    }\n",
       "\n",
       "    .dataframe thead th {\n",
       "        text-align: right;\n",
       "    }\n",
       "</style>\n",
       "<table border=\"1\" class=\"dataframe\">\n",
       "  <thead>\n",
       "    <tr style=\"text-align: right;\">\n",
       "      <th></th>\n",
       "      <th>Review</th>\n",
       "      <th>Rating</th>\n",
       "      <th>Sentiment</th>\n",
       "    </tr>\n",
       "  </thead>\n",
       "  <tbody>\n",
       "    <tr>\n",
       "      <th>403</th>\n",
       "      <td>Great app, works fine :-) x8</td>\n",
       "      <td>5</td>\n",
       "      <td>Positive</td>\n",
       "    </tr>\n",
       "    <tr>\n",
       "      <th>29</th>\n",
       "      <td>Looked good but then stopped working HTC desir...</td>\n",
       "      <td>2</td>\n",
       "      <td>Positive</td>\n",
       "    </tr>\n",
       "    <tr>\n",
       "      <th>53</th>\n",
       "      <td>Ok but need landscape mode for xoom</td>\n",
       "      <td>3</td>\n",
       "      <td>Positive</td>\n",
       "    </tr>\n",
       "    <tr>\n",
       "      <th>398</th>\n",
       "      <td>Crash since last update MyTouch 4G</td>\n",
       "      <td>1</td>\n",
       "      <td>Neutral</td>\n",
       "    </tr>\n",
       "    <tr>\n",
       "      <th>312</th>\n",
       "      <td>Linkedin needs to listen to what people want</td>\n",
       "      <td>2</td>\n",
       "      <td>Neutral</td>\n",
       "    </tr>\n",
       "  </tbody>\n",
       "</table>\n",
       "</div>"
      ],
      "text/plain": [
       "                                                Review  Rating Sentiment\n",
       "403                       Great app, works fine :-) x8       5  Positive\n",
       "29   Looked good but then stopped working HTC desir...       2  Positive\n",
       "53                 Ok but need landscape mode for xoom       3  Positive\n",
       "398                 Crash since last update MyTouch 4G       1   Neutral\n",
       "312       Linkedin needs to listen to what people want       2   Neutral"
      ]
     },
     "execution_count": 18,
     "metadata": {},
     "output_type": "execute_result"
    }
   ],
   "source": [
    "df.sample(5)"
   ]
  },
  {
   "cell_type": "markdown",
   "id": "965678da-90c5-40a8-a47e-4c296208f9b9",
   "metadata": {},
   "source": [
    "# Analyzing App Review Sentiments"
   ]
  },
  {
   "cell_type": "code",
   "execution_count": 20,
   "id": "c5b8faa0-5a88-4899-9ff8-c6a5bc2557ad",
   "metadata": {},
   "outputs": [
    {
     "data": {
      "text/plain": [
       "Sentiment\n",
       "Neutral     300\n",
       "Positive    295\n",
       "Negative    107\n",
       "Name: count, dtype: int64"
      ]
     },
     "execution_count": 20,
     "metadata": {},
     "output_type": "execute_result"
    }
   ],
   "source": [
    "df['Sentiment'].value_counts()"
   ]
  },
  {
   "cell_type": "code",
   "execution_count": 22,
   "id": "84c0c9cd-3b24-4196-85fb-66e7519fa7c1",
   "metadata": {},
   "outputs": [
    {
     "data": {
      "text/plain": [
       "<Axes: ylabel='count'>"
      ]
     },
     "execution_count": 22,
     "metadata": {},
     "output_type": "execute_result"
    },
    {
     "data": {
      "image/png": "[encoded data removed]",
      "text/plain": [
       "<Figure size 640x480 with 1 Axes>"
      ]
     },
     "metadata": {},
     "output_type": "display_data"
    }
   ],
   "source": [
    "df['Sentiment'].value_counts().plot(kind = \"pie\" , autopct = \"%.2f\")"
   ]
  },
  {
   "cell_type": "markdown",
   "id": "9309d7d7-ee5f-457b-b05a-ac565b50aab3",
   "metadata": {},
   "source": [
    "# So, we can see althrough the app has low ratings , still the\n",
    "reviewers don't use many negative words in the reviews for the\n",
    "app.\n",
    "Next, we'll explore the relationship between the sentiments and the ratings. This analysis can help us understand whether\n",
    "there is a correlation between the sentiment of the text and numerical ratings."
   ]
  },
  {
   "cell_type": "code",
   "execution_count": 23,
   "id": "5cf5b575-36af-4081-b638-900a62cd9ce5",
   "metadata": {},
   "outputs": [
    {
     "data": {
      "image/png": "[encoded data removed]",
      "text/plain": [
       "<Figure size 1000x500 with 1 Axes>"
      ]
     },
     "metadata": {},
     "output_type": "display_data"
    }
   ],
   "source": [
    "plt.figure(figsize = (10,5))\n",
    "sns.countplot(data = df,\n",
    "            x = 'Rating',\n",
    "            hue = 'Sentiment' )\n",
    "plt.xlabel('Rating')\n",
    "plt.ylabel('Count')\n",
    "plt.legend(title='Sentiment')\n",
    "plt.show()"
   ]
  },
  {
   "cell_type": "markdown",
   "id": "b0e84f2a-b47d-4ae3-b14b-1e4f9dfcad99",
   "metadata": {},
   "source": [
    "# summary\n",
    "App Reviews Sentiment Analysis is a valuable tool for app developers and business to understand user feedback, prioritize\n",
    "feature updates and maintain a positive user community. It involves using data analysis tchniques to determine whether the\n",
    "sentiments in these reviews are positive , negative or neutral."
   ]
  },
  {
   "cell_type": "code",
   "execution_count": null,
   "id": "7bc24f74-793b-44e7-b512-29aaaa488a31",
   "metadata": {},
   "outputs": [],
   "source": []
  }
 ],
 "metadata": {
  "kernelspec": {
   "display_name": "Python 3 (ipykernel)",
   "language": "python",
   "name": "python3"
  },
  "language_info": {
   "codemirror_mode": {
    "name": "ipython",
    "version": 3
   },
   "file_extension": ".py",
   "mimetype": "text/x-python",
   "name": "python",
   "nbconvert_exporter": "python",
   "pygments_lexer": "ipython3",
   "version": "3.13.3"
  }
 },
 "nbformat": 4,
 "nbformat_minor": 5
}
