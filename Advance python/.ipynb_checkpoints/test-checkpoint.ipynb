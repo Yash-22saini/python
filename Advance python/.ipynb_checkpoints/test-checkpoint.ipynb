{
 "cells": [
  {
   "cell_type": "code",
   "execution_count": 7,
   "id": "cd09b00b-1985-4c30-871c-6f684572af1c",
   "metadata": {},
   "outputs": [
    {
     "name": "stdout",
     "output_type": "stream",
     "text": [
      "[1, 2, 3, 4]\n"
     ]
    }
   ],
   "source": [
    "#   1.  Remove duplicates from a list without using set.\n",
    "mylist =[ 1,2,3,4,1,1,2]\n",
    "newlist=[]\n",
    "for i in range(0,len(mylist)):\n",
    "    if(mylist [i ]not in newlist):\n",
    "        newlist.append(mylist[i])\n",
    "print (newlist)\n",
    "        "
   ]
  },
  {
   "cell_type": "code",
   "execution_count": 19,
   "id": "06e4f270-e316-480b-b5fe-2b843156f762",
   "metadata": {},
   "outputs": [
    {
     "name": "stdout",
     "output_type": "stream",
     "text": [
      "2 7\n",
      "3 6\n",
      "4 5\n"
     ]
    }
   ],
   "source": [
    "# 4. # 4. Find all pairs in a list whose sum is equal to a target number.\n",
    "mylist=[1,2,3,4,5,6,7]\n",
    "target=9\n",
    "for i in range(0,len(mylist)):\n",
    "    for j in range(i+1,len(mylist)):\n",
    "        if (mylist[i]+mylist[j]==target):\n",
    "            print(mylist[i],mylist[j])\n",
    "\n"
   ]
  },
  {
   "cell_type": "code",
   "execution_count": 8,
   "id": "71a5cf92-498b-4f01-b5d0-1aae97309b73",
   "metadata": {},
   "outputs": [
    {
     "name": "stdout",
     "output_type": "stream",
     "text": [
      "[1, 2, 3, 4, 5, 6]\n"
     ]
    }
   ],
   "source": [
    "# 2. Write a function that flattens a nested list (e.g., [[1,2],[3,[4,5]],6] → [1,2,3,4,5,6]).\n",
    "\n",
    "def flatten_list(nestedlist):\n",
    "    flat=[]\n",
    "    for i in nestedlist:\n",
    "        if isinstance(i,list):\n",
    "            flat.extend(flatten_list(i))\n",
    "        else:\n",
    "            flat.append(i)\n",
    "    return flat\n",
    "\n",
    "nestedlist=[[1,2],[3,[4,5]],6]\n",
    "print(flatten_list(nestedlist))"
   ]
  },
  {
   "cell_type": "code",
   "execution_count": 9,
   "id": "9bc263dd-24ff-4cb7-93e1-e09f861b69a6",
   "metadata": {},
   "outputs": [
    {
     "name": "stdout",
     "output_type": "stream",
     "text": [
      "[1, 4, 9, 16, 25, 36]\n"
     ]
    }
   ],
   "source": [
    "\n",
    "#11. Use lambda and map to square each number in a list.\n",
    "\n",
    "number = [1, 2, 3,4,5,6]\n",
    "squares = list(map(lambda x: x**2, number))\n",
    "print(squares)"
   ]
  },
  {
   "cell_type": "code",
   "execution_count": 15,
   "id": "a72859a3-b66e-49e7-8338-c1f0133d4251",
   "metadata": {},
   "outputs": [
    {
     "name": "stdout",
     "output_type": "stream",
     "text": [
      "[2, 4, 6]\n"
     ]
    }
   ],
   "source": [
    "#12. Use filter and lambda to get all even numbers from a list.\n",
    "\n",
    "number = [1, 2, 3, 4, 5, 6]\n",
    "evennumber = list(filter(lambda x: x % 2 == 0, number))\n",
    "print(evennumber)"
   ]
  },
  {
   "cell_type": "code",
   "execution_count": 10,
   "id": "8606c9b6-0816-4689-9b68-3cee273bb1d8",
   "metadata": {},
   "outputs": [
    {
     "name": "stdout",
     "output_type": "stream",
     "text": [
      "['Yash', 'Saini', 'Raj', 'Rohit']\n"
     ]
    }
   ],
   "source": [
    "#13. Given a list of names, use map to convert each name to Title Case.\n",
    "\n",
    "name = ['yash', 'saini','raj','rohit']\n",
    "title = list(map(lambda name:name.title(), name))\n",
    "print(title)"
   ]
  },
  {
   "cell_type": "code",
   "execution_count": 22,
   "id": "f821b447-8956-4fb6-bf56-62d323b5d1fb",
   "metadata": {},
   "outputs": [
    {
     "name": "stdout",
     "output_type": "stream",
     "text": [
      "[{'name': 'B', 'age': 31}, {'name': 'c', 'age': 38}]\n"
     ]
    }
   ],
   "source": [
    "#16. Given a list of dictionaries [{name: \"A\", age: 25},...], use filter() to get only those with age > 30.\n",
    "\n",
    "mydictionary = [{'name': 'a', 'age': 25}, {'name': 'b', 'age': 31},{'name' : 'c', 'age':38}]\n",
    "age = list(filter(lambda x: x['age'] > 30, mydictionary))\n",
    "print(age)"
   ]
  },
  {
   "cell_type": "code",
   "execution_count": 39,
   "id": "b267a415-249a-4622-9b74-833bff75a2d6",
   "metadata": {},
   "outputs": [
    {
     "name": "stdout",
     "output_type": "stream",
     "text": [
      "{'a': 1, 'b': 2}\n"
     ]
    }
   ],
   "source": [
    "# #10. Write a function to invert a dictionary: {1: 'a', 2: 'b'} → {'a': 1, 'b': 2}.\n",
    "d =  {1: 'a', 2: 'b'}\n",
    "inverted = {}\n",
    "\n",
    "for key, value in d.items():\n",
    "    inverted[value] = key\n",
    "\n",
    "print(inverted)\n"
   ]
  },
  {
   "cell_type": "code",
   "execution_count": 26,
   "id": "4f2153aa-a22f-4df2-9dc2-af8d01ccce55",
   "metadata": {},
   "outputs": [
    {
     "name": "stdout",
     "output_type": "stream",
     "text": [
      "{'y': 1, 'a': 2, 's': 2, 'h': 1, ' ': 1, 'i': 2, 'n': 1}\n"
     ]
    }
   ],
   "source": [
    " # 7.Count the frequency of each word in a sentence and return a dictionary.\n",
    "name = \"yash saini\"\n",
    "dict = {}\n",
    "\n",
    "for i in name:\n",
    "    if i not in dict:\n",
    "        dict[i] = 1\n",
    "    else:\n",
    "        dict[i] += 1\n",
    "print(dict)"
   ]
  },
  {
   "cell_type": "code",
   "execution_count": 11,
   "id": "a1c72cca-038e-4ce6-8698-a672f6d34c15",
   "metadata": {},
   "outputs": [
    {
     "name": "stdout",
     "output_type": "stream",
     "text": [
      "Repeated \n",
      "{'yash': 3, 'aman': 2}\n"
     ]
    }
   ],
   "source": [
    "#20. Implement a frequency counter using list comprehension and dictionary.\n",
    "\n",
    "names = [ 'yash' ,'aman' , 'roy' , 'karan', 'yash' , 'aman' , 'yash']\n",
    "\n",
    "count = {}\n",
    "for name in names:\n",
    "    if name in count:\n",
    "        count[name] += 1\n",
    "    else:\n",
    "        count[name] = 1\n",
    "\n",
    "my_dict = {}\n",
    "\n",
    "for name, count in count.items():\n",
    "    if count > 1:\n",
    "        my_dict[name] = count\n",
    "\n",
    "print(\"Repeated \")\n",
    "print(my_dict)\n"
   ]
  },
  {
   "cell_type": "code",
   "execution_count": 12,
   "id": "3804e0de-b706-4a5c-9359-b597afb69514",
   "metadata": {},
   "outputs": [
    {
     "name": "stdout",
     "output_type": "stream",
     "text": [
      "{'apple': 2, 'banana': 3, 'orange': 1}\n"
     ]
    }
   ],
   "source": [
    "#20. Implement a frequency counter using list comprehension and dictionary.\n",
    "items = ['apple', 'banana', 'orange', 'apple', 'banana', 'banana']\n",
    "\n",
    "\n",
    "frequency_counter = {item: items.count(item) for item in items}\n",
    "\n",
    "print(frequency_counter)\n"
   ]
  },
  {
   "cell_type": "code",
   "execution_count": 13,
   "id": "85f01a53-79c7-4d1f-afba-af062f5d3579",
   "metadata": {},
   "outputs": [
    {
     "name": "stdout",
     "output_type": "stream",
     "text": [
      "{'a': [1, 3], 'b': [2]}\n"
     ]
    }
   ],
   "source": [
    "#5. Given a list of tuples like [('a',1), ('b',2), ('a',3)], write a function to group values by key into a dictionary.\n",
    "a =  [('a',1), ('b',2), ('a',3)]\n",
    "\n",
    "def group_values(a):\n",
    "  b = {}\n",
    "\n",
    "  for key, value in a:\n",
    "      if key not in b:\n",
    "          b[key] = []\n",
    "      b[key].append(value)\n",
    "  print(b)\n",
    "\n",
    "\n",
    "group_values(a)\n"
   ]
  },
  {
   "cell_type": "code",
   "execution_count": 14,
   "id": "bb51f878-07ec-4299-8133-52e0061f73ff",
   "metadata": {},
   "outputs": [
    {
     "name": "stdout",
     "output_type": "stream",
     "text": [
      "(7, 8)\n"
     ]
    }
   ],
   "source": [
    "#6. Write a function that takes a list of tuples and returns a tuple with the max sum of its elements.\n",
    "\n",
    "tuples_list = [(1, 2), (3, 4), (5, 6), (7, 8)]\n",
    "\n",
    "\n",
    "def max_sum_tuple(tuples_list):\n",
    "  temp = []\n",
    "\n",
    "  for i in tuples_list:\n",
    "    temp.append(sum(i))\n",
    "\n",
    "  return tuples_list[temp.index(max(temp))]\n",
    "\n",
    "\n",
    "\n",
    "result = max_sum_tuple(tuples_list)\n",
    "print(result)  \n"
   ]
  },
  {
   "cell_type": "code",
   "execution_count": 16,
   "id": "70f63c0d-76af-439e-81e2-060b4bab873e",
   "metadata": {},
   "outputs": [
    {
     "name": "stdout",
     "output_type": "stream",
     "text": [
      "{'a': 1, 'b': 5, 'c': 4}\n"
     ]
    }
   ],
   "source": [
    "##8. Merge two dictionaries. If a key appears in both, sum their values.\n",
    "dictionary1 = {'a': 1, 'b': 2}\n",
    "dictionary2 = {'b': 3, 'c': 4}\n",
    "\n",
    "for i in dictionary2:\n",
    "    if i not in dictionary1:\n",
    "        dictionary1[i] = dictionary2[i]\n",
    "    else:\n",
    "        dictionary1[i]+= dictionary2[i]\n",
    "print(dictionary1)\n",
    "\n"
   ]
  },
  {
   "cell_type": "code",
   "execution_count": 21,
   "id": "af0cd119-9072-48a8-b91b-bac6dee20e54",
   "metadata": {},
   "outputs": [
    {
     "name": "stdout",
     "output_type": "stream",
     "text": [
      "24\n"
     ]
    }
   ],
   "source": [
    "#14.Use a function with argument and parameter to find the product.\n",
    "list=[1,2,3,4]\n",
    "\n",
    "def product(list):\n",
    "    product = 1\n",
    "    for i in list:\n",
    "\n",
    "        product *= i\n",
    "    return product\n",
    "print(product(list))\n",
    "\n",
    "\n"
   ]
  },
  {
   "cell_type": "code",
   "execution_count": 1,
   "id": "56af35b8-b4d5-4254-b2a5-f322942509b0",
   "metadata": {},
   "outputs": [
    {
     "data": {
      "text/plain": [
       "[6, 8, 10, 12]"
      ]
     },
     "execution_count": 1,
     "metadata": {},
     "output_type": "execute_result"
    }
   ],
   "source": [
    "#15.  Use map() and lambda to combine two lists element-wise into sums.\n",
    "a = [1,2,3,4]\n",
    "b = [5,6,7,8]\n",
    "\n",
    "sum = map(lambda x,y: x+y, a,b)\n",
    "c= list(sum)\n",
    "c"
   ]
  },
  {
   "cell_type": "code",
   "execution_count": 31,
   "id": "59a5c610-df4a-4800-9292-f24d8f611dbd",
   "metadata": {},
   "outputs": [
    {
     "name": "stdout",
     "output_type": "stream",
     "text": [
      "{'a': 1, 'b': 2, 'c': 3}\n"
     ]
    }
   ],
   "source": [
    "#18. Create a dictionary from two lists, one of keys and one of values.\n",
    "key = ['a', 'b', 'c']\n",
    "value = [1, 2, 3]\n",
    "my_dict = {}\n",
    "for i in range(len(key)):\n",
    "    my_dict[key[i]] = value[i]\n",
    "\n",
    "print(my_dict)\n"
   ]
  },
  {
   "cell_type": "code",
   "execution_count": 38,
   "id": "8b21f615-b9cb-4922-b489-fd27a2ce8738",
   "metadata": {},
   "outputs": [
    {
     "name": "stdout",
     "output_type": "stream",
     "text": [
      "[4, 5, 1, 2, 3]\n"
     ]
    }
   ],
   "source": [
    "\n",
    "#####3 3. Rotate a list to the right by k steps (e.g., [1,2,3,4,5], k=2 → [4,5,1,2,3]).\n",
    "a = [1,2,3,4,5]\n",
    "k = 2\n",
    "rotated_list = a[-k:] + a[:-k]\n",
    "print(rotated_list)\n"
   ]
  },
  {
   "cell_type": "code",
   "execution_count": 40,
   "id": "f5c1bfef-1af7-4862-aafd-75dc8c9e7467",
   "metadata": {},
   "outputs": [
    {
     "name": "stdout",
     "output_type": "stream",
     "text": [
      "h\n"
     ]
    }
   ],
   "source": [
    "#####17. Write a function that finds the first non-repeating character in a string.\n",
    "word = \"hello world\"\n",
    "\n",
    "def first_non_repeating_char(word):\n",
    "    for char in word:\n",
    "        if word.count(char) == 1:\n",
    "            return char\n",
    "    return None\n",
    "\n",
    "print(first_non_repeating_char(word))"
   ]
  },
  {
   "cell_type": "code",
   "execution_count": 42,
   "id": "df791d58-e938-4193-9f40-c140180040e1",
   "metadata": {},
   "outputs": [],
   "source": [
    "# Case Study: Sales and Inventory Management System\n",
    "# Objective:\n",
    "# Design a Python-based system for a retail company that manages inventory, sales, and profit tracking using Object-Oriented Programming. The company wants to:\n",
    "# Add new products.\n",
    "# Update stock.\n",
    "# Record customer purchases.\n",
    "# Automatically update inventory.\n",
    "# Calculate total revenue and profit per product.\n",
    "\n",
    "# Entities & Structure:\n",
    "# Product: Represents individual items.\n",
    "# Inventory: Manages the collection of products.\n",
    "# SalesRecord: Logs each sale and helps compute revenue and profit.\n",
    "# StoreManager: Interface to interact with all operations.\n",
    "\n",
    "\n",
    "class Product:\n",
    "    def __init__(self, name, stock):\n",
    "        self.name = name\n",
    "        self.stock = stock\n",
    "        \n",
    "class Inventory:\n",
    "    def __init__(self):\n",
    "        self.products = {}\n",
    "\n",
    "    def add_product(self, stock):\n",
    "        product = Product(name, stock)\n",
    "        self.products[name] = product\n",
    "\n",
    "    def update_stock(self, name, quantity):\n",
    "        if name in self.products:\n",
    "            self.products[name].update_stock(quantity)\n",
    "            prin\"Stock updated for {name}.\")\n",
    "        else:t(f\n",
    "            print(f\"{name} not found in inventory.\")\n",
    "\n",
    "    def sell_product(self, name, quantity):\n",
    "        if name in self.products:\n",
    "            self.products[name].sell(quantity)\n",
    "        else:\n",
    "            print(f\"{name} not found in inventory.\")\n",
    "\n",
    "    def show_all_products(self):\n",
    "        print(\"Inventory \")\n",
    "        for product in self.products.values():\n",
    "            product.show_details()\n",
    "\n",
    "\n"
   ]
  },
  {
   "cell_type": "code",
   "execution_count": 2,
   "id": "ab7a88db-1ed7-4cd0-82e5-4d5a13517cf6",
   "metadata": {},
   "outputs": [
    {
     "name": "stdout",
     "output_type": "stream",
     "text": [
      "Pen added to inventory.\n",
      "Notebook added to inventory.\n",
      "Stock updated for Pen.\n",
      "30 units of Pen sold.\n",
      "10 units of Notebook sold.\n",
      "Not enough stock for Notebook.\n",
      "\n",
      "===== Inventory Report =====\n",
      "Product: Pen\n",
      "Cost Price: ₹5\n",
      "Selling Price: ₹10\n",
      "Stock: 90\n",
      "Total Revenue: ₹300\n",
      "Total Profit: ₹150\n",
      "------------------------------\n",
      "Product: Notebook\n",
      "Cost Price: ₹20\n",
      "Selling Price: ₹35\n",
      "Stock: 40\n",
      "Total Revenue: ₹350\n",
      "Total Profit: ₹150\n",
      "------------------------------\n"
     ]
    }
   ],
   "source": [
    "\n",
    "class Product:\n",
    "    def __init__(self, name, cost_price, selling_price, stock):\n",
    "        self.name = name\n",
    "        self.cost_price = cost_price\n",
    "        self.selling_price = selling_price\n",
    "        self.stock = stock\n",
    "        self.revenue = 0\n",
    "        self.profit = 0\n",
    "\n",
    "    def update_stock(self, quantity):\n",
    "        self.stock += quantity\n",
    "\n",
    "    def sell(self, quantity):\n",
    "        if quantity <= self.stock:\n",
    "            self.stock -= quantity\n",
    "            sale_amount = self.selling_price * quantity\n",
    "            cost_amount = self.cost_price * quantity\n",
    "            self.revenue += sale_amount\n",
    "            self.profit += (sale_amount - cost_amount)\n",
    "            print(f\"{quantity} units of {self.name} sold.\")\n",
    "        else:\n",
    "            print(f\"Not enough stock for {self.name}.\")\n",
    "\n",
    "    def show_details(self):\n",
    "        print(f\"Product: {self.name}\")\n",
    "        print(f\"Cost Price: ₹{self.cost_price}\")\n",
    "        print(f\"Selling Price: ₹{self.selling_price}\")\n",
    "        print(f\"Stock: {self.stock}\")\n",
    "        print(f\"Total Revenue: ₹{self.revenue}\")\n",
    "        print(f\"Total Profit: ₹{self.profit}\")\n",
    "        print(\"-\" * 30)\n",
    "\n",
    "\n",
    "# Inventory class\n",
    "class Inventory:\n",
    "    def __init__(self):\n",
    "        self.products = {}\n",
    "\n",
    "    def add_product(self, name, cost_price, selling_price, stock):\n",
    "        product = Product(name, cost_price, selling_price, stock)\n",
    "        self.products[name] = product\n",
    "        print(f\"{name} added to inventory.\")\n",
    "\n",
    "    def update_stock(self, name, quantity):\n",
    "        if name in self.products:\n",
    "            self.products[name].update_stock(quantity)\n",
    "            print(f\"Stock updated for {name}.\")\n",
    "        else:\n",
    "            print(f\"{name} not found in inventory.\")\n",
    "\n",
    "    def sell_product(self, name, quantity):\n",
    "        if name in self.products:\n",
    "            self.products[name].sell(quantity)\n",
    "        else:\n",
    "            print(f\"{name} not found in inventory.\")\n",
    "\n",
    "    def show_all_products(self):\n",
    "        print(\"\\n===== Inventory Report =====\")\n",
    "        for product in self.products.values():\n",
    "            product.show_details()\n",
    "\n",
    "\n",
    "inventory = Inventory()\n",
    "\n",
    "# Add products\n",
    "inventory.add_product(\"Pen\", 5, 10, 100)\n",
    "inventory.add_product(\"Notebook\", 20, 35, 50)\n",
    "\n",
    "# Update stock\n",
    "inventory.update_stock(\"Pen\", 20)\n",
    "\n",
    "# Make some sales\n",
    "inventory.sell_product(\"Pen\", 30)\n",
    "inventory.sell_product(\"Notebook\", 10)\n",
    "inventory.sell_product(\"Notebook\", 100)  # Should show stock not enough\n",
    "\n",
    "# Show final report\n",
    "inventory.show_all_products()\n"
   ]
  },
  {
   "cell_type": "code",
   "execution_count": null,
   "id": "b529c076-e132-471b-8722-e414777c9912",
   "metadata": {},
   "outputs": [],
   "source": []
  }
 ],
 "metadata": {
  "kernelspec": {
   "display_name": "Python 3 (ipykernel)",
   "language": "python",
   "name": "python3"
  },
  "language_info": {
   "codemirror_mode": {
    "name": "ipython",
    "version": 3
   },
   "file_extension": ".py",
   "mimetype": "text/x-python",
   "name": "python",
   "nbconvert_exporter": "python",
   "pygments_lexer": "ipython3",
   "version": "3.13.3"
  }
 },
 "nbformat": 4,
 "nbformat_minor": 5
}
