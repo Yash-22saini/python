{
 "cells": [
  {
   "cell_type": "code",
   "execution_count": 1,
   "id": "490126a8-66bb-4d86-b766-f01e08629c75",
   "metadata": {},
   "outputs": [
    {
     "name": "stdout",
     "output_type": "stream",
     "text": [
      "vehicle is moving\n",
      "car is moving \n"
     ]
    }
   ],
   "source": [
    "#single inheritance\n",
    "class vehicle:\n",
    "    def move(self):\n",
    "        print(\"vehicle is moving\")\n",
    "\n",
    "class car(vehicle):\n",
    "    def move(self):\n",
    "        print(\"car is moving \")\n",
    "\n",
    "vehicle= vehicle()\n",
    "car = car()\n",
    "\n",
    "vehicle.move()\n",
    "car.move()"
   ]
  },
  {
   "cell_type": "code",
   "execution_count": 8,
   "id": "154ea7d8-853a-42b5-806c-5efa82601b67",
   "metadata": {},
   "outputs": [
    {
     "name": "stdout",
     "output_type": "stream",
     "text": [
      "student plays basketball\n",
      "I am a student-athlete\n"
     ]
    }
   ],
   "source": [
    "#multi inheritance \n",
    "class student:\n",
    "    def study(self):\n",
    "        print(\"student is studying \")\n",
    "\n",
    "class sports:\n",
    "    def sport(self):\n",
    "        print(\"student plays basketball\")\n",
    "\n",
    "class Athlete(student,sports):\n",
    "    def introduce(self):\n",
    "        print(\"I am a student-athlete\")\n",
    "\n",
    "# Object\n",
    "stud=Athlete()\n",
    "stud.sport()\n",
    "stud.introduce()\n"
   ]
  },
  {
   "cell_type": "code",
   "execution_count": 9,
   "id": "c0306590-4ea3-4ef9-8610-6de521b7667d",
   "metadata": {},
   "outputs": [
    {
     "name": "stdout",
     "output_type": "stream",
     "text": [
      "This is a vehicle\n",
      "This is a car\n",
      "This is a sports car\n"
     ]
    }
   ],
   "source": [
    "#multi level inheritance\n",
    "class Vehicle:\n",
    "    def info(self):\n",
    "        print(\"This is a vehicle\")\n",
    "\n",
    "class Car(Vehicle):\n",
    "    def car_info(self):\n",
    "        print(\"This is a car\")\n",
    "\n",
    "class SportsCar(Car):\n",
    "    def sportscar_info(self):\n",
    "        print(\"This is a sports car\")\n",
    "\n",
    "# Object \n",
    "sc = SportsCar()\n",
    "sc.info()     \n",
    "sc.car_info()         \n",
    "sc.sportscar_info()   \n"
   ]
  },
  {
   "cell_type": "markdown",
   "id": "ae731595-d663-40ad-bad3-9850be0fa9f4",
   "metadata": {
    "jp-MarkdownHeadingCollapsed": true
   },
   "source": []
  },
  {
   "cell_type": "code",
   "execution_count": null,
   "id": "2a906f71-b6fb-4d8e-8261-f6583aa4a3c9",
   "metadata": {},
   "outputs": [],
   "source": [
    "#encapsulation\n",
    "class Person:\n",
    "    def __init__(self, name, age):\n",
    "        self.__name = name    \n",
    "        self.__age = age      \n",
    "\n",
    "    def get_name(self):\n",
    "        return self.__name\n",
    "\n",
    "    def set_name(self, name):\n",
    "        self.__name = name\n",
    "\n",
    "    def get_age(self):\n",
    "        return self.__age\n",
    "\n",
    "    def set_age(self, age):\n",
    "        if age > 0:\n",
    "            self.__age = age\n",
    "        else:\n",
    "            print(\"Invalid age\")\n",
    "\n",
    "p = Person(\"Alice\", 25)\n",
    "\n",
    "print(p.get_name())  \n",
    "\n",
    "p.set_age(30)\n",
    "print(p.get_age())   \n"
   ]
  },
  {
   "cell_type": "markdown",
   "id": "d3f54997-5d44-4b0e-a9e5-75444b897589",
   "metadata": {
    "jp-MarkdownHeadingCollapsed": true
   },
   "source": [
    "#recursive question\n",
    "numpy "
   ]
  }
 ],
 "metadata": {
  "kernelspec": {
   "display_name": "Python 3 (ipykernel)",
   "language": "python",
   "name": "python3"
  },
  "language_info": {
   "codemirror_mode": {
    "name": "ipython",
    "version": 3
   },
   "file_extension": ".py",
   "mimetype": "text/x-python",
   "name": "python",
   "nbconvert_exporter": "python",
   "pygments_lexer": "ipython3",
   "version": "3.13.3"
  }
 },
 "nbformat": 4,
 "nbformat_minor": 5
}
